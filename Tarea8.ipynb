{
 "cells": [
  {
   "cell_type": "code",
   "execution_count": 159,
   "metadata": {},
   "outputs": [],
   "source": [
    "#%pip install agentpy\n",
    "#%pip install owlready2"
   ]
  },
  {
   "cell_type": "code",
   "execution_count": 160,
   "metadata": {},
   "outputs": [],
   "source": [
    "from owlready2 import *\n",
    "# Model design\n",
    "import agentpy as ap\n",
    "import numpy as np\n",
    "# Visualization\n",
    "import seaborn as sns"
   ]
  },
  {
   "cell_type": "code",
   "execution_count": 161,
   "metadata": {},
   "outputs": [],
   "source": [
    "#Tienda\n",
    "\n",
    "onto = get_ontology(\"wealth_ontology.owl\").load()\n",
    "\n",
    "#if onto is not None:\n",
    "#    onto.destroy()\n",
    "\n",
    "with onto: \n",
    "    class Agent(Thing):\n",
    "        pass\n",
    "    class TiendaAgente(Agent):\n",
    "        pass\n",
    "    class DineroEnTienda(Thing):\n",
    "        pass\n",
    "    class obtener_dinero(FunctionalProperty, ObjectProperty):\n",
    "        domain = [TiendaAgente]\n",
    "        range = [DineroEnTienda]\n",
    "    class has_id(FunctionalProperty, DataProperty):\n",
    "        domain = [Agent]\n",
    "        range = [int]\n",
    "    class dinero_value(FunctionalProperty, DataProperty):\n",
    "        domain = [DineroEnTienda]\n",
    "        range = [int]\n",
    "    class AgenteFinanciero(Agent):\n",
    "        pass\n",
    "    \n",
    "    class DineroFinanciero(Thing):\n",
    "        pass   \n",
    "    \n",
    "    class has_inversion(FunctionalProperty, ObjectProperty):\n",
    "        domain = [AgenteFinanciero]\n",
    "        range = [DineroFinanciero]\n",
    "\n",
    "    # Propiedad para representar la cantidad de dinero financiero (valor numérico)\n",
    "    class inversion_value(FunctionalProperty, DataProperty):\n",
    "        domain = [DineroFinanciero]\n",
    "        range = [int]\n",
    "    "
   ]
  },
  {
   "cell_type": "code",
   "execution_count": 162,
   "metadata": {},
   "outputs": [],
   "source": [
    "onto.save(file=\"wealth_ontology.owl\")"
   ]
  },
  {
   "cell_type": "code",
   "execution_count": 163,
   "metadata": {},
   "outputs": [],
   "source": [
    "class Message():\n",
    "    environment_buffer = []\n",
    "    def __init__(self,sender=None,receiver=None,performative=None,content=None):\n",
    "        self.sender = sender\n",
    "        self.receiver = receiver\n",
    "        self.performative = performative\n",
    "        self.content = content\n",
    "    def __str__(self):\n",
    "        return f\"\\n\\\n",
    "        Sender: {self.sender}, \\n\\\n",
    "        Receiver: {self.receiver}, \\n\\\n",
    "        Performative: {self.performative}, \\n\\\n",
    "        Content: {self.content}\"\n",
    "    def send(self):\n",
    "        \"\"\"\n",
    "        The send function is used to send a message to the environment buffer.\n",
    "        \"\"\"\n",
    "        Message.environment_buffer.append(self)\n"
   ]
  },
  {
   "cell_type": "code",
   "execution_count": null,
   "metadata": {},
   "outputs": [],
   "source": []
  },
  {
   "cell_type": "code",
   "execution_count": 164,
   "metadata": {},
   "outputs": [],
   "source": [
    "class TiendaAgente(ap.Agent):\n",
    "    \"\"\"Agente - Mariana\"\"\"\n",
    "    def setup(self):\n",
    "        self.recordedDinero = 0\n",
    "        self.myself = onto.TiendaAgente()\n",
    "        self.myself.has_id = self.id\n",
    "        self.myself.has_dinero = onto.DineroEnTienda(dinero_value=0)\n",
    "    \n",
    "    def step(self):\n",
    "        self.take_msg()\n",
    "        self.recordedDinero = self.myself.has_dinero.dinero_value\n",
    "\n",
    "    def take_msg(self):\n",
    "        for msg in Message.environment_buffer:\n",
    "            if msg.receiver == self.id:\n",
    "                if msg.performative == \"dardinero\":\n",
    "                    # Update own belief about wealth, using message content\n",
    "                    self.myself.has_dinero.dinero_value += msg.content[\"dardinero\"]\n",
    "                    Message.environment_buffer.remove(msg)\n",
    "                elif msg.performative == \"darpedido\": \n",
    "                    self.dar_pedido(msg.content[\"cantidad\"])\n",
    "\n",
    "    \n",
    "    def dar_pedido(self, num):\n",
    "        #TODO: cambiar sender.id a repartidor\n",
    "        msg = Message(sender=self.id, receiver=0, performative=\"dardinero\",content={\"item\":1, \"cantidad\": num})\n",
    "        msg.send()\n",
    "    \n"
   ]
  },
  {
   "cell_type": "code",
   "execution_count": null,
   "metadata": {},
   "outputs": [],
   "source": [
    "class AgenteFinanciero(ap.Agent):\n",
    "    \"\"\"Agente que maneja dinero financiero, inversiones, etc.\"\"\"\n",
    "    def setup(self):\n",
    "\n",
    "        self.inversionActual = 0\n",
    "        \n",
    "        self.myself = onto.AgenteFinanciero()\n",
    "        self.myself.has_id = self.id\n",
    "        \n",
    "        self.myself.has_inversion = onto.DineroFinanciero(inversion_value=0)\n",
    "    \n",
    "    def step(self):\n",
    "        \"\"\"\n",
    "        En cada paso, el agente revisa los mensajes y actualiza\n",
    "        su conocimiento sobre el dinero financiero.\n",
    "        \"\"\"\n",
    "        self.take_msg()\n",
    "        self.inversionActual = self.myself.has_inversion.inversion_value\n",
    "        \n",
    "    def take_msg(self):\n",
    "        \n",
    "        for msg in Message.environment_buffer:\n",
    "            if msg.receiver == self.id:\n",
    "                \n",
    "                if msg.performative == \"invertir\":\n",
    "                    cantidad = msg.content.get(\"cantidad\", 0)\n",
    "                    self.myself.has_inversion.inversion_value += cantidad\n",
    "                    print(f\"AgenteFinanciero (ID {self.id}) recibe inversión de {cantidad}.\")\n",
    "                    \n",
    "                    Message.environment_buffer.remove(msg)\n",
    "                \n"
   ]
  },
  {
   "cell_type": "code",
   "execution_count": 165,
   "metadata": {},
   "outputs": [],
   "source": [
    "class VentasModel(ap.Model):\n",
    "    def setup(self):\n",
    "        self.agentsTienda = ap.AgentList(self, self.p.agents, TiendaAgente)\n",
    "    def step(self):\n",
    "        self.agentsTienda.step()\n",
    "    def update(self):\n",
    "        self.record(\"Dinero obtenido\", self.agentsTienda.recorded_Dinero)\n",
    "    def end(self):\n",
    "        return"
   ]
  },
  {
   "cell_type": "code",
   "execution_count": 166,
   "metadata": {},
   "outputs": [],
   "source": [
    "parameters = {\n",
    "    'agents': 100,\n",
    "    'steps': 100\n",
    "}"
   ]
  },
  {
   "cell_type": "code",
   "execution_count": 167,
   "metadata": {},
   "outputs": [
    {
     "name": "stdout",
     "output_type": "stream",
     "text": [
      "Completed: 100 steps\n",
      "Run time: 0:00:00.021651\n",
      "Simulation finished\n"
     ]
    }
   ],
   "source": [
    "model = VentasModel(parameters)\n",
    "results = model.run()"
   ]
  },
  {
   "cell_type": "code",
   "execution_count": 168,
   "metadata": {},
   "outputs": [
    {
     "data": {
      "text/plain": [
       "DataDict {\n",
       "'info': Dictionary with 9 keys\n",
       "'parameters': \n",
       "    'constants': Dictionary with 2 keys\n",
       "'variables': \n",
       "    'VentasModel': DataFrame with 1 variable and 101 rows\n",
       "'reporters': DataFrame with 1 variable and 1 row\n",
       "}"
      ]
     },
     "execution_count": 168,
     "metadata": {},
     "output_type": "execute_result"
    }
   ],
   "source": [
    "results"
   ]
  }
 ],
 "metadata": {
  "kernelspec": {
   "display_name": "Python 3",
   "language": "python",
   "name": "python3"
  },
  "language_info": {
   "codemirror_mode": {
    "name": "ipython",
    "version": 3
   },
   "file_extension": ".py",
   "mimetype": "text/x-python",
   "name": "python",
   "nbconvert_exporter": "python",
   "pygments_lexer": "ipython3",
   "version": "3.12.6"
  }
 },
 "nbformat": 4,
 "nbformat_minor": 2
}
