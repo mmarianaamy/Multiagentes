{
 "cells": [
  {
   "cell_type": "code",
   "execution_count": 10,
   "metadata": {},
   "outputs": [],
   "source": [
    "#%pip install agentpy\n",
    "#%pip install owlready2"
   ]
  },
  {
   "cell_type": "code",
   "execution_count": 11,
   "metadata": {},
   "outputs": [],
   "source": [
    "from owlready2 import *\n",
    "# Model design\n",
    "import agentpy as ap\n",
    "import numpy as np\n",
    "# Visualization\n",
    "import seaborn as sns"
   ]
  },
  {
   "cell_type": "code",
   "execution_count": 12,
   "metadata": {},
   "outputs": [],
   "source": [
    "onto = get_ontology(\"wealth_ontology.owl\").load()"
   ]
  },
  {
   "cell_type": "code",
   "execution_count": 13,
   "metadata": {},
   "outputs": [],
   "source": [
    "#Tienda\n",
    "\n",
    "with onto: \n",
    "    class Agent(Thing):\n",
    "        pass\n",
    "    class TiendaAgente(Agent):\n",
    "        pass\n",
    "    class PedidosEnTienda(Thing):\n",
    "        pass\n",
    "    class has_pedidos(FunctionalProperty, ObjectProperty):\n",
    "        domain = [TiendaAgente]\n",
    "        range = [PedidosEnTienda]"
   ]
  },
  {
   "cell_type": "code",
   "execution_count": 14,
   "metadata": {},
   "outputs": [],
   "source": [
    "class Message():\n",
    "    environment_buffer = []\n",
    "    def __init__(self,sender=None,receiver=None,performative=None,content=None):\n",
    "        self.sender = sender\n",
    "        self.receiver = receiver\n",
    "        self.performative = performative\n",
    "        self.content = content\n",
    "    def __str__(self):\n",
    "        return f\"\\n\\\n",
    "        Sender: {self.sender}, \\n\\\n",
    "        Receiver: {self.receiver}, \\n\\\n",
    "        Performative: {self.performative}, \\n\\\n",
    "        Content: {self.content}\"\n",
    "    def send(self):\n",
    "        \"\"\"\n",
    "        The send function is used to send a message to the environment buffer.\n",
    "        \"\"\"\n",
    "        Message.environment_buffer.append(self)\n"
   ]
  },
  {
   "cell_type": "code",
   "execution_count": 15,
   "metadata": {},
   "outputs": [],
   "source": [
    "class TiendaAgente(ap.Agent):\n",
    "    def setup(self):\n",
    "        self.recordedPedidos = []"
   ]
  }
 ],
 "metadata": {
  "kernelspec": {
   "display_name": "Python 3",
   "language": "python",
   "name": "python3"
  },
  "language_info": {
   "codemirror_mode": {
    "name": "ipython",
    "version": 3
   },
   "file_extension": ".py",
   "mimetype": "text/x-python",
   "name": "python",
   "nbconvert_exporter": "python",
   "pygments_lexer": "ipython3",
   "version": "3.12.6"
  }
 },
 "nbformat": 4,
 "nbformat_minor": 2
}
