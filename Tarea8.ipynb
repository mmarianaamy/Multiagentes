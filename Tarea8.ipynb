{
 "cells": [
  {
   "cell_type": "code",
   "execution_count": 159,
   "metadata": {},
   "outputs": [],
   "source": [
    "#%pip install agentpy\n",
    "#%pip install owlready2"
   ]
  },
  {
   "cell_type": "code",
   "execution_count": 4,
   "metadata": {},
   "outputs": [],
   "source": [
    "from owlready2 import *\n",
    "# Model design\n",
    "import agentpy as ap\n",
    "import numpy as np\n",
    "# Visualization\n",
    "import seaborn as sns"
   ]
  },
  {
   "cell_type": "code",
   "execution_count": 16,
   "metadata": {},
   "outputs": [],
   "source": [
    "#Tienda\n",
    "\n",
    "onto = get_ontology(\"wealth_ontology.owl\").load()\n",
    "\n",
    "if onto is not None:\n",
    "    onto.destroy()\n",
    "\n",
    "with onto: \n",
    "    class Agent(Thing):\n",
    "        pass\n",
    "    class TiendaAgente(Agent):\n",
    "        pass\n",
    "    class CompradorAgente(Agent):\n",
    "        pass\n",
    "    class DineroEnTienda(Thing):\n",
    "        pass\n",
    "    class DineroComprador(Thing):\n",
    "        pass\n",
    "    class Productos(Thing):\n",
    "        pass\n",
    "    \n",
    "    class obtener_dinero(FunctionalProperty, ObjectProperty):\n",
    "        domain = [TiendaAgente]\n",
    "        range = [DineroEnTienda]\n",
    "        \n",
    "    class dinero_value(FunctionalProperty, DataProperty):\n",
    "        domain = [DineroEnTienda]\n",
    "        range = [int]\n",
<<<<<<< HEAD
    "    class AgenteFinanciero(Agent):\n",
    "        pass\n",
    "    \n",
    "    class DineroFinanciero(Thing):\n",
    "        pass   \n",
    "    \n",
    "    class has_inversion(FunctionalProperty, ObjectProperty):\n",
    "        domain = [AgenteFinanciero]\n",
    "        range = [DineroFinanciero]\n",
    "\n",
    "    # Propiedad para representar la cantidad de dinero financiero (valor numérico)\n",
    "    class inversion_value(FunctionalProperty, DataProperty):\n",
    "        domain = [DineroFinanciero]\n",
    "        range = [int]\n",
    "    "
=======
    "        \n",
    "    class dinero_disponible(FunctionalProperty, DataProperty):\n",
    "        domain = [DineroComprador]\n",
    "        range = [int]\n",
    "        \n",
    "    class realizar_compra(ObjectProperty):\n",
    "        domain = [CompradorAgente]\n",
    "        range = [Productos]\n",
    "        \n",
    "    class has_id(FunctionalProperty, DataProperty):\n",
    "        domain = [Agent]\n",
    "        range = [int]\n"
>>>>>>> ce9bd0aa7d75fbba26e5d965d18e4328a79a4fab
   ]
  },
  {
   "cell_type": "code",
   "execution_count": 18,
   "metadata": {},
   "outputs": [
    {
     "ename": "TypeError",
     "evalue": "'NoneType' object is not subscriptable",
     "output_type": "error",
     "traceback": [
      "\u001b[1;31m---------------------------------------------------------------------------\u001b[0m",
      "\u001b[1;31mTypeError\u001b[0m                                 Traceback (most recent call last)",
      "Cell \u001b[1;32mIn[18], line 1\u001b[0m\n\u001b[1;32m----> 1\u001b[0m \u001b[43monto\u001b[49m\u001b[38;5;241;43m.\u001b[39;49m\u001b[43msave\u001b[49m\u001b[43m(\u001b[49m\u001b[43mfile\u001b[49m\u001b[38;5;241;43m=\u001b[39;49m\u001b[38;5;124;43m\"\u001b[39;49m\u001b[38;5;124;43mwealth_ontology.owl\u001b[39;49m\u001b[38;5;124;43m\"\u001b[39;49m\u001b[43m)\u001b[49m\n",
      "File \u001b[1;32mc:\\Users\\sofia\\AppData\\Local\\Programs\\Python\\Python312\\Lib\\site-packages\\owlready2\\namespace.py:1104\u001b[0m, in \u001b[0;36mOntology.save\u001b[1;34m(self, file, format, **kargs)\u001b[0m\n\u001b[0;32m   1102\u001b[0m   \u001b[38;5;28;01mif\u001b[39;00m _LOG_LEVEL: \u001b[38;5;28mprint\u001b[39m(\u001b[38;5;124m\"\u001b[39m\u001b[38;5;124m* Owlready2 * Saving ontology \u001b[39m\u001b[38;5;132;01m%s\u001b[39;00m\u001b[38;5;124m to \u001b[39m\u001b[38;5;132;01m%s\u001b[39;00m\u001b[38;5;124m...\u001b[39m\u001b[38;5;124m\"\u001b[39m \u001b[38;5;241m%\u001b[39m (\u001b[38;5;28mself\u001b[39m\u001b[38;5;241m.\u001b[39mname, file), file \u001b[38;5;241m=\u001b[39m sys\u001b[38;5;241m.\u001b[39mstderr)\n\u001b[0;32m   1103\u001b[0m   file \u001b[38;5;241m=\u001b[39m \u001b[38;5;28mopen\u001b[39m(file, \u001b[38;5;124m\"\u001b[39m\u001b[38;5;124mwb\u001b[39m\u001b[38;5;124m\"\u001b[39m)\n\u001b[1;32m-> 1104\u001b[0m   \u001b[38;5;28;43mself\u001b[39;49m\u001b[38;5;241;43m.\u001b[39;49m\u001b[43mgraph\u001b[49m\u001b[38;5;241;43m.\u001b[39;49m\u001b[43msave\u001b[49m\u001b[43m(\u001b[49m\u001b[43mfile\u001b[49m\u001b[43m,\u001b[49m\u001b[43m \u001b[49m\u001b[38;5;28;43mformat\u001b[39;49m\u001b[43m,\u001b[49m\u001b[43m \u001b[49m\u001b[38;5;241;43m*\u001b[39;49m\u001b[38;5;241;43m*\u001b[39;49m\u001b[43mkargs\u001b[49m\u001b[43m)\u001b[49m\n\u001b[0;32m   1105\u001b[0m   file\u001b[38;5;241m.\u001b[39mclose()\n\u001b[0;32m   1106\u001b[0m \u001b[38;5;28;01melse\u001b[39;00m:\n",
      "File \u001b[1;32mc:\\Users\\sofia\\AppData\\Local\\Programs\\Python\\Python312\\Lib\\site-packages\\owlready2\\driver.py:273\u001b[0m, in \u001b[0;36mBaseSubGraph.save\u001b[1;34m(self, f, format, commit, **kargs)\u001b[0m\n\u001b[0;32m    271\u001b[0m \u001b[38;5;28;01mdef\u001b[39;00m \u001b[38;5;21msave\u001b[39m(\u001b[38;5;28mself\u001b[39m, f, \u001b[38;5;28mformat\u001b[39m \u001b[38;5;241m=\u001b[39m \u001b[38;5;124m\"\u001b[39m\u001b[38;5;124mrdfxml\u001b[39m\u001b[38;5;124m\"\u001b[39m, commit \u001b[38;5;241m=\u001b[39m \u001b[38;5;28;01mFalse\u001b[39;00m, \u001b[38;5;241m*\u001b[39m\u001b[38;5;241m*\u001b[39mkargs):\n\u001b[0;32m    272\u001b[0m   \u001b[38;5;28;01mif\u001b[39;00m commit: \u001b[38;5;28mself\u001b[39m\u001b[38;5;241m.\u001b[39mparent\u001b[38;5;241m.\u001b[39mcommit()\n\u001b[1;32m--> 273\u001b[0m   \u001b[43m_save\u001b[49m\u001b[43m(\u001b[49m\u001b[43mf\u001b[49m\u001b[43m,\u001b[49m\u001b[43m \u001b[49m\u001b[38;5;28;43mformat\u001b[39;49m\u001b[43m,\u001b[49m\u001b[43m \u001b[49m\u001b[38;5;28;43mself\u001b[39;49m\u001b[43m,\u001b[49m\u001b[43m \u001b[49m\u001b[38;5;241;43m*\u001b[39;49m\u001b[38;5;241;43m*\u001b[39;49m\u001b[43mkargs\u001b[49m\u001b[43m)\u001b[49m\n",
      "File \u001b[1;32mc:\\Users\\sofia\\AppData\\Local\\Programs\\Python\\Python312\\Lib\\site-packages\\owlready2\\driver.py:347\u001b[0m, in \u001b[0;36m_save\u001b[1;34m(f, format, graph, filter)\u001b[0m\n\u001b[0;32m    344\u001b[0m     \u001b[38;5;28;01melse\u001b[39;00m:                      \u001b[38;5;28;01mreturn\u001b[39;00m r[\u001b[38;5;28mlen\u001b[39m(base_iri) \u001b[38;5;241m-\u001b[39m \u001b[38;5;241m1\u001b[39m :]\n\u001b[0;32m    345\u001b[0m   \u001b[38;5;28;01mreturn\u001b[39;00m r\n\u001b[1;32m--> 347\u001b[0m base_iri \u001b[38;5;241m=\u001b[39m \u001b[43mgraph\u001b[49m\u001b[38;5;241;43m.\u001b[39;49m\u001b[43m_iter_ontology_iri\u001b[49m\u001b[43m(\u001b[49m\u001b[43mgraph\u001b[49m\u001b[38;5;241;43m.\u001b[39;49m\u001b[43mc\u001b[49m\u001b[43m)\u001b[49m\n\u001b[0;32m    349\u001b[0m xmlns \u001b[38;5;241m=\u001b[39m {\n\u001b[0;32m    350\u001b[0m   \u001b[38;5;124m\"\u001b[39m\u001b[38;5;124mhttp://www.w3.org/1999/02/22-rdf-syntax-ns#\u001b[39m\u001b[38;5;124m\"\u001b[39m : \u001b[38;5;124m\"\u001b[39m\u001b[38;5;124mrdf:\u001b[39m\u001b[38;5;124m\"\u001b[39m,\n\u001b[0;32m    351\u001b[0m   \u001b[38;5;124m\"\u001b[39m\u001b[38;5;124mhttp://www.w3.org/2001/XMLSchema#\u001b[39m\u001b[38;5;124m\"\u001b[39m : \u001b[38;5;124m\"\u001b[39m\u001b[38;5;124mxsd:\u001b[39m\u001b[38;5;124m\"\u001b[39m,\n\u001b[0;32m    352\u001b[0m   \u001b[38;5;124m\"\u001b[39m\u001b[38;5;124mhttp://www.w3.org/2000/01/rdf-schema#\u001b[39m\u001b[38;5;124m\"\u001b[39m : \u001b[38;5;124m\"\u001b[39m\u001b[38;5;124mrdfs:\u001b[39m\u001b[38;5;124m\"\u001b[39m,\n\u001b[0;32m    353\u001b[0m   \u001b[38;5;124m\"\u001b[39m\u001b[38;5;124mhttp://www.w3.org/2002/07/owl#\u001b[39m\u001b[38;5;124m\"\u001b[39m : \u001b[38;5;124m\"\u001b[39m\u001b[38;5;124mowl:\u001b[39m\u001b[38;5;124m\"\u001b[39m,\n\u001b[0;32m    354\u001b[0m }\n\u001b[0;32m    355\u001b[0m \u001b[38;5;28;01mif\u001b[39;00m \u001b[38;5;28misinstance\u001b[39m(base_iri, \u001b[38;5;28mstr\u001b[39m):\n",
      "File \u001b[1;32mc:\\Users\\sofia\\AppData\\Local\\Programs\\Python\\Python312\\Lib\\site-packages\\owlready2\\triplelite.py:1316\u001b[0m, in \u001b[0;36mSubGraph._iter_ontology_iri\u001b[1;34m(self, c)\u001b[0m\n\u001b[0;32m   1314\u001b[0m \u001b[38;5;28;01mdef\u001b[39;00m \u001b[38;5;21m_iter_ontology_iri\u001b[39m(\u001b[38;5;28mself\u001b[39m, c \u001b[38;5;241m=\u001b[39m \u001b[38;5;28;01mNone\u001b[39;00m):\n\u001b[0;32m   1315\u001b[0m   \u001b[38;5;28;01mif\u001b[39;00m c:\n\u001b[1;32m-> 1316\u001b[0m     \u001b[38;5;28;01mreturn\u001b[39;00m \u001b[38;5;28;43mself\u001b[39;49m\u001b[38;5;241;43m.\u001b[39;49m\u001b[43mexecute\u001b[49m\u001b[43m(\u001b[49m\u001b[38;5;124;43m\"\u001b[39;49m\u001b[38;5;124;43mSELECT iri FROM ontologies WHERE c=?\u001b[39;49m\u001b[38;5;124;43m\"\u001b[39;49m\u001b[43m,\u001b[49m\u001b[43m \u001b[49m\u001b[43m(\u001b[49m\u001b[43mc\u001b[49m\u001b[43m,\u001b[49m\u001b[43m)\u001b[49m\u001b[43m)\u001b[49m\u001b[38;5;241;43m.\u001b[39;49m\u001b[43mfetchone\u001b[49m\u001b[43m(\u001b[49m\u001b[43m)\u001b[49m\u001b[43m[\u001b[49m\u001b[38;5;241;43m0\u001b[39;49m\u001b[43m]\u001b[49m\n\u001b[0;32m   1317\u001b[0m   \u001b[38;5;28;01melse\u001b[39;00m:\n\u001b[0;32m   1318\u001b[0m     \u001b[38;5;28;01mreturn\u001b[39;00m \u001b[38;5;28mself\u001b[39m\u001b[38;5;241m.\u001b[39mexecute(\u001b[38;5;124m\"\u001b[39m\u001b[38;5;124mSELECT c, iri FROM ontologies\u001b[39m\u001b[38;5;124m\"\u001b[39m)\u001b[38;5;241m.\u001b[39mfetchall()\n",
      "\u001b[1;31mTypeError\u001b[0m: 'NoneType' object is not subscriptable"
     ]
    }
   ],
   "source": [
    "onto.save(file=\"wealth_ontology.owl\")"
   ]
  },
  {
   "cell_type": "code",
   "execution_count": 163,
   "metadata": {},
   "outputs": [],
   "source": [
    "class Message():\n",
    "    environment_buffer = []\n",
    "    def __init__(self,sender=None,receiver=None,performative=None,content=None):\n",
    "        self.sender = sender\n",
    "        self.receiver = receiver\n",
    "        self.performative = performative\n",
    "        self.content = content\n",
    "    def __str__(self):\n",
    "        return f\"\\n\\\n",
    "        Sender: {self.sender}, \\n\\\n",
    "        Receiver: {self.receiver}, \\n\\\n",
    "        Performative: {self.performative}, \\n\\\n",
    "        Content: {self.content}\"\n",
    "    def send(self):\n",
    "        \"\"\"\n",
    "        The send function is used to send a message to the environment buffer.\n",
    "        \"\"\"\n",
    "        Message.environment_buffer.append(self)\n"
   ]
  },
  {
   "cell_type": "code",
   "execution_count": null,
   "metadata": {},
   "outputs": [],
   "source": []
  },
  {
   "cell_type": "code",
   "execution_count": 164,
   "metadata": {},
   "outputs": [],
   "source": [
    "class TiendaAgente(ap.Agent):\n",
    "    \"\"\"Agente - Mariana\"\"\"\n",
    "    def setup(self):\n",
    "        self.recordedDinero = 0\n",
    "        self.myself = onto.TiendaAgente()\n",
    "        self.myself.has_id = self.id\n",
    "        self.myself.has_dinero = onto.DineroEnTienda(dinero_value=0)\n",
    "    \n",
    "    def step(self):\n",
    "        self.take_msg()\n",
    "        self.recordedDinero = self.myself.has_dinero.dinero_value\n",
    "\n",
    "    def take_msg(self):\n",
    "        for msg in Message.environment_buffer:\n",
    "            if msg.receiver == self.id:\n",
    "                if msg.performative == \"dardinero\":\n",
    "                    # Update own belief about wealth, using message content\n",
    "                    self.myself.has_dinero.dinero_value += msg.content[\"dardinero\"]\n",
    "                    Message.environment_buffer.remove(msg)\n",
    "                elif msg.performative == \"darpedido\": \n",
    "                    self.dar_pedido(msg.content[\"cantidad\"])\n",
    "\n",
    "    \n",
    "    def dar_pedido(self, num):\n",
    "        #TODO: cambiar sender.id a repartidor\n",
    "        msg = Message(sender=self.id, receiver=0, performative=\"dardinero\",content={\"item\":1, \"cantidad\": num})\n",
    "        msg.send()\n",
    "    \n"
   ]
  },
  {
   "cell_type": "code",
   "execution_count": null,
   "metadata": {},
   "outputs": [],
   "source": [
<<<<<<< HEAD
    "class AgenteFinanciero(ap.Agent):\n",
    "    \"\"\"Agente que maneja dinero financiero, inversiones, etc.\"\"\"\n",
    "    def setup(self):\n",
    "\n",
    "        self.inversionActual = 0\n",
    "        \n",
    "        self.myself = onto.AgenteFinanciero()\n",
    "        self.myself.has_id = self.id\n",
    "        \n",
    "        self.myself.has_inversion = onto.DineroFinanciero(inversion_value=0)\n",
    "    \n",
    "    def step(self):\n",
    "        \"\"\"\n",
    "        En cada paso, el agente revisa los mensajes y actualiza\n",
    "        su conocimiento sobre el dinero financiero.\n",
    "        \"\"\"\n",
    "        self.take_msg()\n",
    "        self.inversionActual = self.myself.has_inversion.inversion_value\n",
    "        \n",
    "    def take_msg(self):\n",
    "        \n",
    "        for msg in Message.environment_buffer:\n",
    "            if msg.receiver == self.id:\n",
    "                \n",
    "                if msg.performative == \"invertir\":\n",
    "                    cantidad = msg.content.get(\"cantidad\", 0)\n",
    "                    self.myself.has_inversion.inversion_value += cantidad\n",
    "                    print(f\"AgenteFinanciero (ID {self.id}) recibe inversión de {cantidad}.\")\n",
    "                    \n",
    "                    Message.environment_buffer.remove(msg)\n",
    "                \n"
=======
    "class CompradorAgente(ap.Agent):\n",
    "    \"\"\" Agente Comprador - Sofía \"\"\"\n",
    "    def setup(self):\n",
    "        self.dinero = 200\n",
    "        self.productos = []\n",
    "        self.myself = onto.CompradorAgente()\n",
    "        self.myself.has_id = self.id\n",
    "        self.myself.dinero_disponible = onto.DineroComprador(dinero_value=self.dinero)\n",
    "\n",
    "        \n",
    "    def step(self):\n",
    "        if self.myself.dinero_disponible.dinero_value > 0:\n",
    "            total_compra = np.random.randint(1,80) \n",
    "            self.enviar_solicitud_compra(total_compra)\n",
    "            \n",
    "    def enviar_solicitud_compra(self, cantidad):\n",
    "        msg = Message(sender=self.id, receiver=0, performative=\"comprar\", content={\"cantidad\": cantidad})\n",
    "        msg.send()\n",
    "        self.myself.dinero_disponible.dinero_value -= cantidad\n",
    "    \n",
    "    def confirmacion_compra(self,msg):\n",
    "        if msg.performative == \"confimación\":\n",
    "            producto = msg.content.get(\"producto\")\n",
    "            if producto:\n",
    "                self.productos.append(producto)\n",
    "                print(f\"Comprador {self.id} recibió: {producto}\")\n",
    "        \n",
    "        \n",
    "    "
>>>>>>> ce9bd0aa7d75fbba26e5d965d18e4328a79a4fab
   ]
  },
  {
   "cell_type": "code",
   "execution_count": 165,
   "metadata": {},
   "outputs": [],
   "source": [
    "class VentasModel(ap.Model):\n",
    "    def setup(self):\n",
    "        self.agentsTienda = ap.AgentList(self, self.p.agents, TiendaAgente)\n",
    "        self.agentsComprador = ap.AgentList(self, self.p.agents, CompradorAgente)\n",
    "    def step(self):\n",
    "        self.agentsTienda.step()\n",
    "        self.agentsComprador.step()\n",
    "    def update(self):\n",
    "        self.record(\"Dinero obtenido\", self.agentsTienda.recorded_Dinero)\n",
    "    def end(self):\n",
    "        return"
   ]
  },
  {
   "cell_type": "code",
   "execution_count": 166,
   "metadata": {},
   "outputs": [],
   "source": [
    "parameters = {\n",
    "    'agents': 100,\n",
    "    'steps': 100\n",
    "}"
   ]
  },
  {
   "cell_type": "code",
   "execution_count": 167,
   "metadata": {},
   "outputs": [
    {
     "name": "stdout",
     "output_type": "stream",
     "text": [
      "Completed: 100 steps\n",
      "Run time: 0:00:00.021651\n",
      "Simulation finished\n"
     ]
    }
   ],
   "source": [
    "model = VentasModel(parameters)\n",
    "results = model.run()"
   ]
  },
  {
   "cell_type": "code",
   "execution_count": 168,
   "metadata": {},
   "outputs": [
    {
     "data": {
      "text/plain": [
       "DataDict {\n",
       "'info': Dictionary with 9 keys\n",
       "'parameters': \n",
       "    'constants': Dictionary with 2 keys\n",
       "'variables': \n",
       "    'VentasModel': DataFrame with 1 variable and 101 rows\n",
       "'reporters': DataFrame with 1 variable and 1 row\n",
       "}"
      ]
     },
     "execution_count": 168,
     "metadata": {},
     "output_type": "execute_result"
    }
   ],
   "source": [
    "results"
   ]
  }
 ],
 "metadata": {
  "kernelspec": {
   "display_name": "Python 3",
   "language": "python",
   "name": "python3"
  },
  "language_info": {
   "codemirror_mode": {
    "name": "ipython",
    "version": 3
   },
   "file_extension": ".py",
   "mimetype": "text/x-python",
   "name": "python",
   "nbconvert_exporter": "python",
   "pygments_lexer": "ipython3",
   "version": "3.12.6"
  }
 },
 "nbformat": 4,
 "nbformat_minor": 2
}
