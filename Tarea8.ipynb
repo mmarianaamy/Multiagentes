{
 "cells": [
  {
   "cell_type": "code",
   "execution_count": 11,
   "metadata": {},
   "outputs": [
    {
     "name": "stdout",
     "output_type": "stream",
     "text": [
      "Defaulting to user installation because normal site-packages is not writeable\n",
      "Requirement already satisfied: agentpy in c:\\users\\mmari\\appdata\\roaming\\python\\python312\\site-packages (0.1.5)\n",
      "Requirement already satisfied: numpy>=1.19 in c:\\users\\mmari\\appdata\\roaming\\python\\python312\\site-packages (from agentpy) (2.2.1)\n",
      "Requirement already satisfied: scipy>=1.5.2 in c:\\users\\mmari\\appdata\\roaming\\python\\python312\\site-packages (from agentpy) (1.15.0)\n",
      "Requirement already satisfied: matplotlib>=3.3.3 in c:\\users\\mmari\\appdata\\roaming\\python\\python312\\site-packages (from agentpy) (3.10.0)\n",
      "Requirement already satisfied: networkx>=2.5 in c:\\users\\mmari\\appdata\\roaming\\python\\python312\\site-packages (from agentpy) (3.4.2)\n",
      "Requirement already satisfied: pandas>=1.1.3 in c:\\users\\mmari\\appdata\\roaming\\python\\python312\\site-packages (from agentpy) (2.2.3)\n",
      "Requirement already satisfied: SALib>=1.3.7 in c:\\users\\mmari\\appdata\\roaming\\python\\python312\\site-packages (from agentpy) (1.5.1)\n",
      "Requirement already satisfied: joblib>=1.1.0 in c:\\users\\mmari\\appdata\\roaming\\python\\python312\\site-packages (from agentpy) (1.4.2)\n",
      "Requirement already satisfied: contourpy>=1.0.1 in c:\\users\\mmari\\appdata\\roaming\\python\\python312\\site-packages (from matplotlib>=3.3.3->agentpy) (1.3.1)\n",
      "Requirement already satisfied: cycler>=0.10 in c:\\users\\mmari\\appdata\\roaming\\python\\python312\\site-packages (from matplotlib>=3.3.3->agentpy) (0.12.1)\n",
      "Requirement already satisfied: fonttools>=4.22.0 in c:\\users\\mmari\\appdata\\roaming\\python\\python312\\site-packages (from matplotlib>=3.3.3->agentpy) (4.55.3)\n",
      "Requirement already satisfied: kiwisolver>=1.3.1 in c:\\users\\mmari\\appdata\\roaming\\python\\python312\\site-packages (from matplotlib>=3.3.3->agentpy) (1.4.8)\n",
      "Requirement already satisfied: packaging>=20.0 in c:\\users\\mmari\\appdata\\roaming\\python\\python312\\site-packages (from matplotlib>=3.3.3->agentpy) (24.2)\n",
      "Requirement already satisfied: pillow>=8 in c:\\users\\mmari\\appdata\\roaming\\python\\python312\\site-packages (from matplotlib>=3.3.3->agentpy) (11.1.0)\n",
      "Requirement already satisfied: pyparsing>=2.3.1 in c:\\users\\mmari\\appdata\\roaming\\python\\python312\\site-packages (from matplotlib>=3.3.3->agentpy) (3.2.1)\n",
      "Requirement already satisfied: python-dateutil>=2.7 in c:\\users\\mmari\\appdata\\roaming\\python\\python312\\site-packages (from matplotlib>=3.3.3->agentpy) (2.9.0.post0)\n",
      "Requirement already satisfied: pytz>=2020.1 in c:\\users\\mmari\\appdata\\roaming\\python\\python312\\site-packages (from pandas>=1.1.3->agentpy) (2024.2)\n",
      "Requirement already satisfied: tzdata>=2022.7 in c:\\users\\mmari\\appdata\\roaming\\python\\python312\\site-packages (from pandas>=1.1.3->agentpy) (2024.2)\n",
      "Requirement already satisfied: multiprocess in c:\\users\\mmari\\appdata\\roaming\\python\\python312\\site-packages (from SALib>=1.3.7->agentpy) (0.70.17)\n",
      "Requirement already satisfied: six>=1.5 in c:\\users\\mmari\\appdata\\roaming\\python\\python312\\site-packages (from python-dateutil>=2.7->matplotlib>=3.3.3->agentpy) (1.17.0)\n",
      "Requirement already satisfied: dill>=0.3.9 in c:\\users\\mmari\\appdata\\roaming\\python\\python312\\site-packages (from multiprocess->SALib>=1.3.7->agentpy) (0.3.9)\n",
      "Note: you may need to restart the kernel to use updated packages.\n",
      "Defaulting to user installation because normal site-packages is not writeableNote: you may need to restart the kernel to use updated packages.\n",
      "\n",
      "Requirement already satisfied: owlready2 in c:\\users\\mmari\\appdata\\roaming\\python\\python312\\site-packages (0.47)\n"
     ]
    }
   ],
   "source": [
    "%pip install agentpy\n",
    "%pip install owlready2"
   ]
  },
  {
   "cell_type": "code",
   "execution_count": 12,
   "metadata": {},
   "outputs": [],
   "source": [
    "from owlready2 import *\n",
    "# Model design\n",
    "import agentpy as ap\n",
    "import numpy as np\n",
    "# Visualization\n",
    "import seaborn as sns"
   ]
  },
  {
   "cell_type": "code",
   "execution_count": 13,
   "metadata": {},
   "outputs": [],
   "source": [
    "#Tienda\n",
    "\n",
    "onto = get_ontology(\"wealth_ontology.owl\").load()\n",
    "\n",
    "#if onto is not None:\n",
    "#    onto.destroy()\n",
    "\n",
    "with onto: \n",
    "    class Agent(Thing):\n",
    "        pass\n",
    "    class TiendaAgente(Agent):\n",
    "        pass\n",
    "    class CompradorAgente(Agent):\n",
    "        pass\n",
    "    class DineroEnTienda(Thing):\n",
    "        pass\n",
    "    class DineroComprador(Thing):\n",
    "        pass\n",
    "    class Productos(Thing):\n",
    "        pass\n",
    "    \n",
    "    class obtener_dinero(FunctionalProperty, ObjectProperty):\n",
    "        domain = [TiendaAgente]\n",
    "        range = [DineroEnTienda]\n",
    "        \n",
    "    class dinero_value(FunctionalProperty, DataProperty):\n",
    "        domain = [DineroEnTienda]\n",
    "        range = [int]\n",
    "    class AgenteFinanciero(Agent):\n",
    "        pass\n",
    "    \n",
    "    class DineroFinanciero(Thing):\n",
    "        pass   \n",
    "    \n",
    "    class has_inversion(FunctionalProperty, ObjectProperty):\n",
    "        domain = [AgenteFinanciero]\n",
    "        range = [DineroFinanciero]\n",
    "\n",
    "    # Propiedad para representar la cantidad de dinero financiero (valor numérico)\n",
    "    class inversion_value(FunctionalProperty, DataProperty):\n",
    "        domain = [DineroFinanciero]\n",
    "        range = [int]\n",
    "    class dinero_disponible(FunctionalProperty, DataProperty):\n",
    "        domain = [DineroComprador]\n",
    "        range = [int]\n",
    "        \n",
    "    class realizar_compra(ObjectProperty):\n",
    "        domain = [CompradorAgente]\n",
    "        range = [Productos]\n",
    "        \n",
    "    class has_id(FunctionalProperty, DataProperty):\n",
    "        domain = [Agent]\n",
    "        range = [int]\n"
   ]
  },
  {
   "cell_type": "code",
   "execution_count": 14,
   "metadata": {},
   "outputs": [],
   "source": [
    "onto.save(file=\"wealth_ontology.owl\")"
   ]
  },
  {
   "cell_type": "code",
   "execution_count": 15,
   "metadata": {},
   "outputs": [],
   "source": [
    "class Message():\n",
    "    environment_buffer = []\n",
    "    def __init__(self,sender=None,receiver=None,performative=None,content=None):\n",
    "        self.sender = sender\n",
    "        self.receiver = receiver\n",
    "        self.performative = performative\n",
    "        self.content = content\n",
    "    def __str__(self):\n",
    "        return f\"\\n\\\n",
    "        Sender: {self.sender}, \\n\\\n",
    "        Receiver: {self.receiver}, \\n\\\n",
    "        Performative: {self.performative}, \\n\\\n",
    "        Content: {self.content}\"\n",
    "    def send(self):\n",
    "        \"\"\"\n",
    "        The send function is used to send a message to the environment buffer.\n",
    "        \"\"\"\n",
    "        Message.environment_buffer.append(self)\n"
   ]
  },
  {
   "cell_type": "code",
   "execution_count": 16,
   "metadata": {},
   "outputs": [],
   "source": [
    "class TiendaAgente(ap.Agent):\n",
    "    \"\"\"Agente - Mariana\"\"\"\n",
    "    def setup(self):\n",
    "        self.recordedDinero = 0\n",
    "        self.myself = onto.TiendaAgente()\n",
    "        self.myself.has_id = self.id\n",
    "        self.myself.has_dinero = onto.DineroEnTienda(dinero_value=0)\n",
    "    \n",
    "    def step(self):\n",
    "        self.take_msg()\n",
    "        self.recordedDinero = self.myself.has_dinero.dinero_value\n",
    "\n",
    "    def take_msg(self):\n",
    "        for msg in Message.environment_buffer:\n",
    "            if msg.receiver == self.id:\n",
    "                if msg.performative == \"dardinero\":\n",
    "                    self.myself.has_dinero.dinero_value += msg.content[\"dardinero\"]\n",
    "                    Message.environment_buffer.remove(msg)\n",
    "                elif msg.performative == \"darpedido\": \n",
    "                    self.dar_pedido(msg.content[\"cantidad\"])\n",
    "\n",
    "    \n",
    "    def dar_pedido(self, num):\n",
    "        #TODO: cambiar sender.id a repartidor\n",
    "        msg = Message(sender=self.id, receiver=0, performative=\"dardinero\",content={\"item\":1, \"cantidad\": num})\n",
    "        msg.send()\n",
    "    \n"
   ]
  },
  {
   "cell_type": "code",
   "execution_count": 17,
   "metadata": {},
   "outputs": [],
   "source": [
    "class AgenteFinanciero(ap.Agent):\n",
    "    \"\"\"Agente que maneja dinero financiero, inversiones, etc.\"\"\"\n",
    "    def setup(self):\n",
    "\n",
    "        self.inversionActual = 0\n",
    "        \n",
    "        self.myself = onto.AgenteFinanciero()\n",
    "        self.myself.has_id = self.id\n",
    "        \n",
    "        self.myself.has_inversion = onto.DineroFinanciero(inversion_value=0)\n",
    "    \n",
    "    def step(self):\n",
    "        \"\"\"\n",
    "        En cada paso, el agente revisa los mensajes y actualiza\n",
    "        su conocimiento sobre el dinero financiero.\n",
    "        \"\"\"\n",
    "        self.take_msg()\n",
    "        self.inversionActual = self.myself.has_inversion.inversion_value\n",
    "        \n",
    "    def take_msg(self):\n",
    "        \n",
    "        for msg in Message.environment_buffer:\n",
    "            if msg.receiver == self.id:\n",
    "                \n",
    "                if msg.performative == \"invertir\":\n",
    "                    cantidad = msg.content.get(\"cantidad\", 0)\n",
    "                    self.myself.has_inversion.inversion_value += cantidad\n",
    "                    print(f\"AgenteFinanciero (ID {self.id}) recibe inversión de {cantidad}.\")\n",
    "                    \n",
    "                    Message.environment_buffer.remove(msg)\n",
    "  \n"
   ]
  },
  {
   "cell_type": "code",
   "execution_count": 26,
   "metadata": {},
   "outputs": [],
   "source": [
    "class CompradorAgente(ap.Agent):\n",
    "    \"\"\" Agente Comprador - Sofía \"\"\"\n",
    "    def setup(self):\n",
    "        self.dinero = 200\n",
    "        self.productos = []\n",
    "        self.myself = onto.CompradorAgente()\n",
    "        self.myself.has_id = self.id\n",
    "        self.myself.dinero_disponible = onto.DineroComprador(dinero_value=200)\n",
    "\n",
    "        \n",
    "    def step(self):\n",
    "        if self.myself.dinero_disponible.dinero_value > 0:\n",
    "            total_compra = np.random.randint(1,80) \n",
    "            self.enviar_solicitud_compra(total_compra)\n",
    "            \n",
    "    def enviar_solicitud_compra(self, cantidad):\n",
    "        msg = Message(sender=self.id, receiver=0, performative=\"comprar\", content={\"cantidad\": cantidad})\n",
    "        msg.send()\n",
    "        self.myself.dinero_disponible.dinero_value -= cantidad\n",
    "    \n",
    "    def confirmacion_compra(self,msg):\n",
    "        if msg.performative == \"confimación\":\n",
    "            producto = msg.content.get(\"producto\")\n",
    "            if producto:\n",
    "                self.productos.append(producto)\n",
    "                print(f\"Comprador {self.id} recibió: {producto}\")\n",
    "        \n",
    "        \n",
    "    "
   ]
  },
  {
   "cell_type": "code",
   "execution_count": 27,
   "metadata": {},
   "outputs": [],
   "source": [
    "class VentasModel(ap.Model):\n",
    "    def setup(self):\n",
    "        self.agentsTienda = ap.AgentList(self, self.p.agents, TiendaAgente)\n",
    "        #self.agentsComprador = ap.AgentList(self, self.p.agents, CompradorAgente)\n",
    "    def step(self):\n",
    "        self.agentsTienda.step()\n",
    "        #self.agentsComprador.step()\n",
    "    def update(self):\n",
    "        self.record(\"Dinero obtenido\", self.agentsTienda.recorded_Dinero)\n",
    "    def end(self):\n",
    "        return"
   ]
  },
  {
   "cell_type": "code",
   "execution_count": 28,
   "metadata": {},
   "outputs": [],
   "source": [
    "parameters = {\n",
    "    'agents': 100,\n",
    "    'steps': 100\n",
    "}"
   ]
  },
  {
   "cell_type": "code",
   "execution_count": 29,
   "metadata": {},
   "outputs": [
    {
     "name": "stdout",
     "output_type": "stream",
     "text": [
      "Completed: 100 steps\n",
      "Run time: 0:00:00.031519\n",
      "Simulation finished\n"
     ]
    }
   ],
   "source": [
    "model = VentasModel(parameters)\n",
    "results = model.run()"
   ]
  },
  {
   "cell_type": "code",
   "execution_count": 30,
   "metadata": {},
   "outputs": [
    {
     "data": {
      "text/plain": [
       "DataDict {\n",
       "'info': Dictionary with 9 keys\n",
       "'parameters': \n",
       "    'constants': Dictionary with 2 keys\n",
       "'variables': \n",
       "    'VentasModel': DataFrame with 1 variable and 101 rows\n",
       "'reporters': DataFrame with 1 variable and 1 row\n",
       "}"
      ]
     },
     "execution_count": 30,
     "metadata": {},
     "output_type": "execute_result"
    }
   ],
   "source": [
    "results"
   ]
  }
 ],
 "metadata": {
  "kernelspec": {
   "display_name": "Python 3",
   "language": "python",
   "name": "python3"
  },
  "language_info": {
   "codemirror_mode": {
    "name": "ipython",
    "version": 3
   },
   "file_extension": ".py",
   "mimetype": "text/x-python",
   "name": "python",
   "nbconvert_exporter": "python",
   "pygments_lexer": "ipython3",
   "version": "3.12.6"
  }
 },
 "nbformat": 4,
 "nbformat_minor": 2
}
