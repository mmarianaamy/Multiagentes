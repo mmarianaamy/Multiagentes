{
 "cells": [
  {
   "cell_type": "code",
   "execution_count": null,
   "metadata": {},
   "outputs": [
    {
     "name": "stdout",
     "output_type": "stream",
     "text": [
      "Defaulting to user installation because normal site-packages is not writeableNote: you may need to restart the kernel to use updated packages.\n",
      "\n",
      "Requirement already satisfied: agentpy in c:\\users\\mmari\\appdata\\roaming\\python\\python312\\site-packages (0.1.5)\n",
      "Requirement already satisfied: numpy>=1.19 in c:\\users\\mmari\\appdata\\roaming\\python\\python312\\site-packages (from agentpy) (2.2.1)\n",
      "Requirement already satisfied: scipy>=1.5.2 in c:\\users\\mmari\\appdata\\roaming\\python\\python312\\site-packages (from agentpy) (1.15.0)\n",
      "Requirement already satisfied: matplotlib>=3.3.3 in c:\\users\\mmari\\appdata\\roaming\\python\\python312\\site-packages (from agentpy) (3.10.0)\n",
      "Requirement already satisfied: networkx>=2.5 in c:\\users\\mmari\\appdata\\roaming\\python\\python312\\site-packages (from agentpy) (3.4.2)\n",
      "Requirement already satisfied: pandas>=1.1.3 in c:\\users\\mmari\\appdata\\roaming\\python\\python312\\site-packages (from agentpy) (2.2.3)\n",
      "Requirement already satisfied: SALib>=1.3.7 in c:\\users\\mmari\\appdata\\roaming\\python\\python312\\site-packages (from agentpy) (1.5.1)\n",
      "Requirement already satisfied: joblib>=1.1.0 in c:\\users\\mmari\\appdata\\roaming\\python\\python312\\site-packages (from agentpy) (1.4.2)\n",
      "Requirement already satisfied: contourpy>=1.0.1 in c:\\users\\mmari\\appdata\\roaming\\python\\python312\\site-packages (from matplotlib>=3.3.3->agentpy) (1.3.1)\n",
      "Requirement already satisfied: cycler>=0.10 in c:\\users\\mmari\\appdata\\roaming\\python\\python312\\site-packages (from matplotlib>=3.3.3->agentpy) (0.12.1)\n",
      "Requirement already satisfied: fonttools>=4.22.0 in c:\\users\\mmari\\appdata\\roaming\\python\\python312\\site-packages (from matplotlib>=3.3.3->agentpy) (4.55.3)\n",
      "Requirement already satisfied: kiwisolver>=1.3.1 in c:\\users\\mmari\\appdata\\roaming\\python\\python312\\site-packages (from matplotlib>=3.3.3->agentpy) (1.4.8)\n",
      "Requirement already satisfied: packaging>=20.0 in c:\\users\\mmari\\appdata\\roaming\\python\\python312\\site-packages (from matplotlib>=3.3.3->agentpy) (24.2)\n",
      "Requirement already satisfied: pillow>=8 in c:\\users\\mmari\\appdata\\roaming\\python\\python312\\site-packages (from matplotlib>=3.3.3->agentpy) (11.1.0)\n",
      "Requirement already satisfied: pyparsing>=2.3.1 in c:\\users\\mmari\\appdata\\roaming\\python\\python312\\site-packages (from matplotlib>=3.3.3->agentpy) (3.2.1)\n",
      "Requirement already satisfied: python-dateutil>=2.7 in c:\\users\\mmari\\appdata\\roaming\\python\\python312\\site-packages (from matplotlib>=3.3.3->agentpy) (2.9.0.post0)\n",
      "Requirement already satisfied: pytz>=2020.1 in c:\\users\\mmari\\appdata\\roaming\\python\\python312\\site-packages (from pandas>=1.1.3->agentpy) (2024.2)\n",
      "Requirement already satisfied: tzdata>=2022.7 in c:\\users\\mmari\\appdata\\roaming\\python\\python312\\site-packages (from pandas>=1.1.3->agentpy) (2024.2)\n",
      "Requirement already satisfied: multiprocess in c:\\users\\mmari\\appdata\\roaming\\python\\python312\\site-packages (from SALib>=1.3.7->agentpy) (0.70.17)\n",
      "Requirement already satisfied: six>=1.5 in c:\\users\\mmari\\appdata\\roaming\\python\\python312\\site-packages (from python-dateutil>=2.7->matplotlib>=3.3.3->agentpy) (1.17.0)\n",
      "Requirement already satisfied: dill>=0.3.9 in c:\\users\\mmari\\appdata\\roaming\\python\\python312\\site-packages (from multiprocess->SALib>=1.3.7->agentpy) (0.3.9)\n"
     ]
    }
   ],
   "source": [
    "#%pip install agentpy\n",
    "#%pip install owlready2"
   ]
  }
 ],
 "metadata": {
  "kernelspec": {
   "display_name": "Python 3",
   "language": "python",
   "name": "python3"
  },
  "language_info": {
   "codemirror_mode": {
    "name": "ipython",
    "version": 3
   },
   "file_extension": ".py",
   "mimetype": "text/x-python",
   "name": "python",
   "nbconvert_exporter": "python",
   "pygments_lexer": "ipython3",
   "version": "3.12.6"
  }
 },
 "nbformat": 4,
 "nbformat_minor": 2
}
