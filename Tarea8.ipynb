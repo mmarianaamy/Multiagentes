{
 "cells": [
  {
   "cell_type": "code",
   "execution_count": 1,
   "metadata": {},
   "outputs": [
    {
     "name": "stdout",
     "output_type": "stream",
     "text": [
      "Defaulting to user installation because normal site-packages is not writeableNote: you may need to restart the kernel to use updated packages.\n",
      "\n",
      "Requirement already satisfied: agentpy in c:\\users\\mmari\\appdata\\roaming\\python\\python312\\site-packages (0.1.5)\n",
      "Requirement already satisfied: numpy>=1.19 in c:\\users\\mmari\\appdata\\roaming\\python\\python312\\site-packages (from agentpy) (2.2.1)\n",
      "Requirement already satisfied: scipy>=1.5.2 in c:\\users\\mmari\\appdata\\roaming\\python\\python312\\site-packages (from agentpy) (1.15.0)\n",
      "Requirement already satisfied: matplotlib>=3.3.3 in c:\\users\\mmari\\appdata\\roaming\\python\\python312\\site-packages (from agentpy) (3.10.0)\n",
      "Requirement already satisfied: networkx>=2.5 in c:\\users\\mmari\\appdata\\roaming\\python\\python312\\site-packages (from agentpy) (3.4.2)\n",
      "Requirement already satisfied: pandas>=1.1.3 in c:\\users\\mmari\\appdata\\roaming\\python\\python312\\site-packages (from agentpy) (2.2.3)\n",
      "Requirement already satisfied: SALib>=1.3.7 in c:\\users\\mmari\\appdata\\roaming\\python\\python312\\site-packages (from agentpy) (1.5.1)\n",
      "Requirement already satisfied: joblib>=1.1.0 in c:\\users\\mmari\\appdata\\roaming\\python\\python312\\site-packages (from agentpy) (1.4.2)\n",
      "Requirement already satisfied: contourpy>=1.0.1 in c:\\users\\mmari\\appdata\\roaming\\python\\python312\\site-packages (from matplotlib>=3.3.3->agentpy) (1.3.1)\n",
      "Requirement already satisfied: cycler>=0.10 in c:\\users\\mmari\\appdata\\roaming\\python\\python312\\site-packages (from matplotlib>=3.3.3->agentpy) (0.12.1)\n",
      "Requirement already satisfied: fonttools>=4.22.0 in c:\\users\\mmari\\appdata\\roaming\\python\\python312\\site-packages (from matplotlib>=3.3.3->agentpy) (4.55.3)\n",
      "Requirement already satisfied: kiwisolver>=1.3.1 in c:\\users\\mmari\\appdata\\roaming\\python\\python312\\site-packages (from matplotlib>=3.3.3->agentpy) (1.4.8)\n",
      "Requirement already satisfied: packaging>=20.0 in c:\\users\\mmari\\appdata\\roaming\\python\\python312\\site-packages (from matplotlib>=3.3.3->agentpy) (24.2)\n",
      "Requirement already satisfied: pillow>=8 in c:\\users\\mmari\\appdata\\roaming\\python\\python312\\site-packages (from matplotlib>=3.3.3->agentpy) (11.1.0)\n",
      "Requirement already satisfied: pyparsing>=2.3.1 in c:\\users\\mmari\\appdata\\roaming\\python\\python312\\site-packages (from matplotlib>=3.3.3->agentpy) (3.2.1)\n",
      "Requirement already satisfied: python-dateutil>=2.7 in c:\\users\\mmari\\appdata\\roaming\\python\\python312\\site-packages (from matplotlib>=3.3.3->agentpy) (2.9.0.post0)\n",
      "Requirement already satisfied: pytz>=2020.1 in c:\\users\\mmari\\appdata\\roaming\\python\\python312\\site-packages (from pandas>=1.1.3->agentpy) (2024.2)\n",
      "Requirement already satisfied: tzdata>=2022.7 in c:\\users\\mmari\\appdata\\roaming\\python\\python312\\site-packages (from pandas>=1.1.3->agentpy) (2024.2)\n",
      "Requirement already satisfied: multiprocess in c:\\users\\mmari\\appdata\\roaming\\python\\python312\\site-packages (from SALib>=1.3.7->agentpy) (0.70.17)\n",
      "Requirement already satisfied: six>=1.5 in c:\\users\\mmari\\appdata\\roaming\\python\\python312\\site-packages (from python-dateutil>=2.7->matplotlib>=3.3.3->agentpy) (1.17.0)\n",
      "Requirement already satisfied: dill>=0.3.9 in c:\\users\\mmari\\appdata\\roaming\\python\\python312\\site-packages (from multiprocess->SALib>=1.3.7->agentpy) (0.3.9)\n",
      "Defaulting to user installation because normal site-packages is not writeable\n",
      "Collecting owlready2\n",
      "  Downloading owlready2-0.47.tar.gz (27.3 MB)\n",
      "     ---------------------------------------- 0.0/27.3 MB ? eta -:--:--\n",
      "     ---------------------------------------- 0.0/27.3 MB ? eta -:--:--\n",
      "     - -------------------------------------- 0.8/27.3 MB 3.3 MB/s eta 0:00:08\n",
      "     - -------------------------------------- 1.3/27.3 MB 2.8 MB/s eta 0:00:10\n",
      "     -- ------------------------------------- 1.8/27.3 MB 2.6 MB/s eta 0:00:10\n",
      "     --- ------------------------------------ 2.4/27.3 MB 2.7 MB/s eta 0:00:10\n",
      "     ---- ----------------------------------- 3.1/27.3 MB 2.8 MB/s eta 0:00:09\n",
      "     ----- ---------------------------------- 3.7/27.3 MB 2.8 MB/s eta 0:00:09\n",
      "     ------ --------------------------------- 4.2/27.3 MB 2.7 MB/s eta 0:00:09\n",
      "     ------ --------------------------------- 4.7/27.3 MB 2.8 MB/s eta 0:00:08\n",
      "     -------- ------------------------------- 5.5/27.3 MB 2.9 MB/s eta 0:00:08\n",
      "     --------- ------------------------------ 6.3/27.3 MB 2.9 MB/s eta 0:00:08\n",
      "     ---------- ----------------------------- 7.1/27.3 MB 3.0 MB/s eta 0:00:07\n",
      "     ----------- ---------------------------- 7.9/27.3 MB 3.1 MB/s eta 0:00:07\n",
      "     ------------ --------------------------- 8.7/27.3 MB 3.1 MB/s eta 0:00:06\n",
      "     ------------- -------------------------- 9.4/27.3 MB 3.2 MB/s eta 0:00:06\n",
      "     -------------- ------------------------- 10.2/27.3 MB 3.2 MB/s eta 0:00:06\n",
      "     ---------------- ----------------------- 11.0/27.3 MB 3.2 MB/s eta 0:00:06\n",
      "     ----------------- ---------------------- 11.8/27.3 MB 3.3 MB/s eta 0:00:05\n",
      "     ----------------- ---------------------- 12.1/27.3 MB 3.2 MB/s eta 0:00:05\n",
      "     ------------------ --------------------- 12.6/27.3 MB 3.2 MB/s eta 0:00:05\n",
      "     ------------------- -------------------- 13.4/27.3 MB 3.2 MB/s eta 0:00:05\n",
      "     -------------------- ------------------- 13.9/27.3 MB 3.1 MB/s eta 0:00:05\n",
      "     --------------------- ------------------ 14.4/27.3 MB 3.1 MB/s eta 0:00:05\n",
      "     --------------------- ------------------ 14.9/27.3 MB 3.1 MB/s eta 0:00:05\n",
      "     ----------------------- ---------------- 15.7/27.3 MB 3.1 MB/s eta 0:00:04\n",
      "     ------------------------ --------------- 16.5/27.3 MB 3.1 MB/s eta 0:00:04\n",
      "     ------------------------ --------------- 17.0/27.3 MB 3.1 MB/s eta 0:00:04\n",
      "     -------------------------- ------------- 17.8/27.3 MB 3.1 MB/s eta 0:00:04\n",
      "     --------------------------- ------------ 18.6/27.3 MB 3.2 MB/s eta 0:00:03\n",
      "     ---------------------------- ----------- 19.1/27.3 MB 3.1 MB/s eta 0:00:03\n",
      "     ----------------------------- ---------- 19.9/27.3 MB 3.2 MB/s eta 0:00:03\n",
      "     ------------------------------ --------- 21.0/27.3 MB 3.2 MB/s eta 0:00:02\n",
      "     ------------------------------- -------- 21.8/27.3 MB 3.2 MB/s eta 0:00:02\n",
      "     --------------------------------- ------ 22.8/27.3 MB 3.3 MB/s eta 0:00:02\n",
      "     ---------------------------------- ----- 23.6/27.3 MB 3.3 MB/s eta 0:00:02\n",
      "     ------------------------------------ --- 24.6/27.3 MB 3.3 MB/s eta 0:00:01\n",
      "     ------------------------------------- -- 25.4/27.3 MB 3.3 MB/s eta 0:00:01\n",
      "     -------------------------------------- - 26.2/27.3 MB 3.4 MB/s eta 0:00:01\n",
      "     ---------------------------------------  27.3/27.3 MB 3.4 MB/s eta 0:00:01\n",
      "     ---------------------------------------- 27.3/27.3 MB 3.3 MB/s eta 0:00:00\n",
      "  Installing build dependencies: started\n",
      "  Installing build dependencies: finished with status 'done'\n",
      "  Getting requirements to build wheel: started\n",
      "  Getting requirements to build wheel: finished with status 'done'\n",
      "  Preparing metadata (pyproject.toml): started\n",
      "  Preparing metadata (pyproject.toml): finished with status 'done'\n",
      "Building wheels for collected packages: owlready2\n",
      "  Building wheel for owlready2 (pyproject.toml): started\n",
      "  Building wheel for owlready2 (pyproject.toml): finished with status 'done'\n",
      "  Created wheel for owlready2: filename=owlready2-0.47-cp312-cp312-win_amd64.whl size=23826629 sha256=63b6e5fee6774789990f07a902bba1cc06aefc2b4fdc2621c59471b95dcc1110\n",
      "  Stored in directory: c:\\users\\mmari\\appdata\\local\\pip\\cache\\wheels\\a8\\81\\8a\\f76909ab0a8a17ce3735a6b9501344c545be5098d54b66adfc\n",
      "Successfully built owlready2\n",
      "Installing collected packages: owlready2\n",
      "Successfully installed owlready2-0.47\n",
      "Note: you may need to restart the kernel to use updated packages.\n"
     ]
    }
   ],
   "source": [
    "#%pip install agentpy\n",
    "#%pip install owlready2"
   ]
  },
  {
   "cell_type": "code",
   "execution_count": null,
   "metadata": {},
   "outputs": [],
   "source": [
    "from owlready2 import *\n",
    "# Model design\n",
    "import agentpy as ap\n",
    "import numpy as np\n",
    "# Visualization\n",
    "import seaborn as sns"
   ]
  },
  {
   "cell_type": "code",
   "execution_count": null,
   "metadata": {},
   "outputs": [],
   "source": [
    "onto = get_ontology(\"file:///content/wealth_ontology.owl\").load()"
   ]
  },
  {
   "cell_type": "code",
   "execution_count": null,
   "metadata": {},
   "outputs": [],
   "source": [
    "#Tienda\n",
    "\n",
    "with onto: \n",
    "    class Agent(Thing):\n",
    "        pass\n",
    "    class TiendaAgente(Agent):\n",
    "        pass\n",
    "    class PedidosEnTienda(Thing):\n",
    "        pass"
   ]
  },
  {
   "cell_type": "code",
   "execution_count": null,
   "metadata": {},
   "outputs": [],
   "source": [
    "class Message():\n",
    "    environment_buffer = []\n",
    "    def __init__(self,sender=None,receiver=None,performative=None,content=None):\n",
    "        self.sender = sender\n",
    "        self.receiver = receiver\n",
    "        self.performative = performative\n",
    "        self.content = content\n",
    "    def __str__(self):\n",
    "        return f\"\\n\\\n",
    "        Sender: {self.sender}, \\n\\\n",
    "        Receiver: {self.receiver}, \\n\\\n",
    "        Performative: {self.performative}, \\n\\\n",
    "        Content: {self.content}\"\n",
    "    def send(self):\n",
    "        \"\"\"\n",
    "        The send function is used to send a message to the environment buffer.\n",
    "        \"\"\"\n",
    "        Message.environment_buffer.append(self)\n"
   ]
  }
 ],
 "metadata": {
  "kernelspec": {
   "display_name": "Python 3",
   "language": "python",
   "name": "python3"
  },
  "language_info": {
   "codemirror_mode": {
    "name": "ipython",
    "version": 3
   },
   "file_extension": ".py",
   "mimetype": "text/x-python",
   "name": "python",
   "nbconvert_exporter": "python",
   "pygments_lexer": "ipython3",
   "version": "3.12.6"
  }
 },
 "nbformat": 4,
 "nbformat_minor": 2
}
