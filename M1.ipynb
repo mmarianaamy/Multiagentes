{
  "cells": [
    {
      "cell_type": "markdown",
      "metadata": {
        "id": "VovN_1JPSQoC"
      },
      "source": [
        "# Wealth transfer"
      ]
    },
    {
      "cell_type": "markdown",
      "metadata": {
        "id": "t4UZ0QQ2SQoD"
      },
      "source": [
        "This notebook presents a tutorial for beginners on how to create a simple agent-based model with the [agentpy](https://agentpy.readthedocs.io) package.\n",
        "It demonstrates how to create a basic model with a custom agent type, run a simulation, record data, and visualize results."
      ]
    },
    {
      "cell_type": "code",
      "execution_count": 6,
      "metadata": {
        "id": "nygW4bchSQoE"
      },
      "outputs": [],
      "source": [
        "# Model design\n",
        "import agentpy as ap\n",
        "import numpy as np\n",
        "\n",
        "# Visualization\n",
        "import seaborn as sns"
      ]
    },
    {
      "cell_type": "markdown",
      "metadata": {
        "id": "JxVmJOJ5SQoE"
      },
      "source": [
        "## About the model\n",
        "\n",
        "The model explores the distribution of wealth under a trading population of agents.\n",
        "Each agent starts with one unit of wealth.\n",
        "During each time-step, each agents with positive wealth\n",
        "randomly selects a trading partner and gives them one unit of their wealth.\n",
        "We will see that this random interaction will create an inequality of wealth that\n",
        "follows a [Boltzmann distribution](http://www.phys.ufl.edu/~meisel/Boltzmann.pdf).\n",
        "The original version of this model been written in [MESA](https://mesa.readthedocs.io/)\n",
        "and can be found [here](https://mesa.readthedocs.io/en/master/tutorials/intro_tutorial.html)."
      ]
    },
    {
      "cell_type": "markdown",
      "metadata": {
        "id": "tUxGF5KTSQoF"
      },
      "source": [
        "## Model definition"
      ]
    },
    {
      "cell_type": "markdown",
      "metadata": {
        "id": "7ir_BRaSSQoF",
        "raw_mimetype": "text/restructuredtext"
      },
      "source": [
        "We start by defining a new type of `Agent` with the following methods:\n",
        "\n",
        "- `setup()` is called automatically when a new agent is created and initializes a variable `wealth`.\n",
        "- `wealth_transfer()` describes the agent's behavior at every time-step and will be called by the model."
      ]
    },
    {
      "cell_type": "code",
      "execution_count": 7,
      "metadata": {
        "id": "bNKkO8vlSQoF"
      },
      "outputs": [],
      "source": [
        "class WealthAgent1(ap.Agent):\n",
        "\n",
        "    \"\"\" An agent with wealth - Rodolfo \"\"\"\n",
        "\n",
        "    def setup(self):\n",
        "        self.wealth = np.random.randint(1, 51)\n",
        "        self.utility = self.wealth\n",
        "\n",
        "    def wealth_transfer(self):\n",
        "\n",
        "        if self.wealth > 1:\n",
        "            partner = self.model.agents1.random()\n",
        "            transfer_amount = 1\n",
        "            self.wealth -= transfer_amount\n",
        "            partner.wealth += transfer_amount\n",
        "\n",
        "class WealthAgent2(ap.Agent):\n",
        "\n",
        "    \"\"\" An agent with wealth \"- Sofia\"\"\"\n",
        "\n",
        "    def setup(self):\n",
        "\n",
        "        self.wealth = 1\n",
        "        self.utility = 1\n",
        "\n",
        "    def wealth_transfer(self):\n",
        "      partner = (self.model.agents1 + self.model.agents2 + self.model.agents4).random()\n",
        "      if partner.wealth < self.wealth:\n",
        "            amount = min(2, self.wealth)\n",
        "            self.wealth -= amount\n",
        "            partner.wealth += amount\n",
        "            self.utility += amount\n",
        "\n",
        "class WealthAgent3(ap.Agent):\n",
        "\n",
        "    \"\"\" An agent with wealth  - Mariana\"\"\"\n",
        "\n",
        "    def setup(self):\n",
        "\n",
        "        self.wealth = 1\n",
        "        self.utility = 1\n",
        "\n",
        "    def wealth_transfer(self):\n",
        "        partner = (self.model.agents1 + self.model.agents2 + self.model.agents4).random()\n",
        "        otherw = list(partner.wealth)[0]\n",
        "        if partner.wealth > self.wealth:\n",
        "          if self.wealth < 15:\n",
        "            self.wealth += (otherw - 1)\n",
        "            partner.wealth = 1\n",
        "            self.utility += (otherw - 1)\n",
        "\n",
        "class WealthAgent4(ap.Agent):\n",
        "\n",
        "    \"\"\" An agent with wealth - Roger\"\"\"\n",
        "\n",
        "    def setup(self):\n",
        "\n",
        "        self.wealth = np.random.randint(1, 101)\n",
        "        self.utility = 1\n",
        "\n",
        "    def wealth_transfer(self):\n",
        "\n",
        "        if self.wealth > 0:\n",
        "\n",
        "            partner = (self.model.agents1 + self.model.agents2 + self.model.agents4).random()\n",
        "            if partner.wealth <= self.wealth:\n",
        "                partner.wealth += 1\n",
        "                self.wealth -= 1"
      ]
    },
    {
      "cell_type": "markdown",
      "metadata": {
        "id": "b1Lf2UqgSQoG",
        "raw_mimetype": "text/restructuredtext"
      },
      "source": [
        "Finally, we define our [`Model`](https://agentpy.readthedocs.io/en/stable/reference_models.html) with the following methods:\n",
        "\n",
        "- `setup` defines how many agents should be created at the beginning of the simulation.\n",
        "- `step` calls all agents during each time-step to perform their `wealth_transfer` method.\n",
        "- `update` calculates and record the current Gini coefficient after each time-step.\n",
        "- `end`, which is called at the end of the simulation, we record the wealth of each agent."
      ]
    },
    {
      "cell_type": "code",
      "execution_count": 8,
      "metadata": {
        "id": "cYox5og4SQoG"
      },
      "outputs": [],
      "source": [
        "class WealthModel(ap.Model):\n",
        "\n",
        "    \"\"\" A simple model of random wealth transfers \"\"\"\n",
        "\n",
        "    def setup(self):\n",
        "\n",
        "        self.agents1 = ap.AgentList(self, self.p.agents, WealthAgent1)\n",
        "        self.agents2 = ap.AgentList(self, self.p.agents, WealthAgent2)\n",
        "        self.agents3 = ap.AgentList(self, self.p.agents, WealthAgent3)\n",
        "        self.agents4 = ap.AgentList(self, self.p.agents, WealthAgent4)\n",
        "\n",
        "    def step(self):\n",
        "\n",
        "        self.agents1.wealth_transfer()\n",
        "        self.agents2.wealth_transfer()\n",
        "        self.agents3.wealth_transfer()\n",
        "        self.agents4.wealth_transfer()\n",
        "\n",
        "    def update(self):\n",
        "\n",
        "        self.record('Utility (Agent 1)', list(self.agents1.utility))\n",
        "        self.record('Utility (Agent 2)', list(self.agents2.utility))\n",
        "        self.record('Utility (Agent 3)', list(self.agents3.utility))\n",
        "        self.record('Utility (Agent 4)', list(self.agents4.utility))\n",
        "\n",
        "    def end(self):\n",
        "\n",
        "        self.agents1.record('wealth')\n",
        "        self.agents2.record('wealth')\n",
        "        self.agents3.record('wealth')\n",
        "        self.agents4.record('wealth')\n",
        "\n",
        "        self.record(\"Task predicate 1\", all(list(self.agents1.wealth)))\n",
        "        self.record(\"Task predicate 2\", all(list(self.agents2.wealth)))\n",
        "        self.record(\"Task predicate 3\", all(list(self.agents3.wealth)))\n",
        "        self.record(\"Task predicate 4\", all(list(self.agents4.wealth)))"
      ]
    },
    {
      "cell_type": "markdown",
      "metadata": {
        "id": "JYV7nSIwSQoG"
      },
      "source": [
        "## Simulation run"
      ]
    },
    {
      "cell_type": "markdown",
      "metadata": {
        "id": "wHLn07nqSQoG",
        "raw_mimetype": "text/restructuredtext"
      },
      "source": [
        "To prepare, we define parameter dictionary with a [random seed](https://agentpy.readthedocs.io/en/stable/guide_random.html), the number of agents, and the number of time-steps."
      ]
    },
    {
      "cell_type": "code",
      "execution_count": 9,
      "metadata": {
        "id": "I5GrbsnnSQoG"
      },
      "outputs": [],
      "source": [
        "parameters = {\n",
        "    'agents': 50,\n",
        "    'steps': 100,\n",
        "    'seed': 42,\n",
        "}"
      ]
    },
    {
      "cell_type": "markdown",
      "metadata": {
        "id": "tppKRzNgSQoG",
        "raw_mimetype": "text/restructuredtext"
      },
      "source": [
        "To perform a simulation, we initialize our model with a given set of parameters and call [`Model.run()`](https://agentpy.readthedocs.io/en/stable/reference_models.html)."
      ]
    },
    {
      "cell_type": "code",
      "execution_count": 10,
      "metadata": {
        "colab": {
          "base_uri": "https://localhost:8080/"
        },
        "id": "1BDH9T9RSQoH",
        "outputId": "154848e1-f37a-45bf-f5fc-92efee5818b6"
      },
      "outputs": [
        {
          "name": "stdout",
          "output_type": "stream",
          "text": [
            "Completed: 100 steps\n",
            "Run time: 0:00:00.265044\n",
            "Simulation finished\n"
          ]
        }
      ],
      "source": [
        "model = WealthModel(parameters)\n",
        "results = model.run()"
      ]
    },
    {
      "cell_type": "markdown",
      "metadata": {
        "id": "WYrccVxYSQoH"
      },
      "source": [
        "## Output analysis"
      ]
    },
    {
      "cell_type": "markdown",
      "metadata": {
        "id": "lrm9nRkLSQoH"
      },
      "source": [
        "The simulation returns a [`DataDict`](https://agentpy.readthedocs.io/en/stable/reference_output.html) with our recorded variables."
      ]
    },
    {
      "cell_type": "code",
      "execution_count": 11,
      "metadata": {
        "colab": {
          "base_uri": "https://localhost:8080/"
        },
        "id": "cCKavKzNSQoH",
        "outputId": "8312470f-7461-4400-a949-b0b2ce31ed06"
      },
      "outputs": [
        {
          "data": {
            "text/plain": [
              "DataDict {\n",
              "'info': Dictionary with 9 keys\n",
              "'parameters': \n",
              "    'constants': Dictionary with 3 keys\n",
              "'variables': \n",
              "    'WealthModel': DataFrame with 8 variables and 101 rows\n",
              "    'WealthAgent1': DataFrame with 1 variable and 50 rows\n",
              "    'WealthAgent2': DataFrame with 1 variable and 50 rows\n",
              "    'WealthAgent3': DataFrame with 1 variable and 50 rows\n",
              "    'WealthAgent4': DataFrame with 1 variable and 50 rows\n",
              "'reporters': DataFrame with 1 variable and 1 row\n",
              "}"
            ]
          },
          "execution_count": 11,
          "metadata": {},
          "output_type": "execute_result"
        }
      ],
      "source": [
        "results"
      ]
    },
    {
      "cell_type": "markdown",
      "metadata": {
        "id": "YYsYI_-QSQoH"
      },
      "source": [
        "The output's `info` provides general information about the simulation."
      ]
    },
    {
      "cell_type": "code",
      "execution_count": 12,
      "metadata": {
        "colab": {
          "base_uri": "https://localhost:8080/"
        },
        "id": "nejV-RsOSQoH",
        "outputId": "e97e6136-ffcd-41a4-b824-3145750e5920"
      },
      "outputs": [
        {
          "data": {
            "text/plain": [
              "{'model_type': 'WealthModel',\n",
              " 'time_stamp': '2025-01-12 13:51:14',\n",
              " 'agentpy_version': '0.1.5',\n",
              " 'python_version': '3.12.',\n",
              " 'experiment': False,\n",
              " 'completed': True,\n",
              " 'created_objects': 200,\n",
              " 'completed_steps': 100,\n",
              " 'run_time': '0:00:00.265044'}"
            ]
          },
          "execution_count": 12,
          "metadata": {},
          "output_type": "execute_result"
        }
      ],
      "source": [
        "results.info"
      ]
    },
    {
      "cell_type": "markdown",
      "metadata": {
        "id": "ha0F7xZaSQoH"
      },
      "source": [
        "To explore the evolution of inequality,\n",
        "we look at the recorded [`DataFrame`](https://pandas.pydata.org/pandas-docs/stable/reference/api/pandas.DataFrame.html) of the model's variables."
      ]
    },
    {
      "cell_type": "code",
      "execution_count": 13,
      "metadata": {
        "colab": {
          "base_uri": "https://localhost:8080/",
          "height": 532
        },
        "id": "wnHClGbYSQoI",
        "outputId": "c17afc2c-f8ad-487d-eee2-2ab1cf8eb870"
      },
      "outputs": [
        {
          "data": {
            "text/html": [
              "<div>\n",
              "<style scoped>\n",
              "    .dataframe tbody tr th:only-of-type {\n",
              "        vertical-align: middle;\n",
              "    }\n",
              "\n",
              "    .dataframe tbody tr th {\n",
              "        vertical-align: top;\n",
              "    }\n",
              "\n",
              "    .dataframe thead th {\n",
              "        text-align: right;\n",
              "    }\n",
              "</style>\n",
              "<table border=\"1\" class=\"dataframe\">\n",
              "  <thead>\n",
              "    <tr style=\"text-align: right;\">\n",
              "      <th></th>\n",
              "      <th>Utility (Agent 1)</th>\n",
              "      <th>Utility (Agent 2)</th>\n",
              "      <th>Utility (Agent 3)</th>\n",
              "      <th>Utility (Agent 4)</th>\n",
              "      <th>Task predicate 1</th>\n",
              "      <th>Task predicate 2</th>\n",
              "      <th>Task predicate 3</th>\n",
              "      <th>Task predicate 4</th>\n",
              "    </tr>\n",
              "    <tr>\n",
              "      <th>t</th>\n",
              "      <th></th>\n",
              "      <th></th>\n",
              "      <th></th>\n",
              "      <th></th>\n",
              "      <th></th>\n",
              "      <th></th>\n",
              "      <th></th>\n",
              "      <th></th>\n",
              "    </tr>\n",
              "  </thead>\n",
              "  <tbody>\n",
              "    <tr>\n",
              "      <th>0</th>\n",
              "      <td>[26, 23, 42, 41, 39, 14, 12, 7, 29, 5, 30, 7, ...</td>\n",
              "      <td>[1, 1, 1, 1, 1, 1, 1, 1, 1, 1, 1, 1, 1, 1, 1, ...</td>\n",
              "      <td>[1, 1, 1, 1, 1, 1, 1, 1, 1, 1, 1, 1, 1, 1, 1, ...</td>\n",
              "      <td>[1, 1, 1, 1, 1, 1, 1, 1, 1, 1, 1, 1, 1, 1, 1, ...</td>\n",
              "      <td>None</td>\n",
              "      <td>None</td>\n",
              "      <td>None</td>\n",
              "      <td>None</td>\n",
              "    </tr>\n",
              "    <tr>\n",
              "      <th>1</th>\n",
              "      <td>[26, 23, 42, 41, 39, 14, 12, 7, 29, 5, 30, 7, ...</td>\n",
              "      <td>[2, 2, 2, 2, 2, 2, 2, 2, 2, 2, 2, 2, 2, 2, 2, ...</td>\n",
              "      <td>[75, 99, 12, 0, 39, 0, 48, 52, 1, 24, 42, 1, 5...</td>\n",
              "      <td>[1, 1, 1, 1, 1, 1, 1, 1, 1, 1, 1, 1, 1, 1, 1, ...</td>\n",
              "      <td>None</td>\n",
              "      <td>None</td>\n",
              "      <td>None</td>\n",
              "      <td>None</td>\n",
              "    </tr>\n",
              "    <tr>\n",
              "      <th>2</th>\n",
              "      <td>[26, 23, 42, 41, 39, 14, 12, 7, 29, 5, 30, 7, ...</td>\n",
              "      <td>[3, 3, 2, 4, 4, 2, 4, 3, 4, 3, 2, 4, 3, 4, 3, ...</td>\n",
              "      <td>[75, 99, 11, 43, 39, 42, 48, 52, 78, 24, 42, 2...</td>\n",
              "      <td>[1, 1, 1, 1, 1, 1, 1, 1, 1, 1, 1, 1, 1, 1, 1, ...</td>\n",
              "      <td>None</td>\n",
              "      <td>None</td>\n",
              "      <td>None</td>\n",
              "      <td>None</td>\n",
              "    </tr>\n",
              "    <tr>\n",
              "      <th>3</th>\n",
              "      <td>[26, 23, 42, 41, 39, 14, 12, 7, 29, 5, 30, 7, ...</td>\n",
              "      <td>[3, 3, 4, 5, 5, 2, 4, 3, 5, 3, 4, 4, 3, 5, 4, ...</td>\n",
              "      <td>[75, 99, 60, 43, 39, 42, 48, 52, 78, 24, 42, 1...</td>\n",
              "      <td>[1, 1, 1, 1, 1, 1, 1, 1, 1, 1, 1, 1, 1, 1, 1, ...</td>\n",
              "      <td>None</td>\n",
              "      <td>None</td>\n",
              "      <td>None</td>\n",
              "      <td>None</td>\n",
              "    </tr>\n",
              "    <tr>\n",
              "      <th>4</th>\n",
              "      <td>[26, 23, 42, 41, 39, 14, 12, 7, 29, 5, 30, 7, ...</td>\n",
              "      <td>[3, 3, 4, 5, 6, 2, 5, 3, 5, 3, 6, 5, 4, 7, 4, ...</td>\n",
              "      <td>[75, 99, 60, 43, 39, 42, 48, 52, 78, 24, 42, 0...</td>\n",
              "      <td>[1, 1, 1, 1, 1, 1, 1, 1, 1, 1, 1, 1, 1, 1, 1, ...</td>\n",
              "      <td>None</td>\n",
              "      <td>None</td>\n",
              "      <td>None</td>\n",
              "      <td>None</td>\n",
              "    </tr>\n",
              "  </tbody>\n",
              "</table>\n",
              "</div>"
            ],
            "text/plain": [
              "                                   Utility (Agent 1)  \\\n",
              "t                                                      \n",
              "0  [26, 23, 42, 41, 39, 14, 12, 7, 29, 5, 30, 7, ...   \n",
              "1  [26, 23, 42, 41, 39, 14, 12, 7, 29, 5, 30, 7, ...   \n",
              "2  [26, 23, 42, 41, 39, 14, 12, 7, 29, 5, 30, 7, ...   \n",
              "3  [26, 23, 42, 41, 39, 14, 12, 7, 29, 5, 30, 7, ...   \n",
              "4  [26, 23, 42, 41, 39, 14, 12, 7, 29, 5, 30, 7, ...   \n",
              "\n",
              "                                   Utility (Agent 2)  \\\n",
              "t                                                      \n",
              "0  [1, 1, 1, 1, 1, 1, 1, 1, 1, 1, 1, 1, 1, 1, 1, ...   \n",
              "1  [2, 2, 2, 2, 2, 2, 2, 2, 2, 2, 2, 2, 2, 2, 2, ...   \n",
              "2  [3, 3, 2, 4, 4, 2, 4, 3, 4, 3, 2, 4, 3, 4, 3, ...   \n",
              "3  [3, 3, 4, 5, 5, 2, 4, 3, 5, 3, 4, 4, 3, 5, 4, ...   \n",
              "4  [3, 3, 4, 5, 6, 2, 5, 3, 5, 3, 6, 5, 4, 7, 4, ...   \n",
              "\n",
              "                                   Utility (Agent 3)  \\\n",
              "t                                                      \n",
              "0  [1, 1, 1, 1, 1, 1, 1, 1, 1, 1, 1, 1, 1, 1, 1, ...   \n",
              "1  [75, 99, 12, 0, 39, 0, 48, 52, 1, 24, 42, 1, 5...   \n",
              "2  [75, 99, 11, 43, 39, 42, 48, 52, 78, 24, 42, 2...   \n",
              "3  [75, 99, 60, 43, 39, 42, 48, 52, 78, 24, 42, 1...   \n",
              "4  [75, 99, 60, 43, 39, 42, 48, 52, 78, 24, 42, 0...   \n",
              "\n",
              "                                   Utility (Agent 4) Task predicate 1  \\\n",
              "t                                                                       \n",
              "0  [1, 1, 1, 1, 1, 1, 1, 1, 1, 1, 1, 1, 1, 1, 1, ...             None   \n",
              "1  [1, 1, 1, 1, 1, 1, 1, 1, 1, 1, 1, 1, 1, 1, 1, ...             None   \n",
              "2  [1, 1, 1, 1, 1, 1, 1, 1, 1, 1, 1, 1, 1, 1, 1, ...             None   \n",
              "3  [1, 1, 1, 1, 1, 1, 1, 1, 1, 1, 1, 1, 1, 1, 1, ...             None   \n",
              "4  [1, 1, 1, 1, 1, 1, 1, 1, 1, 1, 1, 1, 1, 1, 1, ...             None   \n",
              "\n",
              "  Task predicate 2 Task predicate 3 Task predicate 4  \n",
              "t                                                     \n",
              "0             None             None             None  \n",
              "1             None             None             None  \n",
              "2             None             None             None  \n",
              "3             None             None             None  \n",
              "4             None             None             None  "
            ]
          },
          "execution_count": 13,
          "metadata": {},
          "output_type": "execute_result"
        }
      ],
      "source": [
        "results.variables.WealthModel.head()"
      ]
    },
    {
      "cell_type": "code",
      "execution_count": 14,
      "metadata": {
        "colab": {
          "base_uri": "https://localhost:8080/"
        },
        "id": "J850rgo48wPD",
        "outputId": "bfc4562e-ba71-4da3-bc72-da524cc90be6"
      },
      "outputs": [
        {
          "name": "stdout",
          "output_type": "stream",
          "text": [
            "Psi(r) = 1\n"
          ]
        }
      ],
      "source": [
        "TP = results.variables.WealthModel[\"Task predicate 1\"].tail(1).values[0]\n",
        "print(f\"Psi(r) = {int(TP)}\")"
      ]
    },
    {
      "cell_type": "code",
      "execution_count": 15,
      "metadata": {
        "colab": {
          "base_uri": "https://localhost:8080/"
        },
        "id": "2EPnE3Na9-fb",
        "outputId": "5837f902-818b-4560-e2c4-466d33e7a147"
      },
      "outputs": [
        {
          "name": "stdout",
          "output_type": "stream",
          "text": [
            "Psi(r) = 0\n"
          ]
        }
      ],
      "source": [
        "TP = results.variables.WealthModel[\"Task predicate 2\"].tail(1).values[0]\n",
        "print(f\"Psi(r) = {int(TP)}\")"
      ]
    },
    {
      "cell_type": "code",
      "execution_count": 16,
      "metadata": {
        "colab": {
          "base_uri": "https://localhost:8080/"
        },
        "id": "ACZj9vpT-AyM",
        "outputId": "c113b438-ee6e-4ee2-f6cb-7e6f663da8ce"
      },
      "outputs": [
        {
          "name": "stdout",
          "output_type": "stream",
          "text": [
            "Psi(r) = 1\n"
          ]
        }
      ],
      "source": [
        "TP = results.variables.WealthModel[\"Task predicate 3\"].tail(1).values[0]\n",
        "print(f\"Psi(r) = {int(TP)}\")"
      ]
    },
    {
      "cell_type": "code",
      "execution_count": 17,
      "metadata": {
        "colab": {
          "base_uri": "https://localhost:8080/"
        },
        "id": "gofdLuhe-Ci6",
        "outputId": "77a2a1fb-b384-4936-9044-2052b19f87be"
      },
      "outputs": [
        {
          "name": "stdout",
          "output_type": "stream",
          "text": [
            "Psi(r) = 0\n"
          ]
        }
      ],
      "source": [
        "TP = results.variables.WealthModel[\"Task predicate 4\"].tail(1).values[0]\n",
        "print(f\"Psi(r) = {int(TP)}\")"
      ]
    },
    {
      "cell_type": "markdown",
      "metadata": {
        "id": "QHceewf9SQoI",
        "raw_mimetype": "text/restructuredtext"
      },
      "source": [
        "To visualize this data,\n",
        "we can use [`DataFrame.plot`](https://pandas.pydata.org/pandas-docs/stable/reference/api/pandas.DataFrame.plot.html)."
      ]
    },
    {
      "cell_type": "markdown",
      "metadata": {
        "id": "Xsin3tPSSQoI",
        "raw_mimetype": "text/restructuredtext"
      },
      "source": [
        "To look at the distribution at the end of the simulation,\n",
        "we visualize the recorded agent variables with [seaborn](https://seaborn.pydata.org/)."
      ]
    },
    {
      "cell_type": "code",
      "execution_count": 19,
      "metadata": {
        "colab": {
          "base_uri": "https://localhost:8080/",
          "height": 432
        },
        "id": "HmJy5SD_SQoI",
        "outputId": "ff3c6afd-edc5-40bd-8d0b-2f4e421b5d7c"
      },
      "outputs": [
        {
          "data": {
            "image/png": "[encoded data removed]",
            "text/plain": [
              "<Figure size 640x480 with 4 Axes>"
            ]
          },
          "metadata": {},
          "output_type": "display_data"
        }
      ],
      "source": [
        "import matplotlib.pyplot as plt\n",
        "import seaborn as sns\n",
        "import pandas as pd\n",
        "\n",
        "fig, axs = plt.subplots(nrows=4)\n",
        "df = pd.DataFrame(list(data[\"Utility (Agent 1)\"]))\n",
        "sns.stripplot(data=df, ax=axs[0]);\n",
        "df = pd.DataFrame([list(data[\"Utility (Agent 2)\"])[99]])\n",
        "sns.stripplot(data=df, ax=axs[1]);\n",
        "df = pd.DataFrame([list(data[\"Utility (Agent 3)\"])[99]])\n",
        "sns.stripplot(data=df, ax=axs[2])\n",
        "df = pd.DataFrame(list(data[\"Utility (Agent 4)\"]))\n",
        "sns.stripplot(data=df, ax=axs[3]);"
      ]
    },
    {
      "cell_type": "markdown",
      "metadata": {
        "id": "AXzRmQW5viTp"
      },
      "source": [
        "**¿Cuál es el ambiente?**\n",
        "Todos los agentes creados y su wealth.\n",
        "\n",
        "**¿Qué sería lo análogo a la función de percepción \"see()\"?**\n",
        "Es equivalente a la parte donde puede visualizar a todos los agentes.\n",
        "\n",
        "**¿Cuáles son los perceptos?**\n",
        "En la mayoría de los casos, observa un agente y elige uno al azar.\n",
        "\n",
        "**¿Qué sería lo análogo a la función de decisión de acciones \"next()\"?**\n",
        "Lo análogo a la función next es la parte donde evalua funciones booleanas de acuerdo al estado interno del agente y la del que fue escogido.\n",
        "\n",
        "**¿Cuáles son los estados internos del agente?**\n",
        "Utility y Wealth.\n",
        "\n",
        "**¿Qué sería lo análogo a la función de acción \"action()\"?**\n",
        "Esto sería donde se lleva a cabo la acción de intercambio de dinero entre agentes.\n",
        "\n",
        "**¿Cuáles son las acciones posibles?**\n",
        "Quitar dinero, dar dinero y no hacer nada."
      ]
    }
  ],
  "metadata": {
    "colab": {
      "provenance": []
    },
    "kernelspec": {
      "display_name": "Python 3",
      "language": "python",
      "name": "python3"
    },
    "language_info": {
      "codemirror_mode": {
        "name": "ipython",
        "version": 3
      },
      "file_extension": ".py",
      "mimetype": "text/x-python",
      "name": "python",
      "nbconvert_exporter": "python",
      "pygments_lexer": "ipython3",
      "version": "3.12.6"
    }
  },
  "nbformat": 4,
  "nbformat_minor": 0
}
