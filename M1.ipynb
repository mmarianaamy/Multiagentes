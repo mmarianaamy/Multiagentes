{
  "cells": [
    {
      "cell_type": "markdown",
      "metadata": {
        "id": "VovN_1JPSQoC"
      },
      "source": [
        "# Wealth transfer"
      ]
    },
    {
      "cell_type": "code",
      "source": [
        "!pip install agentpy"
      ],
      "metadata": {
        "colab": {
          "base_uri": "https://localhost:8080/"
        },
        "id": "0-b-Nh9TSRI7",
        "outputId": "99303d41-5b15-4d14-f314-f44256c75420"
      },
      "execution_count": null,
      "outputs": [
        {
          "output_type": "stream",
          "name": "stdout",
          "text": [
            "Collecting agentpy\n",
            "  Downloading agentpy-0.1.5-py3-none-any.whl.metadata (3.3 kB)\n",
            "Requirement already satisfied: numpy>=1.19 in /usr/local/lib/python3.10/dist-packages (from agentpy) (1.26.4)\n",
            "Requirement already satisfied: scipy>=1.5.2 in /usr/local/lib/python3.10/dist-packages (from agentpy) (1.13.1)\n",
            "Requirement already satisfied: matplotlib>=3.3.3 in /usr/local/lib/python3.10/dist-packages (from agentpy) (3.10.0)\n",
            "Requirement already satisfied: networkx>=2.5 in /usr/local/lib/python3.10/dist-packages (from agentpy) (3.4.2)\n",
            "Requirement already satisfied: pandas>=1.1.3 in /usr/local/lib/python3.10/dist-packages (from agentpy) (2.2.2)\n",
            "Collecting SALib>=1.3.7 (from agentpy)\n",
            "  Downloading salib-1.5.1-py3-none-any.whl.metadata (11 kB)\n",
            "Requirement already satisfied: joblib>=1.1.0 in /usr/local/lib/python3.10/dist-packages (from agentpy) (1.4.2)\n",
            "Requirement already satisfied: contourpy>=1.0.1 in /usr/local/lib/python3.10/dist-packages (from matplotlib>=3.3.3->agentpy) (1.3.1)\n",
            "Requirement already satisfied: cycler>=0.10 in /usr/local/lib/python3.10/dist-packages (from matplotlib>=3.3.3->agentpy) (0.12.1)\n",
            "Requirement already satisfied: fonttools>=4.22.0 in /usr/local/lib/python3.10/dist-packages (from matplotlib>=3.3.3->agentpy) (4.55.3)\n",
            "Requirement already satisfied: kiwisolver>=1.3.1 in /usr/local/lib/python3.10/dist-packages (from matplotlib>=3.3.3->agentpy) (1.4.8)\n",
            "Requirement already satisfied: packaging>=20.0 in /usr/local/lib/python3.10/dist-packages (from matplotlib>=3.3.3->agentpy) (24.2)\n",
            "Requirement already satisfied: pillow>=8 in /usr/local/lib/python3.10/dist-packages (from matplotlib>=3.3.3->agentpy) (11.1.0)\n",
            "Requirement already satisfied: pyparsing>=2.3.1 in /usr/local/lib/python3.10/dist-packages (from matplotlib>=3.3.3->agentpy) (3.2.1)\n",
            "Requirement already satisfied: python-dateutil>=2.7 in /usr/local/lib/python3.10/dist-packages (from matplotlib>=3.3.3->agentpy) (2.8.2)\n",
            "Requirement already satisfied: pytz>=2020.1 in /usr/local/lib/python3.10/dist-packages (from pandas>=1.1.3->agentpy) (2024.2)\n",
            "Requirement already satisfied: tzdata>=2022.7 in /usr/local/lib/python3.10/dist-packages (from pandas>=1.1.3->agentpy) (2024.2)\n",
            "Collecting multiprocess (from SALib>=1.3.7->agentpy)\n",
            "  Downloading multiprocess-0.70.17-py310-none-any.whl.metadata (7.2 kB)\n",
            "Requirement already satisfied: six>=1.5 in /usr/local/lib/python3.10/dist-packages (from python-dateutil>=2.7->matplotlib>=3.3.3->agentpy) (1.17.0)\n",
            "Collecting dill>=0.3.9 (from multiprocess->SALib>=1.3.7->agentpy)\n",
            "  Downloading dill-0.3.9-py3-none-any.whl.metadata (10 kB)\n",
            "Downloading agentpy-0.1.5-py3-none-any.whl (53 kB)\n",
            "\u001b[2K   \u001b[90m━━━━━━━━━━━━━━━━━━━━━━━━━━━━━━━━━━━━━━━━\u001b[0m \u001b[32m53.9/53.9 kB\u001b[0m \u001b[31m2.5 MB/s\u001b[0m eta \u001b[36m0:00:00\u001b[0m\n",
            "\u001b[?25hDownloading salib-1.5.1-py3-none-any.whl (778 kB)\n",
            "\u001b[2K   \u001b[90m━━━━━━━━━━━━━━━━━━━━━━━━━━━━━━━━━━━━━━━━\u001b[0m \u001b[32m778.9/778.9 kB\u001b[0m \u001b[31m13.5 MB/s\u001b[0m eta \u001b[36m0:00:00\u001b[0m\n",
            "\u001b[?25hDownloading multiprocess-0.70.17-py310-none-any.whl (134 kB)\n",
            "\u001b[2K   \u001b[90m━━━━━━━━━━━━━━━━━━━━━━━━━━━━━━━━━━━━━━━━\u001b[0m \u001b[32m134.8/134.8 kB\u001b[0m \u001b[31m13.1 MB/s\u001b[0m eta \u001b[36m0:00:00\u001b[0m\n",
            "\u001b[?25hDownloading dill-0.3.9-py3-none-any.whl (119 kB)\n",
            "\u001b[2K   \u001b[90m━━━━━━━━━━━━━━━━━━━━━━━━━━━━━━━━━━━━━━━━\u001b[0m \u001b[32m119.4/119.4 kB\u001b[0m \u001b[31m13.0 MB/s\u001b[0m eta \u001b[36m0:00:00\u001b[0m\n",
            "\u001b[?25hInstalling collected packages: dill, multiprocess, SALib, agentpy\n",
            "Successfully installed SALib-1.5.1 agentpy-0.1.5 dill-0.3.9 multiprocess-0.70.17\n"
          ]
        }
      ]
    },
    {
      "cell_type": "markdown",
      "metadata": {
        "id": "t4UZ0QQ2SQoD"
      },
      "source": [
        "This notebook presents a tutorial for beginners on how to create a simple agent-based model with the [agentpy](https://agentpy.readthedocs.io) package.\n",
        "It demonstrates how to create a basic model with a custom agent type, run a simulation, record data, and visualize results."
      ]
    },
    {
      "cell_type": "code",
      "execution_count": null,
      "metadata": {
        "id": "nygW4bchSQoE"
      },
      "outputs": [],
      "source": [
        "# Model design\n",
        "import agentpy as ap\n",
        "import numpy as np\n",
        "\n",
        "# Visualization\n",
        "import seaborn as sns"
      ]
    },
    {
      "cell_type": "markdown",
      "metadata": {
        "id": "JxVmJOJ5SQoE"
      },
      "source": [
        "## About the model\n",
        "\n",
        "The model explores the distribution of wealth under a trading population of agents.\n",
        "Each agent starts with one unit of wealth.\n",
        "During each time-step, each agents with positive wealth\n",
        "randomly selects a trading partner and gives them one unit of their wealth.\n",
        "We will see that this random interaction will create an inequality of wealth that\n",
        "follows a [Boltzmann distribution](http://www.phys.ufl.edu/~meisel/Boltzmann.pdf).\n",
        "The original version of this model been written in [MESA](https://mesa.readthedocs.io/)\n",
        "and can be found [here](https://mesa.readthedocs.io/en/master/tutorials/intro_tutorial.html)."
      ]
    },
    {
      "cell_type": "markdown",
      "metadata": {
        "id": "tUxGF5KTSQoF"
      },
      "source": [
        "## Model definition"
      ]
    },
    {
      "cell_type": "markdown",
      "metadata": {
        "raw_mimetype": "text/restructuredtext",
        "id": "7ir_BRaSSQoF"
      },
      "source": [
        "We start by defining a new type of `Agent` with the following methods:\n",
        "\n",
        "- `setup()` is called automatically when a new agent is created and initializes a variable `wealth`.\n",
        "- `wealth_transfer()` describes the agent's behavior at every time-step and will be called by the model."
      ]
    },
    {
      "cell_type": "code",
      "execution_count": null,
      "metadata": {
        "id": "bNKkO8vlSQoF"
      },
      "outputs": [],
      "source": [
        "class WealthAgent1(ap.Agent):\n",
        "\n",
        "    \"\"\" An agent with wealth - Rodolfo \"\"\"\n",
        "\n",
        "    def setup(self):\n",
        "        self.wealth = np.random.randint(1, 51)\n",
        "        self.utility = self.wealth\n",
        "\n",
        "    def wealth_transfer(self):\n",
        "\n",
        "        if self.wealth > 1:\n",
        "            partner = self.model.agents1.random()\n",
        "            transfer_amount = 1\n",
        "            self.wealth -= transfer_amount\n",
        "            partner.wealth += transfer_amount\n",
        "\n",
        "class WealthAgent2(ap.Agent):\n",
        "\n",
        "    \"\"\" An agent with wealth \"- Sofia\"\"\"\n",
        "\n",
        "    def setup(self):\n",
        "\n",
        "        self.wealth = 1\n",
        "        self.utility = 1\n",
        "\n",
        "    def wealth_transfer(self):\n",
        "      partner = (self.model.agents1 + self.model.agents2 + self.model.agents4).random()\n",
        "      if partner.wealth < self.wealth:\n",
        "            amount = min(2, self.wealth)\n",
        "            self.wealth -= amount\n",
        "            partner.wealth += amount\n",
        "            self.utility += amount\n",
        "\n",
        "class WealthAgent3(ap.Agent):\n",
        "\n",
        "    \"\"\" An agent with wealth  - Mariana\"\"\"\n",
        "\n",
        "    def setup(self):\n",
        "\n",
        "        self.wealth = 1\n",
        "        self.utility = 1\n",
        "\n",
        "    def wealth_transfer(self):\n",
        "        partner = (self.model.agents1 + self.model.agents2 + self.model.agents4).random()\n",
        "        otherw = list(partner.wealth)[0]\n",
        "        if partner.wealth > self.wealth:\n",
        "          if self.wealth < 15:\n",
        "            self.wealth += (otherw - 1)\n",
        "            partner.wealth = 1\n",
        "            self.utility += (otherw - 1)\n",
        "\n",
        "class WealthAgent4(ap.Agent):\n",
        "\n",
        "    \"\"\" An agent with wealth - Roger\"\"\"\n",
        "\n",
        "    def setup(self):\n",
        "\n",
        "        self.wealth = np.random.randint(1, 101)\n",
        "        self.utility = 1\n",
        "\n",
        "    def wealth_transfer(self):\n",
        "\n",
        "        if self.wealth > 0:\n",
        "\n",
        "            partner = (self.model.agents1 + self.model.agents2 + self.model.agents4).random()\n",
        "            if partner.wealth <= self.wealth:\n",
        "                partner.wealth += 1\n",
        "                self.wealth -= 1"
      ]
    },
    {
      "cell_type": "markdown",
      "metadata": {
        "raw_mimetype": "text/restructuredtext",
        "id": "myTkZfAPSQoF"
      },
      "source": [
        "Next, we define a method to calculate the [Gini Coefficient](https://en.wikipedia.org/wiki/Gini_coefficient),\n",
        "which will measure the inequality among our agents."
      ]
    },
    {
      "cell_type": "code",
      "execution_count": null,
      "metadata": {
        "id": "a3vi_CctSQoF"
      },
      "outputs": [],
      "source": [
        "def gini(x):\n",
        "\n",
        "    \"\"\" Calculate Gini Coefficient \"\"\"\n",
        "    # By Warren Weckesser https://stackoverflow.com/a/39513799\n",
        "\n",
        "    x = np.array(x)\n",
        "    mad = np.abs(np.subtract.outer(x, x)).mean()  # Mean absolute difference\n",
        "    rmad = mad / np.mean(x)  # Relative mean absolute difference\n",
        "    return 0.5 * rmad"
      ]
    },
    {
      "cell_type": "markdown",
      "metadata": {
        "raw_mimetype": "text/restructuredtext",
        "id": "b1Lf2UqgSQoG"
      },
      "source": [
        "Finally, we define our [`Model`](https://agentpy.readthedocs.io/en/stable/reference_models.html) with the following methods:\n",
        "\n",
        "- `setup` defines how many agents should be created at the beginning of the simulation.\n",
        "- `step` calls all agents during each time-step to perform their `wealth_transfer` method.\n",
        "- `update` calculates and record the current Gini coefficient after each time-step.\n",
        "- `end`, which is called at the end of the simulation, we record the wealth of each agent."
      ]
    },
    {
      "cell_type": "code",
      "execution_count": null,
      "metadata": {
        "id": "cYox5og4SQoG"
      },
      "outputs": [],
      "source": [
        "class WealthModel(ap.Model):\n",
        "\n",
        "    \"\"\" A simple model of random wealth transfers \"\"\"\n",
        "\n",
        "    def setup(self):\n",
        "\n",
        "        self.agents1 = ap.AgentList(self, self.p.agents, WealthAgent1)\n",
        "        self.agents2 = ap.AgentList(self, self.p.agents, WealthAgent2)\n",
        "        self.agents3 = ap.AgentList(self, self.p.agents, WealthAgent3)\n",
        "        self.agents4 = ap.AgentList(self, self.p.agents, WealthAgent4)\n",
        "\n",
        "    def step(self):\n",
        "\n",
        "        self.agents1.wealth_transfer()\n",
        "        self.agents2.wealth_transfer()\n",
        "        self.agents3.wealth_transfer()\n",
        "        self.agents4.wealth_transfer()\n",
        "\n",
        "    def update(self):\n",
        "\n",
        "        self.record('Gini Coefficient (Agent 1)', gini(self.agents1.wealth))\n",
        "        self.record('Gini Coefficient (Agent 2)', gini(self.agents2.wealth))\n",
        "        self.record('Gini Coefficient (Agent 3)', gini(self.agents3.wealth))\n",
        "        self.record('Gini Coefficient (Agent 4)', gini(self.agents4.wealth))\n",
        "\n",
        "        self.record('Utility (Agent 1)', list(self.agents1.utility))\n",
        "        self.record('Utility (Agent 2)', list(self.agents2.utility))\n",
        "        self.record('Utility (Agent 3)', list(self.agents3.utility))\n",
        "        self.record('Utility (Agent 4)', list(self.agents4.utility))\n",
        "\n",
        "    def end(self):\n",
        "\n",
        "        self.agents1.record('wealth')\n",
        "        self.agents2.record('wealth')\n",
        "        self.agents3.record('wealth')\n",
        "        self.agents4.record('wealth')\n",
        "\n",
        "        self.record(\"Task predicate 1\", all(list(self.agents1.wealth)))\n",
        "        self.record(\"Task predicate 2\", all(list(self.agents2.wealth)))\n",
        "        self.record(\"Task predicate 3\", all(list(self.agents3.wealth)))\n",
        "        self.record(\"Task predicate 4\", all(list(self.agents4.wealth)))"
      ]
    },
    {
      "cell_type": "markdown",
      "metadata": {
        "id": "JYV7nSIwSQoG"
      },
      "source": [
        "## Simulation run"
      ]
    },
    {
      "cell_type": "markdown",
      "metadata": {
        "raw_mimetype": "text/restructuredtext",
        "id": "wHLn07nqSQoG"
      },
      "source": [
        "To prepare, we define parameter dictionary with a [random seed](https://agentpy.readthedocs.io/en/stable/guide_random.html), the number of agents, and the number of time-steps."
      ]
    },
    {
      "cell_type": "code",
      "execution_count": null,
      "metadata": {
        "id": "I5GrbsnnSQoG"
      },
      "outputs": [],
      "source": [
        "parameters = {\n",
        "    'agents': 50,\n",
        "    'steps': 100,\n",
        "    'seed': 42,\n",
        "}"
      ]
    },
    {
      "cell_type": "markdown",
      "metadata": {
        "raw_mimetype": "text/restructuredtext",
        "id": "tppKRzNgSQoG"
      },
      "source": [
        "To perform a simulation, we initialize our model with a given set of parameters and call [`Model.run()`](https://agentpy.readthedocs.io/en/stable/reference_models.html)."
      ]
    },
    {
      "cell_type": "code",
      "execution_count": null,
      "metadata": {
        "colab": {
          "base_uri": "https://localhost:8080/"
        },
        "id": "1BDH9T9RSQoH",
        "outputId": "154848e1-f37a-45bf-f5fc-92efee5818b6"
      },
      "outputs": [
        {
          "output_type": "stream",
          "name": "stdout",
          "text": [
            "Completed: 100 steps\n",
            "Run time: 0:00:00.509733\n",
            "Simulation finished\n"
          ]
        }
      ],
      "source": [
        "model = WealthModel(parameters)\n",
        "results = model.run()"
      ]
    },
    {
      "cell_type": "markdown",
      "metadata": {
        "id": "WYrccVxYSQoH"
      },
      "source": [
        "## Output analysis"
      ]
    },
    {
      "cell_type": "markdown",
      "metadata": {
        "id": "lrm9nRkLSQoH"
      },
      "source": [
        "The simulation returns a [`DataDict`](https://agentpy.readthedocs.io/en/stable/reference_output.html) with our recorded variables."
      ]
    },
    {
      "cell_type": "code",
      "execution_count": null,
      "metadata": {
        "colab": {
          "base_uri": "https://localhost:8080/"
        },
        "id": "cCKavKzNSQoH",
        "outputId": "8312470f-7461-4400-a949-b0b2ce31ed06"
      },
      "outputs": [
        {
          "output_type": "execute_result",
          "data": {
            "text/plain": [
              "DataDict {\n",
              "'info': Dictionary with 9 keys\n",
              "'parameters': \n",
              "    'constants': Dictionary with 3 keys\n",
              "'variables': \n",
              "    'WealthModel': DataFrame with 12 variables and 101 rows\n",
              "    'WealthAgent1': DataFrame with 1 variable and 50 rows\n",
              "    'WealthAgent2': DataFrame with 1 variable and 50 rows\n",
              "    'WealthAgent3': DataFrame with 1 variable and 50 rows\n",
              "    'WealthAgent4': DataFrame with 1 variable and 50 rows\n",
              "'reporters': DataFrame with 1 variable and 1 row\n",
              "}"
            ]
          },
          "metadata": {},
          "execution_count": 9
        }
      ],
      "source": [
        "results"
      ]
    },
    {
      "cell_type": "markdown",
      "metadata": {
        "id": "YYsYI_-QSQoH"
      },
      "source": [
        "The output's `info` provides general information about the simulation."
      ]
    },
    {
      "cell_type": "code",
      "execution_count": null,
      "metadata": {
        "colab": {
          "base_uri": "https://localhost:8080/"
        },
        "id": "nejV-RsOSQoH",
        "outputId": "e97e6136-ffcd-41a4-b824-3145750e5920"
      },
      "outputs": [
        {
          "output_type": "execute_result",
          "data": {
            "text/plain": [
              "{'model_type': 'WealthModel',\n",
              " 'time_stamp': '2025-01-10 04:53:30',\n",
              " 'agentpy_version': '0.1.5',\n",
              " 'python_version': '3.10.',\n",
              " 'experiment': False,\n",
              " 'completed': True,\n",
              " 'created_objects': 200,\n",
              " 'completed_steps': 100,\n",
              " 'run_time': '0:00:00.509733'}"
            ]
          },
          "metadata": {},
          "execution_count": 10
        }
      ],
      "source": [
        "results.info"
      ]
    },
    {
      "cell_type": "markdown",
      "metadata": {
        "id": "ha0F7xZaSQoH"
      },
      "source": [
        "To explore the evolution of inequality,\n",
        "we look at the recorded [`DataFrame`](https://pandas.pydata.org/pandas-docs/stable/reference/api/pandas.DataFrame.html) of the model's variables."
      ]
    },
    {
      "cell_type": "code",
      "execution_count": null,
      "metadata": {
        "colab": {
          "base_uri": "https://localhost:8080/",
          "height": 532
        },
        "id": "wnHClGbYSQoI",
        "outputId": "c17afc2c-f8ad-487d-eee2-2ab1cf8eb870"
      },
      "outputs": [
        {
          "output_type": "execute_result",
          "data": {
            "text/plain": [
              "   Gini Coefficient (Agent 1)  Gini Coefficient (Agent 2)  \\\n",
              "t                                                           \n",
              "0                    0.286630                    0.000000   \n",
              "1                    0.441138                    0.549778   \n",
              "2                    0.507292                    0.700000   \n",
              "3                    0.532889                    0.775789   \n",
              "4                    0.549420                    0.696364   \n",
              "\n",
              "   Gini Coefficient (Agent 3)  Gini Coefficient (Agent 4)  \\\n",
              "t                                                           \n",
              "0                    0.000000                    0.303229   \n",
              "1                    0.568342                    0.573400   \n",
              "2                    0.402796                    0.651438   \n",
              "3                    0.370629                    0.648243   \n",
              "4                    0.356478                    0.657966   \n",
              "\n",
              "                                   Utility (Agent 1)  \\\n",
              "t                                                      \n",
              "0  [15, 26, 3, 3, 37, 33, 17, 6, 50, 19, 31, 39, ...   \n",
              "1  [15, 26, 3, 3, 37, 33, 17, 6, 50, 19, 31, 39, ...   \n",
              "2  [15, 26, 3, 3, 37, 33, 17, 6, 50, 19, 31, 39, ...   \n",
              "3  [15, 26, 3, 3, 37, 33, 17, 6, 50, 19, 31, 39, ...   \n",
              "4  [15, 26, 3, 3, 37, 33, 17, 6, 50, 19, 31, 39, ...   \n",
              "\n",
              "                                   Utility (Agent 2)  \\\n",
              "t                                                      \n",
              "0  [1, 1, 1, 1, 1, 1, 1, 1, 1, 1, 1, 1, 1, 1, 1, ...   \n",
              "1  [2, 2, 2, 2, 2, 2, 2, 2, 2, 2, 2, 2, 2, 2, 2, ...   \n",
              "2  [3, 3, 2, 3, 4, 2, 4, 3, 4, 4, 2, 4, 3, 4, 3, ...   \n",
              "3  [3, 3, 3, 4, 5, 2, 4, 3, 6, 4, 3, 4, 3, 5, 4, ...   \n",
              "4  [4, 3, 3, 4, 5, 2, 5, 3, 7, 4, 3, 5, 4, 7, 4, ...   \n",
              "\n",
              "                                   Utility (Agent 3)  \\\n",
              "t                                                      \n",
              "0  [1, 1, 1, 1, 1, 1, 1, 1, 1, 1, 1, 1, 1, 1, 1, ...   \n",
              "1  [42, 75, 33, 48, 0, 26, 0, 30, 77, 1, 36, 66, ...   \n",
              "2  [42, 75, 33, 48, 24, 26, 45, 30, 77, 35, 36, 6...   \n",
              "3  [42, 75, 33, 48, 24, 26, 45, 30, 77, 35, 36, 6...   \n",
              "4  [42, 75, 33, 48, 24, 26, 45, 30, 77, 35, 36, 6...   \n",
              "\n",
              "                                   Utility (Agent 4) Task predicate 1  \\\n",
              "t                                                                       \n",
              "0  [1, 1, 1, 1, 1, 1, 1, 1, 1, 1, 1, 1, 1, 1, 1, ...             None   \n",
              "1  [1, 1, 1, 1, 1, 1, 1, 1, 1, 1, 1, 1, 1, 1, 1, ...             None   \n",
              "2  [1, 1, 1, 1, 1, 1, 1, 1, 1, 1, 1, 1, 1, 1, 1, ...             None   \n",
              "3  [1, 1, 1, 1, 1, 1, 1, 1, 1, 1, 1, 1, 1, 1, 1, ...             None   \n",
              "4  [1, 1, 1, 1, 1, 1, 1, 1, 1, 1, 1, 1, 1, 1, 1, ...             None   \n",
              "\n",
              "  Task predicate 2 Task predicate 3 Task predicate 4  \n",
              "t                                                     \n",
              "0             None             None             None  \n",
              "1             None             None             None  \n",
              "2             None             None             None  \n",
              "3             None             None             None  \n",
              "4             None             None             None  "
            ],
            "text/html": [
              "\n",
              "  <div id=\"df-5c7a2ccf-0043-4c0e-9538-8aac9145fe83\" class=\"colab-df-container\">\n",
              "    <div>\n",
              "<style scoped>\n",
              "    .dataframe tbody tr th:only-of-type {\n",
              "        vertical-align: middle;\n",
              "    }\n",
              "\n",
              "    .dataframe tbody tr th {\n",
              "        vertical-align: top;\n",
              "    }\n",
              "\n",
              "    .dataframe thead th {\n",
              "        text-align: right;\n",
              "    }\n",
              "</style>\n",
              "<table border=\"1\" class=\"dataframe\">\n",
              "  <thead>\n",
              "    <tr style=\"text-align: right;\">\n",
              "      <th></th>\n",
              "      <th>Gini Coefficient (Agent 1)</th>\n",
              "      <th>Gini Coefficient (Agent 2)</th>\n",
              "      <th>Gini Coefficient (Agent 3)</th>\n",
              "      <th>Gini Coefficient (Agent 4)</th>\n",
              "      <th>Utility (Agent 1)</th>\n",
              "      <th>Utility (Agent 2)</th>\n",
              "      <th>Utility (Agent 3)</th>\n",
              "      <th>Utility (Agent 4)</th>\n",
              "      <th>Task predicate 1</th>\n",
              "      <th>Task predicate 2</th>\n",
              "      <th>Task predicate 3</th>\n",
              "      <th>Task predicate 4</th>\n",
              "    </tr>\n",
              "    <tr>\n",
              "      <th>t</th>\n",
              "      <th></th>\n",
              "      <th></th>\n",
              "      <th></th>\n",
              "      <th></th>\n",
              "      <th></th>\n",
              "      <th></th>\n",
              "      <th></th>\n",
              "      <th></th>\n",
              "      <th></th>\n",
              "      <th></th>\n",
              "      <th></th>\n",
              "      <th></th>\n",
              "    </tr>\n",
              "  </thead>\n",
              "  <tbody>\n",
              "    <tr>\n",
              "      <th>0</th>\n",
              "      <td>0.286630</td>\n",
              "      <td>0.000000</td>\n",
              "      <td>0.000000</td>\n",
              "      <td>0.303229</td>\n",
              "      <td>[15, 26, 3, 3, 37, 33, 17, 6, 50, 19, 31, 39, ...</td>\n",
              "      <td>[1, 1, 1, 1, 1, 1, 1, 1, 1, 1, 1, 1, 1, 1, 1, ...</td>\n",
              "      <td>[1, 1, 1, 1, 1, 1, 1, 1, 1, 1, 1, 1, 1, 1, 1, ...</td>\n",
              "      <td>[1, 1, 1, 1, 1, 1, 1, 1, 1, 1, 1, 1, 1, 1, 1, ...</td>\n",
              "      <td>None</td>\n",
              "      <td>None</td>\n",
              "      <td>None</td>\n",
              "      <td>None</td>\n",
              "    </tr>\n",
              "    <tr>\n",
              "      <th>1</th>\n",
              "      <td>0.441138</td>\n",
              "      <td>0.549778</td>\n",
              "      <td>0.568342</td>\n",
              "      <td>0.573400</td>\n",
              "      <td>[15, 26, 3, 3, 37, 33, 17, 6, 50, 19, 31, 39, ...</td>\n",
              "      <td>[2, 2, 2, 2, 2, 2, 2, 2, 2, 2, 2, 2, 2, 2, 2, ...</td>\n",
              "      <td>[42, 75, 33, 48, 0, 26, 0, 30, 77, 1, 36, 66, ...</td>\n",
              "      <td>[1, 1, 1, 1, 1, 1, 1, 1, 1, 1, 1, 1, 1, 1, 1, ...</td>\n",
              "      <td>None</td>\n",
              "      <td>None</td>\n",
              "      <td>None</td>\n",
              "      <td>None</td>\n",
              "    </tr>\n",
              "    <tr>\n",
              "      <th>2</th>\n",
              "      <td>0.507292</td>\n",
              "      <td>0.700000</td>\n",
              "      <td>0.402796</td>\n",
              "      <td>0.651438</td>\n",
              "      <td>[15, 26, 3, 3, 37, 33, 17, 6, 50, 19, 31, 39, ...</td>\n",
              "      <td>[3, 3, 2, 3, 4, 2, 4, 3, 4, 4, 2, 4, 3, 4, 3, ...</td>\n",
              "      <td>[42, 75, 33, 48, 24, 26, 45, 30, 77, 35, 36, 6...</td>\n",
              "      <td>[1, 1, 1, 1, 1, 1, 1, 1, 1, 1, 1, 1, 1, 1, 1, ...</td>\n",
              "      <td>None</td>\n",
              "      <td>None</td>\n",
              "      <td>None</td>\n",
              "      <td>None</td>\n",
              "    </tr>\n",
              "    <tr>\n",
              "      <th>3</th>\n",
              "      <td>0.532889</td>\n",
              "      <td>0.775789</td>\n",
              "      <td>0.370629</td>\n",
              "      <td>0.648243</td>\n",
              "      <td>[15, 26, 3, 3, 37, 33, 17, 6, 50, 19, 31, 39, ...</td>\n",
              "      <td>[3, 3, 3, 4, 5, 2, 4, 3, 6, 4, 3, 4, 3, 5, 4, ...</td>\n",
              "      <td>[42, 75, 33, 48, 24, 26, 45, 30, 77, 35, 36, 6...</td>\n",
              "      <td>[1, 1, 1, 1, 1, 1, 1, 1, 1, 1, 1, 1, 1, 1, 1, ...</td>\n",
              "      <td>None</td>\n",
              "      <td>None</td>\n",
              "      <td>None</td>\n",
              "      <td>None</td>\n",
              "    </tr>\n",
              "    <tr>\n",
              "      <th>4</th>\n",
              "      <td>0.549420</td>\n",
              "      <td>0.696364</td>\n",
              "      <td>0.356478</td>\n",
              "      <td>0.657966</td>\n",
              "      <td>[15, 26, 3, 3, 37, 33, 17, 6, 50, 19, 31, 39, ...</td>\n",
              "      <td>[4, 3, 3, 4, 5, 2, 5, 3, 7, 4, 3, 5, 4, 7, 4, ...</td>\n",
              "      <td>[42, 75, 33, 48, 24, 26, 45, 30, 77, 35, 36, 6...</td>\n",
              "      <td>[1, 1, 1, 1, 1, 1, 1, 1, 1, 1, 1, 1, 1, 1, 1, ...</td>\n",
              "      <td>None</td>\n",
              "      <td>None</td>\n",
              "      <td>None</td>\n",
              "      <td>None</td>\n",
              "    </tr>\n",
              "  </tbody>\n",
              "</table>\n",
              "</div>\n",
              "    <div class=\"colab-df-buttons\">\n",
              "\n",
              "  <div class=\"colab-df-container\">\n",
              "    <button class=\"colab-df-convert\" onclick=\"convertToInteractive('df-5c7a2ccf-0043-4c0e-9538-8aac9145fe83')\"\n",
              "            title=\"Convert this dataframe to an interactive table.\"\n",
              "            style=\"display:none;\">\n",
              "\n",
              "  <svg xmlns=\"http://www.w3.org/2000/svg\" height=\"24px\" viewBox=\"0 -960 960 960\">\n",
              "    <path d=\"M120-120v-720h720v720H120Zm60-500h600v-160H180v160Zm220 220h160v-160H400v160Zm0 220h160v-160H400v160ZM180-400h160v-160H180v160Zm440 0h160v-160H620v160ZM180-180h160v-160H180v160Zm440 0h160v-160H620v160Z\"/>\n",
              "  </svg>\n",
              "    </button>\n",
              "\n",
              "  <style>\n",
              "    .colab-df-container {\n",
              "      display:flex;\n",
              "      gap: 12px;\n",
              "    }\n",
              "\n",
              "    .colab-df-convert {\n",
              "      background-color: #E8F0FE;\n",
              "      border: none;\n",
              "      border-radius: 50%;\n",
              "      cursor: pointer;\n",
              "      display: none;\n",
              "      fill: #1967D2;\n",
              "      height: 32px;\n",
              "      padding: 0 0 0 0;\n",
              "      width: 32px;\n",
              "    }\n",
              "\n",
              "    .colab-df-convert:hover {\n",
              "      background-color: #E2EBFA;\n",
              "      box-shadow: 0px 1px 2px rgba(60, 64, 67, 0.3), 0px 1px 3px 1px rgba(60, 64, 67, 0.15);\n",
              "      fill: #174EA6;\n",
              "    }\n",
              "\n",
              "    .colab-df-buttons div {\n",
              "      margin-bottom: 4px;\n",
              "    }\n",
              "\n",
              "    [theme=dark] .colab-df-convert {\n",
              "      background-color: #3B4455;\n",
              "      fill: #D2E3FC;\n",
              "    }\n",
              "\n",
              "    [theme=dark] .colab-df-convert:hover {\n",
              "      background-color: #434B5C;\n",
              "      box-shadow: 0px 1px 3px 1px rgba(0, 0, 0, 0.15);\n",
              "      filter: drop-shadow(0px 1px 2px rgba(0, 0, 0, 0.3));\n",
              "      fill: #FFFFFF;\n",
              "    }\n",
              "  </style>\n",
              "\n",
              "    <script>\n",
              "      const buttonEl =\n",
              "        document.querySelector('#df-5c7a2ccf-0043-4c0e-9538-8aac9145fe83 button.colab-df-convert');\n",
              "      buttonEl.style.display =\n",
              "        google.colab.kernel.accessAllowed ? 'block' : 'none';\n",
              "\n",
              "      async function convertToInteractive(key) {\n",
              "        const element = document.querySelector('#df-5c7a2ccf-0043-4c0e-9538-8aac9145fe83');\n",
              "        const dataTable =\n",
              "          await google.colab.kernel.invokeFunction('convertToInteractive',\n",
              "                                                    [key], {});\n",
              "        if (!dataTable) return;\n",
              "\n",
              "        const docLinkHtml = 'Like what you see? Visit the ' +\n",
              "          '<a target=\"_blank\" href=https://colab.research.google.com/notebooks/data_table.ipynb>data table notebook</a>'\n",
              "          + ' to learn more about interactive tables.';\n",
              "        element.innerHTML = '';\n",
              "        dataTable['output_type'] = 'display_data';\n",
              "        await google.colab.output.renderOutput(dataTable, element);\n",
              "        const docLink = document.createElement('div');\n",
              "        docLink.innerHTML = docLinkHtml;\n",
              "        element.appendChild(docLink);\n",
              "      }\n",
              "    </script>\n",
              "  </div>\n",
              "\n",
              "\n",
              "<div id=\"df-7c1cd716-c851-4524-9a38-888d704c72c4\">\n",
              "  <button class=\"colab-df-quickchart\" onclick=\"quickchart('df-7c1cd716-c851-4524-9a38-888d704c72c4')\"\n",
              "            title=\"Suggest charts\"\n",
              "            style=\"display:none;\">\n",
              "\n",
              "<svg xmlns=\"http://www.w3.org/2000/svg\" height=\"24px\"viewBox=\"0 0 24 24\"\n",
              "     width=\"24px\">\n",
              "    <g>\n",
              "        <path d=\"M19 3H5c-1.1 0-2 .9-2 2v14c0 1.1.9 2 2 2h14c1.1 0 2-.9 2-2V5c0-1.1-.9-2-2-2zM9 17H7v-7h2v7zm4 0h-2V7h2v10zm4 0h-2v-4h2v4z\"/>\n",
              "    </g>\n",
              "</svg>\n",
              "  </button>\n",
              "\n",
              "<style>\n",
              "  .colab-df-quickchart {\n",
              "      --bg-color: #E8F0FE;\n",
              "      --fill-color: #1967D2;\n",
              "      --hover-bg-color: #E2EBFA;\n",
              "      --hover-fill-color: #174EA6;\n",
              "      --disabled-fill-color: #AAA;\n",
              "      --disabled-bg-color: #DDD;\n",
              "  }\n",
              "\n",
              "  [theme=dark] .colab-df-quickchart {\n",
              "      --bg-color: #3B4455;\n",
              "      --fill-color: #D2E3FC;\n",
              "      --hover-bg-color: #434B5C;\n",
              "      --hover-fill-color: #FFFFFF;\n",
              "      --disabled-bg-color: #3B4455;\n",
              "      --disabled-fill-color: #666;\n",
              "  }\n",
              "\n",
              "  .colab-df-quickchart {\n",
              "    background-color: var(--bg-color);\n",
              "    border: none;\n",
              "    border-radius: 50%;\n",
              "    cursor: pointer;\n",
              "    display: none;\n",
              "    fill: var(--fill-color);\n",
              "    height: 32px;\n",
              "    padding: 0;\n",
              "    width: 32px;\n",
              "  }\n",
              "\n",
              "  .colab-df-quickchart:hover {\n",
              "    background-color: var(--hover-bg-color);\n",
              "    box-shadow: 0 1px 2px rgba(60, 64, 67, 0.3), 0 1px 3px 1px rgba(60, 64, 67, 0.15);\n",
              "    fill: var(--button-hover-fill-color);\n",
              "  }\n",
              "\n",
              "  .colab-df-quickchart-complete:disabled,\n",
              "  .colab-df-quickchart-complete:disabled:hover {\n",
              "    background-color: var(--disabled-bg-color);\n",
              "    fill: var(--disabled-fill-color);\n",
              "    box-shadow: none;\n",
              "  }\n",
              "\n",
              "  .colab-df-spinner {\n",
              "    border: 2px solid var(--fill-color);\n",
              "    border-color: transparent;\n",
              "    border-bottom-color: var(--fill-color);\n",
              "    animation:\n",
              "      spin 1s steps(1) infinite;\n",
              "  }\n",
              "\n",
              "  @keyframes spin {\n",
              "    0% {\n",
              "      border-color: transparent;\n",
              "      border-bottom-color: var(--fill-color);\n",
              "      border-left-color: var(--fill-color);\n",
              "    }\n",
              "    20% {\n",
              "      border-color: transparent;\n",
              "      border-left-color: var(--fill-color);\n",
              "      border-top-color: var(--fill-color);\n",
              "    }\n",
              "    30% {\n",
              "      border-color: transparent;\n",
              "      border-left-color: var(--fill-color);\n",
              "      border-top-color: var(--fill-color);\n",
              "      border-right-color: var(--fill-color);\n",
              "    }\n",
              "    40% {\n",
              "      border-color: transparent;\n",
              "      border-right-color: var(--fill-color);\n",
              "      border-top-color: var(--fill-color);\n",
              "    }\n",
              "    60% {\n",
              "      border-color: transparent;\n",
              "      border-right-color: var(--fill-color);\n",
              "    }\n",
              "    80% {\n",
              "      border-color: transparent;\n",
              "      border-right-color: var(--fill-color);\n",
              "      border-bottom-color: var(--fill-color);\n",
              "    }\n",
              "    90% {\n",
              "      border-color: transparent;\n",
              "      border-bottom-color: var(--fill-color);\n",
              "    }\n",
              "  }\n",
              "</style>\n",
              "\n",
              "  <script>\n",
              "    async function quickchart(key) {\n",
              "      const quickchartButtonEl =\n",
              "        document.querySelector('#' + key + ' button');\n",
              "      quickchartButtonEl.disabled = true;  // To prevent multiple clicks.\n",
              "      quickchartButtonEl.classList.add('colab-df-spinner');\n",
              "      try {\n",
              "        const charts = await google.colab.kernel.invokeFunction(\n",
              "            'suggestCharts', [key], {});\n",
              "      } catch (error) {\n",
              "        console.error('Error during call to suggestCharts:', error);\n",
              "      }\n",
              "      quickchartButtonEl.classList.remove('colab-df-spinner');\n",
              "      quickchartButtonEl.classList.add('colab-df-quickchart-complete');\n",
              "    }\n",
              "    (() => {\n",
              "      let quickchartButtonEl =\n",
              "        document.querySelector('#df-7c1cd716-c851-4524-9a38-888d704c72c4 button');\n",
              "      quickchartButtonEl.style.display =\n",
              "        google.colab.kernel.accessAllowed ? 'block' : 'none';\n",
              "    })();\n",
              "  </script>\n",
              "</div>\n",
              "\n",
              "    </div>\n",
              "  </div>\n"
            ],
            "application/vnd.google.colaboratory.intrinsic+json": {
              "type": "dataframe",
              "repr_error": "Out of range float values are not JSON compliant: nan"
            }
          },
          "metadata": {},
          "execution_count": 11
        }
      ],
      "source": [
        "results.variables.WealthModel.head()"
      ]
    },
    {
      "cell_type": "code",
      "source": [
        "TP = results.variables.WealthModel[\"Task predicate 1\"].tail(1).values[0]\n",
        "print(f\"Psi(r) = {int(TP)}\")"
      ],
      "metadata": {
        "colab": {
          "base_uri": "https://localhost:8080/"
        },
        "id": "J850rgo48wPD",
        "outputId": "bfc4562e-ba71-4da3-bc72-da524cc90be6"
      },
      "execution_count": null,
      "outputs": [
        {
          "output_type": "stream",
          "name": "stdout",
          "text": [
            "Psi(r) = 1\n"
          ]
        }
      ]
    },
    {
      "cell_type": "code",
      "source": [
        "TP = results.variables.WealthModel[\"Task predicate 2\"].tail(1).values[0]\n",
        "print(f\"Psi(r) = {int(TP)}\")"
      ],
      "metadata": {
        "colab": {
          "base_uri": "https://localhost:8080/"
        },
        "id": "2EPnE3Na9-fb",
        "outputId": "5837f902-818b-4560-e2c4-466d33e7a147"
      },
      "execution_count": null,
      "outputs": [
        {
          "output_type": "stream",
          "name": "stdout",
          "text": [
            "Psi(r) = 0\n"
          ]
        }
      ]
    },
    {
      "cell_type": "code",
      "source": [
        "TP = results.variables.WealthModel[\"Task predicate 3\"].tail(1).values[0]\n",
        "print(f\"Psi(r) = {int(TP)}\")"
      ],
      "metadata": {
        "colab": {
          "base_uri": "https://localhost:8080/"
        },
        "id": "ACZj9vpT-AyM",
        "outputId": "c113b438-ee6e-4ee2-f6cb-7e6f663da8ce"
      },
      "execution_count": null,
      "outputs": [
        {
          "output_type": "stream",
          "name": "stdout",
          "text": [
            "Psi(r) = 1\n"
          ]
        }
      ]
    },
    {
      "cell_type": "code",
      "source": [
        "TP = results.variables.WealthModel[\"Task predicate 4\"].tail(1).values[0]\n",
        "print(f\"Psi(r) = {int(TP)}\")"
      ],
      "metadata": {
        "colab": {
          "base_uri": "https://localhost:8080/"
        },
        "id": "gofdLuhe-Ci6",
        "outputId": "77a2a1fb-b384-4936-9044-2052b19f87be"
      },
      "execution_count": null,
      "outputs": [
        {
          "output_type": "stream",
          "name": "stdout",
          "text": [
            "Psi(r) = 0\n"
          ]
        }
      ]
    },
    {
      "cell_type": "markdown",
      "metadata": {
        "raw_mimetype": "text/restructuredtext",
        "id": "QHceewf9SQoI"
      },
      "source": [
        "To visualize this data,\n",
        "we can use [`DataFrame.plot`](https://pandas.pydata.org/pandas-docs/stable/reference/api/pandas.DataFrame.plot.html)."
      ]
    },
    {
      "cell_type": "code",
      "execution_count": null,
      "metadata": {
        "colab": {
          "base_uri": "https://localhost:8080/",
          "height": 450
        },
        "id": "KeV7_WmvSQoI",
        "outputId": "da027d0f-5711-41d0-b890-3d0a7b955991"
      },
      "outputs": [
        {
          "output_type": "display_data",
          "data": {
            "text/plain": [
              "<Figure size 640x480 with 1 Axes>"
            ],
            "image/png": "[encoded data removed]"
          },
          "metadata": {}
        }
      ],
      "source": [
        "data = results.variables.WealthModel\n",
        "ax = data.plot()"
      ]
    },
    {
      "cell_type": "markdown",
      "metadata": {
        "raw_mimetype": "text/restructuredtext",
        "id": "Xsin3tPSSQoI"
      },
      "source": [
        "To look at the distribution at the end of the simulation,\n",
        "we visualize the recorded agent variables with [seaborn](https://seaborn.pydata.org/)."
      ]
    },
    {
      "cell_type": "code",
      "execution_count": null,
      "metadata": {
        "id": "HmJy5SD_SQoI",
        "colab": {
          "base_uri": "https://localhost:8080/",
          "height": 432
        },
        "outputId": "ff3c6afd-edc5-40bd-8d0b-2f4e421b5d7c"
      },
      "outputs": [
        {
          "output_type": "display_data",
          "data": {
            "text/plain": [
              "<Figure size 640x480 with 4 Axes>"
            ],
            "image/png": "[encoded data removed]"
          },
          "metadata": {}
        }
      ],
      "source": [
        "import matplotlib.pyplot as plt\n",
        "import seaborn as sns\n",
        "import pandas as pd\n",
        "\n",
        "fig, axs = plt.subplots(nrows=4)\n",
        "df = pd.DataFrame(list(data[\"Utility (Agent 1)\"]))\n",
        "sns.stripplot(data=df, ax=axs[0]);\n",
        "df = pd.DataFrame([list(data[\"Utility (Agent 2)\"])[99]])\n",
        "sns.stripplot(data=df, ax=axs[1]);\n",
        "df = pd.DataFrame([list(data[\"Utility (Agent 3)\"])[99]])\n",
        "sns.stripplot(data=df, ax=axs[2])\n",
        "df = pd.DataFrame(list(data[\"Utility (Agent 4)\"]))\n",
        "sns.stripplot(data=df, ax=axs[3]);"
      ]
    },
    {
      "cell_type": "markdown",
      "source": [
        "**¿Cuál es el ambiente?**\n",
        "Todos los agentes creados y su wealth.\n",
        "\n",
        "**¿Qué sería lo análogo a la función de percepción \"see()\"?**\n",
        "Es equivalente a la parte donde puede visualizar a todos los agentes.\n",
        "\n",
        "**¿Cuáles son los perceptos?**\n",
        "En la mayoría de los casos, observa un agente y elige uno al azar.\n",
        "\n",
        "**¿Qué sería lo análogo a la función de decisión de acciones \"next()\"?**\n",
        "Lo análogo a la función next es la parte donde evalua funciones booleanas de acuerdo al estado interno del agente y la del que fue escogido.\n",
        "\n",
        "**¿Cuáles son los estados internos del agente?**\n",
        "Utility y Wealth.\n",
        "\n",
        "**¿Qué sería lo análogo a la función de acción \"action()\"?**\n",
        "Esto sería donde se lleva a cabo la acción de intercambio de dinero entre agentes.\n",
        "\n",
        "**¿Cuáles son las acciones posibles?**\n",
        "Quitar dinero, dar dinero y no hacer nada."
      ],
      "metadata": {
        "id": "AXzRmQW5viTp"
      }
    }
  ],
  "metadata": {
    "kernelspec": {
      "display_name": "Python 3",
      "language": "python",
      "name": "python3"
    },
    "language_info": {
      "codemirror_mode": {
        "name": "ipython",
        "version": 3
      },
      "file_extension": ".py",
      "mimetype": "text/x-python",
      "name": "python",
      "nbconvert_exporter": "python",
      "pygments_lexer": "ipython3",
      "version": "3.8.5"
    },
    "colab": {
      "provenance": []
    }
  },
  "nbformat": 4,
  "nbformat_minor": 0
}