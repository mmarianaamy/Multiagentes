{
  "cells": [
    {
      "cell_type": "markdown",
      "metadata": {
        "id": "VovN_1JPSQoC"
      },
      "source": [
        "# Wealth transfer"
      ]
    },
    {
      "cell_type": "markdown",
      "metadata": {
        "id": "t4UZ0QQ2SQoD"
      },
      "source": [
        "This notebook presents a tutorial for beginners on how to create a simple agent-based model with the [agentpy](https://agentpy.readthedocs.io) package.\n",
        "It demonstrates how to create a basic model with a custom agent type, run a simulation, record data, and visualize results."
      ]
    },
    {
      "cell_type": "code",
      "execution_count": 14,
      "metadata": {
        "id": "nygW4bchSQoE"
      },
      "outputs": [],
      "source": [
        "# Model design\n",
        "import agentpy as ap\n",
        "import numpy as np\n",
        "\n",
        "# Visualization\n",
        "import seaborn as sns\n",
        "\n",
        "import random"
      ]
    },
    {
      "cell_type": "markdown",
      "metadata": {
        "id": "JxVmJOJ5SQoE"
      },
      "source": [
        "## About the model\n",
        "\n",
        "The model explores the distribution of wealth under a trading population of agents.\n",
        "Each agent starts with one unit of wealth.\n",
        "During each time-step, each agents with positive wealth\n",
        "randomly selects a trading partner and gives them one unit of their wealth.\n",
        "We will see that this random interaction will create an inequality of wealth that\n",
        "follows a [Boltzmann distribution](http://www.phys.ufl.edu/~meisel/Boltzmann.pdf).\n",
        "The original version of this model been written in [MESA](https://mesa.readthedocs.io/)\n",
        "and can be found [here](https://mesa.readthedocs.io/en/master/tutorials/intro_tutorial.html)."
      ]
    },
    {
      "cell_type": "markdown",
      "metadata": {
        "id": "tUxGF5KTSQoF"
      },
      "source": [
        "## Model definition"
      ]
    },
    {
      "cell_type": "markdown",
      "metadata": {
        "id": "7ir_BRaSSQoF",
        "raw_mimetype": "text/restructuredtext"
      },
      "source": [
        "We start by defining a new type of `Agent` with the following methods:\n",
        "\n",
        "- `setup()` is called automatically when a new agent is created and initializes a variable `wealth`.\n",
        "- `wealth_transfer()` describes the agent's behavior at every time-step and will be called by the model."
      ]
    },
    {
      "cell_type": "code",
      "execution_count": 34,
      "metadata": {
        "id": "bNKkO8vlSQoF"
      },
      "outputs": [],
      "source": [
        "class CleaningAgent1(ap.Agent):\n",
        "\n",
        "     #Rodo\n",
        "\n",
        "    def setup(self):\n",
        "        self.position = [0, 0]\n",
        "        self.utility = 0\n",
        "        self.target_area = None\n",
        "\n",
        "    def see(self):\n",
        "        \"\"\" observa el ambiente y revisa el area con mas densidad\"\"\"\n",
        "        self.environment = self.model.environment\n",
        "        max_density = 0\n",
        "        self.target_area = None\n",
        "\n",
        "        # evalua la densidad que hay en espacio de 3x3\n",
        "        for i in range(len(self.environment)):\n",
        "            for j in range(len(self.environment[0])):\n",
        "                density = 0\n",
        "                for di in range(-1, 2):\n",
        "                    for dj in range(-1, 2):\n",
        "                        ni, nj = i + di, j + dj\n",
        "                        if 0 <= ni < len(self.environment) and 0 <= nj < len(self.environment[0]):\n",
        "                            density += self.environment[ni][nj]\n",
        "                if density > max_density:\n",
        "                    max_density = density\n",
        "                    self.target_area = [i, j]\n",
        "\n",
        "    def move_toward_target(self):\n",
        "        \"\"\" se mueve hacia el area donde hubo mas densidad en el \"see\"\"\"\n",
        "        if self.target_area:\n",
        "            if self.target_area[0] < self.position[0]:\n",
        "                self.position[0] -= 1\n",
        "            elif self.target_area[0] > self.position[0]:\n",
        "                self.position[0] += 1\n",
        "            elif self.target_area[1] < self.position[1]:\n",
        "                self.position[1] -= 1\n",
        "            elif self.target_area[1] > self.position[1]:\n",
        "                self.position[1] += 1\n",
        "\n",
        "    def clean(self):\n",
        "        \"\"\" limpia la celda actual si esta sucia\"\"\"\n",
        "        if self.environment[self.position[0]][self.position[1]]:\n",
        "            self.environment[self.position[0]][self.position[1]] = False\n",
        "            self.utility += 1\n",
        "\n",
        "    def step(self):\n",
        "\n",
        "        self.see()\n",
        "        self.clean()\n",
        "        self.move_toward_target()\n",
        "\n",
        "class CleaningAgent2(ap.Agent):\n",
        "\n",
        "    \"\"\" A cleaning agent that moves randomly - Sofia \"\"\"\n",
        "\n",
        "    def setup(self):\n",
        "        self.position = [1,1] # Posición inicial\n",
        "        self.utility = 0 # Cuenta las celdas limpias\n",
        "        self.moves = 0 # Cuenta los movimientos\n",
        "        \n",
        "    def see(self):\n",
        "        \"\"\" Observe environment \"\"\"\n",
        "        self.environment = self.model.environment\n",
        "        \n",
        "        \n",
        "    def next(self):\n",
        "        \"\"\" Choose a random direction to move \"\"\"\n",
        "        \n",
        "        rows,cols = len(self.model.environment), len(self.model.environment[0])\n",
        "        \n",
        "        posible_directions = [(-1,0),(1,0),(0,-1),(0,1),(-1,-1),(-1,1),(1,-1),(1,1)]\n",
        "        \n",
        "        valid_directions = [\n",
        "            (self.position[0] + row, self.position[1] + col)\n",
        "            for row, col in posible_directions\n",
        "            if 0 <= self.position[0] + row < rows and 0 <= self.position[1] + col < cols\n",
        "        ]\n",
        "        self.next_position = random.choice(valid_directions)\n",
        "        \n",
        "    def action(self):\n",
        "        \"\"\" Clean dirty cells \"\"\"\n",
        "        if self.environment[self.position[0]][self.position[1]] == True:\n",
        "            self.environment[self.position[0]][self.position[1]] = False\n",
        "            self.utility += 1\n",
        "        else:\n",
        "            self.position = self.next_position\n",
        "            self.moves += 1\n",
        "            \n",
        "\n",
        "    def step(self):\n",
        "        self.see()\n",
        "        self.next()\n",
        "        self.action()\n",
        "\n",
        "\n",
        "class CleaningAgent3(ap.Agent):\n",
        "\n",
        "    \"\"\" A cleaning agent  - Mariana\"\"\"\n",
        "\n",
        "    def setup(self):\n",
        "        self.position = [0, 0]\n",
        "        self.utility = 0\n",
        "\n",
        "    def see(self):\n",
        "        self.environment = self.model.environment\n",
        "\n",
        "    def next(self):\n",
        "        self.goingto = [0, 0]\n",
        "        if not self.environment[self.goingto[0]][self.goingto[1]]:\n",
        "            m = 12\n",
        "            for i in range(len(self.environment)):\n",
        "                for j in range(len(self.environment[0])):\n",
        "                    if self.environment[i][j] and (self.position[0] - i + self.position[1] - j) < m:\n",
        "                        m = self.position[0] - i + self.position[1] - j\n",
        "                        self.goingto = [i, j]\n",
        "\n",
        "    def action(self):\n",
        "        if self.environment[self.position[0]][self.position[1]]:\n",
        "            self.model.environment[self.position[0]][self.position[1]] = False\n",
        "            self.utility += 1\n",
        "        else:\n",
        "            if self.goingto[0] < self.position[0]:\n",
        "                self.position[0] -= 1\n",
        "            elif self.goingto[0] > self.position[0]:\n",
        "                self.position[0] += 1\n",
        "            elif self.goingto[1] < self.position[1]:\n",
        "                self.position[1] -= 1\n",
        "            elif self.goingto[1] > self.position[1]:\n",
        "                self.position[1] += 1\n",
        "\n",
        "    def step(self):\n",
        "        self.see()\n",
        "        self.next()\n",
        "        self.action()\n",
        "\n",
        "    \"\"\" An agent with wealth - Roger \"\"\"\n",
        "\n",
        "class CleaningAgent4(ap.Agent):\n",
        "    \"\"\"\n",
        "    Un agente de limpieza que revisa si la celda actual está sucia; \n",
        "    si lo está, limpia; si no, se mueve aleatoriamente a una celda adyacente.\n",
        "    \"\"\"\n",
        "\n",
        "    def setup(self):\n",
        "        self.position = [1, 1]  \n",
        "        self.utility = 0        \n",
        "        self.moves = 0          \n",
        "        \n",
        "    def see(self):\n",
        "        \"\"\" Percepción del entorno \"\"\"\n",
        "        self.environment = self.model.environment\n",
        "        \n",
        "    def next(self):\n",
        "        if self.environment[self.position[0]][self.position[1]]:\n",
        "            self.next_position = self.position  \n",
        "        else:\n",
        "            possible_moves = [\n",
        "                (-1, -1), (-1, 0), (-1, 1),\n",
        "                (0, -1),            (0, 1),\n",
        "                (1, -1),  (1, 0),  (1, 1)\n",
        "            ]\n",
        "            random.shuffle(possible_moves)\n",
        "\n",
        "            rows = len(self.environment)\n",
        "            cols = len(self.environment[0])\n",
        "            new_position = None\n",
        "\n",
        "            for move in possible_moves:\n",
        "                nr = self.position[0] + move[0]\n",
        "                nc = self.position[1] + move[1]\n",
        "                if 0 <= nr < rows and 0 <= nc < cols:\n",
        "                    new_position = [nr, nc]\n",
        "                    break\n",
        "\n",
        "            if new_position:\n",
        "                self.next_position = new_position\n",
        "            else:\n",
        "                self.next_position = self.position\n",
        "\n",
        "    def action(self):\n",
        "        if self.environment[self.position[0]][self.position[1]]:\n",
        "            # Limpia la celda actual\n",
        "            self.environment[self.position[0]][self.position[1]] = False\n",
        "            self.utility += 1\n",
        "        else:\n",
        "            # Mueve al agente a la next_position\n",
        "            if self.next_position != self.position:\n",
        "                self.position = self.next_position\n",
        "                self.moves += 1\n",
        "\n",
        "    def step(self):\n",
        "        self.see()\n",
        "        self.next()\n",
        "        self.action()\n"
      ]
    },
    {
      "cell_type": "markdown",
      "metadata": {
        "id": "b1Lf2UqgSQoG",
        "raw_mimetype": "text/restructuredtext"
      },
      "source": [
        "Finally, we define our [`Model`](https://agentpy.readthedocs.io/en/stable/reference_models.html) with the following methods:\n",
        "\n",
        "- `setup` defines how many agents should be created at the beginning of the simulation.\n",
        "- `step` calls all agents during each time-step to perform their `wealth_transfer` method.\n",
        "- `update` calculates and record the current Gini coefficient after each time-step.\n",
        "- `end`, which is called at the end of the simulation, we record the wealth of each agent."
      ]
    },
    {
      "cell_type": "code",
      "execution_count": 136,
      "metadata": {
        "id": "cYox5og4SQoG"
      },
      "outputs": [],
      "source": [
        "class WealthModel(ap.Model):\n",
        "\n",
        "    \"\"\" A simple model of random wealth transfers \"\"\"\n",
        "\n",
        "    def setup(self):\n",
        "\n",
        "        m = 30\n",
        "        n = 30\n",
        "        k = 150\n",
        "        self.m = 30\n",
        "        self.n = 30\n",
        "\n",
        "        self.environment = [[False for _ in range(m)] for _ in range(n)]\n",
        "\n",
        "        for i in range(k):\n",
        "            x = np.random.randint(n)\n",
        "            y = np.random.randint(m)\n",
        "            while self.environment[x][y]:\n",
        "                x = np.random.randint(n)\n",
        "                y = np.random.randint(m)\n",
        "            self.environment[x][y] = True\n",
        "\n",
        "        self.agents1 = ap.AgentList(self, self.p.agents, CleaningAgent1)\n",
        "        self.agents2 = ap.AgentList(self, self.p.agents, CleaningAgent2)\n",
        "        self.agents3 = ap.AgentList(self, self.p.agents, CleaningAgent3)\n",
        "        self.agents4 = ap.AgentList(self, self.p.agents, CleaningAgent4)\n",
        "\n",
        "    def step(self):\n",
        "        self.agents1.step()  \n",
        "        self.agents2.step()  \n",
        "        self.agents3.step()  \n",
        "        self.agents4.step()  \n",
        "    \n",
        "            \n",
        "        dirty_count = sum(sum(row) for row in self.environment)\n",
        "        if dirty_count == 0:\n",
        "            self.stop()\n",
        "\n",
        "\n",
        "    def update(self):\n",
        "\n",
        "        self.record('Utility (Agent 1)', list(self.agents1.utility))\n",
        "        self.record('Utility (Agent 2)', list(self.agents2.utility))\n",
        "        self.record('Utility (Agent 3)', list(self.agents3.utility))\n",
        "        self.record('Utility (Agent 4)', list(self.agents4.utility))\n",
        "        \n",
        "\n",
        "    def end(self):\n",
        "        total_cells = self.m * self.n\n",
        "        dirty_cells = sum([sum(row) for row in self.environment])\n",
        "        clean_cells = total_cells - dirty_cells\n",
        "        clean_percentage = clean_cells / total_cells * 100\n",
        "\n",
        "        self.record('Clean Cells (%)', clean_percentage)"
      ]
    },
    {
      "cell_type": "markdown",
      "metadata": {
        "id": "JYV7nSIwSQoG"
      },
      "source": [
        "## Simulation run"
      ]
    },
    {
      "cell_type": "code",
      "execution_count": 137,
      "metadata": {
        "id": "I5GrbsnnSQoG"
      },
      "outputs": [
        {
          "name": "stdout",
          "output_type": "stream",
          "text": [
            "Completed: 25 stepstotalcells 900\n",
            "cleancells 85.55555555555556\n",
            "\n",
            "Run time: 0:00:00.254713\n",
            "Simulation finished\n",
            "Completed: 50 stepstotalcells 900\n",
            "cleancells 86.0\n",
            "\n",
            "Run time: 0:00:00.506545\n",
            "Simulation finished\n",
            "Completed: 75 stepstotalcells 900\n",
            "cleancells 88.0\n",
            "\n",
            "Run time: 0:00:00.766057\n",
            "Simulation finished\n",
            "Completed: 100 stepstotalcells 900\n",
            "cleancells 89.88888888888889\n",
            "\n",
            "Run time: 0:00:01.039481\n",
            "Simulation finished\n"
          ]
        }
      ],
      "source": [
        "tmax = 100\n",
        "\n",
        "for fraction in [0.25, 0.50, 0.75, 1.0]:\n",
        "    max_steps = int(tmax * fraction)\n",
        "    parameters = {\n",
        "        'agents': 5,\n",
        "        'steps': max_steps,\n",
        "        'seed': 42,\n",
        "    }\n",
        "    model = WealthModel(parameters)\n",
        "    results = model.run()\n",
        "    \n"
      ]
    },
    {
      "cell_type": "code",
      "execution_count": 138,
      "metadata": {
        "colab": {
          "base_uri": "https://localhost:8080/"
        },
        "id": "1BDH9T9RSQoH",
        "outputId": "154848e1-f37a-45bf-f5fc-92efee5818b6"
      },
      "outputs": [
        {
          "name": "stdout",
          "output_type": "stream",
          "text": [
            "Completed: 100 stepstotalcells 900\n",
            "cleancells 91.77777777777779\n",
            "\n",
            "Run time: 0:00:01.040481\n",
            "Simulation finished\n"
          ]
        }
      ],
      "source": [
        "model = WealthModel(parameters)\n",
        "results = model.run()"
      ]
    },
    {
      "cell_type": "markdown",
      "metadata": {
        "id": "WYrccVxYSQoH"
      },
      "source": [
        "## Output analysis"
      ]
    },
    {
      "cell_type": "markdown",
      "metadata": {
        "id": "lrm9nRkLSQoH"
      },
      "source": [
        "The simulation returns a [`DataDict`](https://agentpy.readthedocs.io/en/stable/reference_output.html) with our recorded variables."
      ]
    },
    {
      "cell_type": "code",
      "execution_count": 139,
      "metadata": {
        "colab": {
          "base_uri": "https://localhost:8080/"
        },
        "id": "cCKavKzNSQoH",
        "outputId": "8312470f-7461-4400-a949-b0b2ce31ed06"
      },
      "outputs": [
        {
          "data": {
            "text/plain": [
              "DataDict {\n",
              "'info': Dictionary with 9 keys\n",
              "'parameters': \n",
              "    'constants': Dictionary with 3 keys\n",
              "'variables': \n",
              "    'WealthModel': DataFrame with 5 variables and 101 rows\n",
              "'reporters': DataFrame with 1 variable and 1 row\n",
              "}"
            ]
          },
          "execution_count": 139,
          "metadata": {},
          "output_type": "execute_result"
        }
      ],
      "source": [
        "results"
      ]
    },
    {
      "cell_type": "markdown",
      "metadata": {
        "id": "YYsYI_-QSQoH"
      },
      "source": [
        "The output's `info` provides general information about the simulation."
      ]
    },
    {
      "cell_type": "code",
      "execution_count": 140,
      "metadata": {
        "colab": {
          "base_uri": "https://localhost:8080/"
        },
        "id": "nejV-RsOSQoH",
        "outputId": "e97e6136-ffcd-41a4-b824-3145750e5920"
      },
      "outputs": [
        {
          "data": {
            "text/plain": [
              "{'model_type': 'WealthModel',\n",
              " 'time_stamp': '2025-01-15 00:35:38',\n",
              " 'agentpy_version': '0.1.5',\n",
              " 'python_version': '3.12.',\n",
              " 'experiment': False,\n",
              " 'completed': True,\n",
              " 'created_objects': 20,\n",
              " 'completed_steps': 100,\n",
              " 'run_time': '0:00:01.040481'}"
            ]
          },
          "execution_count": 140,
          "metadata": {},
          "output_type": "execute_result"
        }
      ],
      "source": [
        "results.info"
      ]
    },
    {
      "cell_type": "markdown",
      "metadata": {
        "id": "ha0F7xZaSQoH"
      },
      "source": [
        "To explore the evolution of inequality,\n",
        "we look at the recorded [`DataFrame`](https://pandas.pydata.org/pandas-docs/stable/reference/api/pandas.DataFrame.html) of the model's variables."
      ]
    },
    {
      "cell_type": "code",
      "execution_count": 141,
      "metadata": {
        "colab": {
          "base_uri": "https://localhost:8080/",
          "height": 532
        },
        "id": "wnHClGbYSQoI",
        "outputId": "c17afc2c-f8ad-487d-eee2-2ab1cf8eb870"
      },
      "outputs": [
        {
          "data": {
            "text/html": [
              "<div>\n",
              "<style scoped>\n",
              "    .dataframe tbody tr th:only-of-type {\n",
              "        vertical-align: middle;\n",
              "    }\n",
              "\n",
              "    .dataframe tbody tr th {\n",
              "        vertical-align: top;\n",
              "    }\n",
              "\n",
              "    .dataframe thead th {\n",
              "        text-align: right;\n",
              "    }\n",
              "</style>\n",
              "<table border=\"1\" class=\"dataframe\">\n",
              "  <thead>\n",
              "    <tr style=\"text-align: right;\">\n",
              "      <th></th>\n",
              "      <th>Utility (Agent 1)</th>\n",
              "      <th>Utility (Agent 2)</th>\n",
              "      <th>Utility (Agent 3)</th>\n",
              "      <th>Utility (Agent 4)</th>\n",
              "      <th>Clean Cells (%)</th>\n",
              "    </tr>\n",
              "    <tr>\n",
              "      <th>t</th>\n",
              "      <th></th>\n",
              "      <th></th>\n",
              "      <th></th>\n",
              "      <th></th>\n",
              "      <th></th>\n",
              "    </tr>\n",
              "  </thead>\n",
              "  <tbody>\n",
              "    <tr>\n",
              "      <th>0</th>\n",
              "      <td>[0, 0, 0, 0, 0]</td>\n",
              "      <td>[0, 0, 0, 0, 0]</td>\n",
              "      <td>[0, 0, 0, 0, 0]</td>\n",
              "      <td>[0, 0, 0, 0, 0]</td>\n",
              "      <td>NaN</td>\n",
              "    </tr>\n",
              "    <tr>\n",
              "      <th>1</th>\n",
              "      <td>[0, 0, 0, 0, 0]</td>\n",
              "      <td>[1, 0, 0, 0, 0]</td>\n",
              "      <td>[0, 0, 0, 0, 0]</td>\n",
              "      <td>[0, 0, 0, 0, 0]</td>\n",
              "      <td>NaN</td>\n",
              "    </tr>\n",
              "    <tr>\n",
              "      <th>2</th>\n",
              "      <td>[0, 0, 0, 0, 0]</td>\n",
              "      <td>[1, 0, 0, 0, 0]</td>\n",
              "      <td>[0, 0, 0, 0, 0]</td>\n",
              "      <td>[0, 1, 0, 0, 0]</td>\n",
              "      <td>NaN</td>\n",
              "    </tr>\n",
              "    <tr>\n",
              "      <th>3</th>\n",
              "      <td>[0, 0, 0, 0, 0]</td>\n",
              "      <td>[1, 0, 0, 0, 0]</td>\n",
              "      <td>[0, 0, 0, 0, 0]</td>\n",
              "      <td>[0, 1, 0, 0, 0]</td>\n",
              "      <td>NaN</td>\n",
              "    </tr>\n",
              "    <tr>\n",
              "      <th>4</th>\n",
              "      <td>[0, 0, 0, 0, 0]</td>\n",
              "      <td>[1, 0, 0, 0, 0]</td>\n",
              "      <td>[0, 0, 0, 0, 0]</td>\n",
              "      <td>[0, 1, 0, 0, 0]</td>\n",
              "      <td>NaN</td>\n",
              "    </tr>\n",
              "  </tbody>\n",
              "</table>\n",
              "</div>"
            ],
            "text/plain": [
              "  Utility (Agent 1) Utility (Agent 2) Utility (Agent 3) Utility (Agent 4)  \\\n",
              "t                                                                           \n",
              "0   [0, 0, 0, 0, 0]   [0, 0, 0, 0, 0]   [0, 0, 0, 0, 0]   [0, 0, 0, 0, 0]   \n",
              "1   [0, 0, 0, 0, 0]   [1, 0, 0, 0, 0]   [0, 0, 0, 0, 0]   [0, 0, 0, 0, 0]   \n",
              "2   [0, 0, 0, 0, 0]   [1, 0, 0, 0, 0]   [0, 0, 0, 0, 0]   [0, 1, 0, 0, 0]   \n",
              "3   [0, 0, 0, 0, 0]   [1, 0, 0, 0, 0]   [0, 0, 0, 0, 0]   [0, 1, 0, 0, 0]   \n",
              "4   [0, 0, 0, 0, 0]   [1, 0, 0, 0, 0]   [0, 0, 0, 0, 0]   [0, 1, 0, 0, 0]   \n",
              "\n",
              "   Clean Cells (%)  \n",
              "t                   \n",
              "0              NaN  \n",
              "1              NaN  \n",
              "2              NaN  \n",
              "3              NaN  \n",
              "4              NaN  "
            ]
          },
          "execution_count": 141,
          "metadata": {},
          "output_type": "execute_result"
        }
      ],
      "source": [
        "results.variables.WealthModel.head()"
      ]
    },
    {
      "cell_type": "markdown",
      "metadata": {
        "id": "QHceewf9SQoI",
        "raw_mimetype": "text/restructuredtext"
      },
      "source": [
        "To visualize this data,\n",
        "we can use [`DataFrame.plot`](https://pandas.pydata.org/pandas-docs/stable/reference/api/pandas.DataFrame.plot.html)."
      ]
    },
    {
      "cell_type": "markdown",
      "metadata": {
        "id": "Xsin3tPSSQoI",
        "raw_mimetype": "text/restructuredtext"
      },
      "source": [
        "To look at the distribution at the end of the simulation,\n",
        "we visualize the recorded agent variables with [seaborn](https://seaborn.pydata.org/)."
      ]
    },
    {
      "cell_type": "code",
      "execution_count": 142,
      "metadata": {
        "colab": {
          "base_uri": "https://localhost:8080/",
          "height": 432
        },
        "id": "HmJy5SD_SQoI",
        "outputId": "ff3c6afd-edc5-40bd-8d0b-2f4e421b5d7c"
      },
      "outputs": [
        {
          "data": {
            "text/plain": [
              "<matplotlib.legend.Legend at 0x29511a30650>"
            ]
          },
          "execution_count": 142,
          "metadata": {},
          "output_type": "execute_result"
        },
        {
          "data": {
            "image/png": "[encoded data removed]",
            "text/plain": [
              "<Figure size 640x480 with 1 Axes>"
            ]
          },
          "metadata": {},
          "output_type": "display_data"
        }
      ],
      "source": [
        "import matplotlib.pyplot as plt\n",
        "import seaborn as sns\n",
        "import pandas as pd\n",
        "\n",
        "data = results.variables.WealthModel\n",
        "x = [0, 0.25, 0.5, 0.75, 1]\n",
        "y = list(data[\"Utility (Agent 1)\"])[100]\n",
        "dataGraph = {\"x\": x, \"y\": y, }\n",
        "sns.lineplot(data=pd.DataFrame(dataGraph), x=\"x\", y=\"y\", label=\"Agent 1\")\n",
        "y = list(data['Utility (Agent 2)'])[100]\n",
        "dataGraph = {\"x\": x, \"y\": y, }\n",
        "sns.lineplot(data=pd.DataFrame(dataGraph), x=\"x\", y=\"y\", label=\"Agent 2\")\n",
        "y = list(data[\"Utility (Agent 3)\"])[100]\n",
        "dataGraph = {\"x\": x, \"y\": y, }\n",
        "sns.lineplot(data=pd.DataFrame(dataGraph), x=\"x\", y=\"y\", label=\"Agent 3\")\n",
        "y = list(data[\"Utility (Agent 4)\"])[100]\n",
        "dataGraph = {\"x\": x, \"y\": y, }\n",
        "sns.lineplot(data=pd.DataFrame(dataGraph), x=\"x\", y=\"y\", label=\"Agent 4\")\n",
        "plt.legend()"
      ]
    }
  ],
  "metadata": {
    "colab": {
      "provenance": []
    },
    "kernelspec": {
      "display_name": "Python 3",
      "language": "python",
      "name": "python3"
    },
    "language_info": {
      "codemirror_mode": {
        "name": "ipython",
        "version": 3
      },
      "file_extension": ".py",
      "mimetype": "text/x-python",
      "name": "python",
      "nbconvert_exporter": "python",
      "pygments_lexer": "ipython3",
      "version": "3.12.6"
    }
  },
  "nbformat": 4,
  "nbformat_minor": 0
}
