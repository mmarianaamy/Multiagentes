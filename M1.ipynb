{
  "cells": [
    {
      "cell_type": "markdown",
      "metadata": {
        "id": "VovN_1JPSQoC"
      },
      "source": [
        "# Wealth transfer"
      ]
    },
    {
      "cell_type": "markdown",
      "metadata": {
        "id": "t4UZ0QQ2SQoD"
      },
      "source": [
        "This notebook presents a tutorial for beginners on how to create a simple agent-based model with the [agentpy](https://agentpy.readthedocs.io) package.\n",
        "It demonstrates how to create a basic model with a custom agent type, run a simulation, record data, and visualize results."
      ]
    },
    {
      "cell_type": "code",
      "execution_count": null,
      "metadata": {
        "id": "nygW4bchSQoE"
      },
      "outputs": [],
      "source": [
        "# Model design\n",
        "import agentpy as ap\n",
        "import numpy as np\n",
        "\n",
        "# Visualization\n",
        "import seaborn as sns"
      ]
    },
    {
      "cell_type": "markdown",
      "metadata": {
        "id": "JxVmJOJ5SQoE"
      },
      "source": [
        "## About the model\n",
        "\n",
        "The model explores the distribution of wealth under a trading population of agents.\n",
        "Each agent starts with one unit of wealth.\n",
        "During each time-step, each agents with positive wealth\n",
        "randomly selects a trading partner and gives them one unit of their wealth.\n",
        "We will see that this random interaction will create an inequality of wealth that\n",
        "follows a [Boltzmann distribution](http://www.phys.ufl.edu/~meisel/Boltzmann.pdf).\n",
        "The original version of this model been written in [MESA](https://mesa.readthedocs.io/)\n",
        "and can be found [here](https://mesa.readthedocs.io/en/master/tutorials/intro_tutorial.html)."
      ]
    },
    {
      "cell_type": "markdown",
      "metadata": {
        "id": "tUxGF5KTSQoF"
      },
      "source": [
        "## Model definition"
      ]
    },
    {
      "cell_type": "markdown",
      "metadata": {
        "id": "7ir_BRaSSQoF",
        "raw_mimetype": "text/restructuredtext"
      },
      "source": [
        "We start by defining a new type of `Agent` with the following methods:\n",
        "\n",
        "- `setup()` is called automatically when a new agent is created and initializes a variable `wealth`.\n",
        "- `wealth_transfer()` describes the agent's behavior at every time-step and will be called by the model."
      ]
    },
    {
      "cell_type": "code",
      "execution_count": null,
      "metadata": {
        "id": "bNKkO8vlSQoF"
      },
      "outputs": [],
      "source": [
        "class CleaningAgent1(ap.Agent):\n",
        "\n",
        "     #Rodo\n",
        "\n",
        "    def setup(self):\n",
        "        self.position = [0, 0]\n",
        "        self.utility = 0\n",
        "        self.target_area = None\n",
        "\n",
        "    def see(self):\n",
        "        \"\"\" observa el ambiente y revisa el area con mas densidad\"\"\"\n",
        "        self.environment = self.model.environment\n",
        "        max_density = 0\n",
        "        self.target_area = None\n",
        "\n",
        "        # evalua la densidad que hay en espacio de 3x3\n",
        "        for i in range(len(self.environment)):\n",
        "            for j in range(len(self.environment[0])):\n",
        "                density = 0\n",
        "                for di in range(-1, 2):\n",
        "                    for dj in range(-1, 2):\n",
        "                        ni, nj = i + di, j + dj\n",
        "                        if 0 <= ni < len(self.environment) and 0 <= nj < len(self.environment[0]):\n",
        "                            density += self.environment[ni][nj]\n",
        "                if density > max_density:\n",
        "                    max_density = density\n",
        "                    self.target_area = [i, j]\n",
        "\n",
        "    def move_toward_target(self):\n",
        "        \"\"\" se mueve hacia el area donde hubo mas densidad en el \"see\"\"\"\n",
        "        if self.target_area:\n",
        "            if self.target_area[0] < self.position[0]:\n",
        "                self.position[0] -= 1\n",
        "            elif self.target_area[0] > self.position[0]:\n",
        "                self.position[0] += 1\n",
        "            elif self.target_area[1] < self.position[1]:\n",
        "                self.position[1] -= 1\n",
        "            elif self.target_area[1] > self.position[1]:\n",
        "                self.position[1] += 1\n",
        "\n",
        "    def clean(self):\n",
        "        \"\"\" limpia la celda actual si esta sucia\"\"\"\n",
        "        if self.environment[self.position[0]][self.position[1]]:\n",
        "            self.environment[self.position[0]][self.position[1]] = False\n",
        "            self.utility += 1\n",
        "\n",
        "    def step(self):\n",
        "\n",
        "        self.see()\n",
        "        self.clean()\n",
        "        self.move_toward_target()\n",
        "\n",
        "class CleaningAgent2(ap.Agent):\n",
        "\n",
        "    def setup(self):\n",
        "        self.utility = 0\n",
        "\n",
        "    \"\"\" An agent with wealth \"- Sofia\n",
        "\n",
        "    def setup(self):\n",
        "\n",
        "        self.wealth = 1\n",
        "        self.utility = 1\n",
        "\n",
        "    def wealth_transfer(self):\n",
        "      partner = (self.model.agents1 + self.model.agents2 + self.model.agents4).random()\n",
        "      if partner.wealth < self.wealth:\n",
        "            amount = min(2, self.wealth)\n",
        "            self.wealth -= amount\n",
        "            partner.wealth += amount\n",
        "            self.utility += amount\"\"\"\n",
        "\n",
        "class CleaningAgent3(ap.Agent):\n",
        "\n",
        "    \"\"\" A cleaning agent  - Mariana\"\"\"\n",
        "\n",
        "    def setup(self):\n",
        "        self.position = [0, 0]\n",
        "        self.utility = 0\n",
        "\n",
        "    def see(self):\n",
        "        self.environment = self.model.environment\n",
        "\n",
        "    def next(self):\n",
        "        self.goingto = [0, 0]\n",
        "        if not self.goingto:\n",
        "            m = 12\n",
        "            for i in range(len(self.environment)):\n",
        "                for j in range(len(self.environment[0])):\n",
        "                    if self.environment[i][j] and (self.position[0] - i + self.position[1] - j) < m:\n",
        "                        m = self.position[0] - i + self.position[1] - j\n",
        "                        self.goingto = [i, j]\n",
        "\n",
        "    def action(self):\n",
        "        if self.environment[self.position[0]][self.position[1]]:\n",
        "            self.model.environment[self.position[0]][self.position[1]] = False\n",
        "            self.utility += 1\n",
        "        else:\n",
        "            if self.goingto[0] < self.position[0]:\n",
        "                self.position[0] -= 1\n",
        "            elif self.goingto[0] > self.position[0]:\n",
        "                self.position[0] += 1\n",
        "            elif self.goingto[1] < self.position[1]:\n",
        "                self.position[1] -= 1\n",
        "            elif self.goingto[1] > self.position[1]:\n",
        "                self.position[1] += 1\n",
        "\n",
        "    def step(self):\n",
        "        self.see()\n",
        "        self.next()\n",
        "        self.action()\n",
        "\n",
        "class CleaningAgent4(ap.Agent):\n",
        "\n",
        "    def setup(self):\n",
        "        self.utility = 0\n",
        "\n",
        "    \"\"\" An agent with wealth - Roger\n",
        "\n",
        "    def setup(self):\n",
        "\n",
        "        self.wealth = np.random.randint(1, 101)\n",
        "        self.utility = 1\n",
        "\n",
        "    def wealth_transfer(self):\n",
        "\n",
        "        if self.wealth > 0:\n",
        "\n",
        "            partner = (self.model.agents1 + self.model.agents2 + self.model.agents4).random()\n",
        "            if partner.wealth <= self.wealth:\n",
        "                partner.wealth += 1\n",
        "                self.wealth -= 1\"\"\""
      ]
    },
    {
      "cell_type": "markdown",
      "metadata": {
        "id": "b1Lf2UqgSQoG",
        "raw_mimetype": "text/restructuredtext"
      },
      "source": [
        "Finally, we define our [`Model`](https://agentpy.readthedocs.io/en/stable/reference_models.html) with the following methods:\n",
        "\n",
        "- `setup` defines how many agents should be created at the beginning of the simulation.\n",
        "- `step` calls all agents during each time-step to perform their `wealth_transfer` method.\n",
        "- `update` calculates and record the current Gini coefficient after each time-step.\n",
        "- `end`, which is called at the end of the simulation, we record the wealth of each agent."
      ]
    },
    {
      "cell_type": "code",
      "execution_count": null,
      "metadata": {
        "id": "cYox5og4SQoG"
      },
      "outputs": [],
      "source": [
        "class WealthModel(ap.Model):\n",
        "\n",
        "    \"\"\" A simple model of random wealth transfers \"\"\"\n",
        "\n",
        "    def setup(self):\n",
        "\n",
        "        m = 3\n",
        "        n = 4\n",
        "        k = 2\n",
        "\n",
        "        self.environment = [[False] * m] * n\n",
        "\n",
        "        for i in range(k):\n",
        "            x = np.random.randint(n)\n",
        "            y = np.random.randint(m)\n",
        "            while self.environment[x][y]:\n",
        "                x = np.random.randint(n)\n",
        "                y = np.random.randint(m)\n",
        "            self.environment[x][y] = True\n",
        "\n",
        "        self.agents1 = ap.AgentList(self, self.p.agents, CleaningAgent1)\n",
        "        self.agents2 = ap.AgentList(self, self.p.agents, CleaningAgent2)\n",
        "        self.agents3 = ap.AgentList(self, self.p.agents, CleaningAgent3)\n",
        "        self.agents4 = ap.AgentList(self, self.p.agents, CleaningAgent4)\n",
        "\n",
        "    def step(self):\n",
        "\n",
        "        self.agents3.step()\n",
        "\n",
        "    def update(self):\n",
        "\n",
        "        self.record('Utility (Agent 1)', list(self.agents1.utility))\n",
        "        self.record('Utility (Agent 2)', list(self.agents2.utility))\n",
        "        self.record('Utility (Agent 3)', list(self.agents3.utility))\n",
        "        self.record('Utility (Agent 4)', list(self.agents4.utility))\n",
        "\n",
        "    def end(self):\n",
        "\n",
        "        \"\"\"self.agents1.record('wealth')\n",
        "        self.agents2.record('wealth')\n",
        "        self.agents3.record('wealth')\n",
        "        self.agents4.record('wealth')\n",
        "\n",
        "        self.record(\"Task predicate 1\", all(list(self.agents1.wealth)))\n",
        "        self.record(\"Task predicate 2\", all(list(self.agents2.wealth)))\n",
        "        self.record(\"Task predicate 3\", all(list(self.agents3.wealth)))\n",
        "        self.record(\"Task predicate 4\", all(list(self.agents4.wealth)))\"\"\""
      ]
    },
    {
      "cell_type": "markdown",
      "metadata": {
        "id": "JYV7nSIwSQoG"
      },
      "source": [
        "## Simulation run"
      ]
    },
    {
      "cell_type": "code",
      "execution_count": null,
      "metadata": {
        "id": "I5GrbsnnSQoG"
      },
      "outputs": [],
      "source": [
        "parameters = {\n",
        "    'agents': 50,\n",
        "    'steps': 100,\n",
        "    'seed': 42,\n",
        "}"
      ]
    },
    {
      "cell_type": "code",
      "execution_count": null,
      "metadata": {
        "colab": {
          "base_uri": "https://localhost:8080/"
        },
        "id": "1BDH9T9RSQoH",
        "outputId": "154848e1-f37a-45bf-f5fc-92efee5818b6"
      },
      "outputs": [
        {
          "name": "stdout",
          "output_type": "stream",
          "text": [
            "Completed: 100 steps\n",
            "Run time: 0:00:00.018877\n",
            "Simulation finished\n"
          ]
        }
      ],
      "source": [
        "model = WealthModel(parameters)\n",
        "results = model.run()"
      ]
    },
    {
      "cell_type": "markdown",
      "metadata": {
        "id": "WYrccVxYSQoH"
      },
      "source": [
        "## Output analysis"
      ]
    },
    {
      "cell_type": "markdown",
      "metadata": {
        "id": "lrm9nRkLSQoH"
      },
      "source": [
        "The simulation returns a [`DataDict`](https://agentpy.readthedocs.io/en/stable/reference_output.html) with our recorded variables."
      ]
    },
    {
      "cell_type": "code",
      "execution_count": null,
      "metadata": {
        "colab": {
          "base_uri": "https://localhost:8080/"
        },
        "id": "cCKavKzNSQoH",
        "outputId": "8312470f-7461-4400-a949-b0b2ce31ed06"
      },
      "outputs": [
        {
          "data": {
            "text/plain": [
              "DataDict {\n",
              "'info': Dictionary with 9 keys\n",
              "'parameters': \n",
              "    'constants': Dictionary with 3 keys\n",
              "'variables': \n",
              "    'WealthModel': DataFrame with 4 variables and 101 rows\n",
              "'reporters': DataFrame with 1 variable and 1 row\n",
              "}"
            ]
          },
          "execution_count": 6,
          "metadata": {},
          "output_type": "execute_result"
        }
      ],
      "source": [
        "results"
      ]
    },
    {
      "cell_type": "markdown",
      "metadata": {
        "id": "YYsYI_-QSQoH"
      },
      "source": [
        "The output's `info` provides general information about the simulation."
      ]
    },
    {
      "cell_type": "code",
      "execution_count": null,
      "metadata": {
        "colab": {
          "base_uri": "https://localhost:8080/"
        },
        "id": "nejV-RsOSQoH",
        "outputId": "e97e6136-ffcd-41a4-b824-3145750e5920"
      },
      "outputs": [
        {
          "data": {
            "text/plain": [
              "{'model_type': 'WealthModel',\n",
              " 'time_stamp': '2025-01-13 22:37:17',\n",
              " 'agentpy_version': '0.1.5',\n",
              " 'python_version': '3.12.',\n",
              " 'experiment': False,\n",
              " 'completed': True,\n",
              " 'created_objects': 200,\n",
              " 'completed_steps': 100,\n",
              " 'run_time': '0:00:00.018877'}"
            ]
          },
          "execution_count": 7,
          "metadata": {},
          "output_type": "execute_result"
        }
      ],
      "source": [
        "results.info"
      ]
    },
    {
      "cell_type": "markdown",
      "metadata": {
        "id": "ha0F7xZaSQoH"
      },
      "source": [
        "To explore the evolution of inequality,\n",
        "we look at the recorded [`DataFrame`](https://pandas.pydata.org/pandas-docs/stable/reference/api/pandas.DataFrame.html) of the model's variables."
      ]
    },
    {
      "cell_type": "code",
      "execution_count": null,
      "metadata": {
        "colab": {
          "base_uri": "https://localhost:8080/",
          "height": 532
        },
        "id": "wnHClGbYSQoI",
        "outputId": "c17afc2c-f8ad-487d-eee2-2ab1cf8eb870"
      },
      "outputs": [
        {
          "data": {
            "text/html": [
              "<div>\n",
              "<style scoped>\n",
              "    .dataframe tbody tr th:only-of-type {\n",
              "        vertical-align: middle;\n",
              "    }\n",
              "\n",
              "    .dataframe tbody tr th {\n",
              "        vertical-align: top;\n",
              "    }\n",
              "\n",
              "    .dataframe thead th {\n",
              "        text-align: right;\n",
              "    }\n",
              "</style>\n",
              "<table border=\"1\" class=\"dataframe\">\n",
              "  <thead>\n",
              "    <tr style=\"text-align: right;\">\n",
              "      <th></th>\n",
              "      <th>Utility (Agent 1)</th>\n",
              "      <th>Utility (Agent 2)</th>\n",
              "      <th>Utility (Agent 3)</th>\n",
              "      <th>Utility (Agent 4)</th>\n",
              "    </tr>\n",
              "    <tr>\n",
              "      <th>t</th>\n",
              "      <th></th>\n",
              "      <th></th>\n",
              "      <th></th>\n",
              "      <th></th>\n",
              "    </tr>\n",
              "  </thead>\n",
              "  <tbody>\n",
              "    <tr>\n",
              "      <th>0</th>\n",
              "      <td>[0, 0, 0, 0, 0, 0, 0, 0, 0, 0, 0, 0, 0, 0, 0, ...</td>\n",
              "      <td>[0, 0, 0, 0, 0, 0, 0, 0, 0, 0, 0, 0, 0, 0, 0, ...</td>\n",
              "      <td>[0, 0, 0, 0, 0, 0, 0, 0, 0, 0, 0, 0, 0, 0, 0, ...</td>\n",
              "      <td>[0, 0, 0, 0, 0, 0, 0, 0, 0, 0, 0, 0, 0, 0, 0, ...</td>\n",
              "    </tr>\n",
              "    <tr>\n",
              "      <th>1</th>\n",
              "      <td>[0, 0, 0, 0, 0, 0, 0, 0, 0, 0, 0, 0, 0, 0, 0, ...</td>\n",
              "      <td>[0, 0, 0, 0, 0, 0, 0, 0, 0, 0, 0, 0, 0, 0, 0, ...</td>\n",
              "      <td>[0, 0, 0, 0, 0, 0, 0, 0, 0, 0, 0, 0, 0, 0, 0, ...</td>\n",
              "      <td>[0, 0, 0, 0, 0, 0, 0, 0, 0, 0, 0, 0, 0, 0, 0, ...</td>\n",
              "    </tr>\n",
              "    <tr>\n",
              "      <th>2</th>\n",
              "      <td>[0, 0, 0, 0, 0, 0, 0, 0, 0, 0, 0, 0, 0, 0, 0, ...</td>\n",
              "      <td>[0, 0, 0, 0, 0, 0, 0, 0, 0, 0, 0, 0, 0, 0, 0, ...</td>\n",
              "      <td>[0, 0, 0, 0, 0, 0, 0, 0, 0, 0, 0, 0, 0, 0, 0, ...</td>\n",
              "      <td>[0, 0, 0, 0, 0, 0, 0, 0, 0, 0, 0, 0, 0, 0, 0, ...</td>\n",
              "    </tr>\n",
              "    <tr>\n",
              "      <th>3</th>\n",
              "      <td>[0, 0, 0, 0, 0, 0, 0, 0, 0, 0, 0, 0, 0, 0, 0, ...</td>\n",
              "      <td>[0, 0, 0, 0, 0, 0, 0, 0, 0, 0, 0, 0, 0, 0, 0, ...</td>\n",
              "      <td>[0, 0, 0, 0, 0, 0, 0, 0, 0, 0, 0, 0, 0, 0, 0, ...</td>\n",
              "      <td>[0, 0, 0, 0, 0, 0, 0, 0, 0, 0, 0, 0, 0, 0, 0, ...</td>\n",
              "    </tr>\n",
              "    <tr>\n",
              "      <th>4</th>\n",
              "      <td>[0, 0, 0, 0, 0, 0, 0, 0, 0, 0, 0, 0, 0, 0, 0, ...</td>\n",
              "      <td>[0, 0, 0, 0, 0, 0, 0, 0, 0, 0, 0, 0, 0, 0, 0, ...</td>\n",
              "      <td>[0, 0, 0, 0, 0, 0, 0, 0, 0, 0, 0, 0, 0, 0, 0, ...</td>\n",
              "      <td>[0, 0, 0, 0, 0, 0, 0, 0, 0, 0, 0, 0, 0, 0, 0, ...</td>\n",
              "    </tr>\n",
              "  </tbody>\n",
              "</table>\n",
              "</div>"
            ],
            "text/plain": [
              "                                   Utility (Agent 1)  \\\n",
              "t                                                      \n",
              "0  [0, 0, 0, 0, 0, 0, 0, 0, 0, 0, 0, 0, 0, 0, 0, ...   \n",
              "1  [0, 0, 0, 0, 0, 0, 0, 0, 0, 0, 0, 0, 0, 0, 0, ...   \n",
              "2  [0, 0, 0, 0, 0, 0, 0, 0, 0, 0, 0, 0, 0, 0, 0, ...   \n",
              "3  [0, 0, 0, 0, 0, 0, 0, 0, 0, 0, 0, 0, 0, 0, 0, ...   \n",
              "4  [0, 0, 0, 0, 0, 0, 0, 0, 0, 0, 0, 0, 0, 0, 0, ...   \n",
              "\n",
              "                                   Utility (Agent 2)  \\\n",
              "t                                                      \n",
              "0  [0, 0, 0, 0, 0, 0, 0, 0, 0, 0, 0, 0, 0, 0, 0, ...   \n",
              "1  [0, 0, 0, 0, 0, 0, 0, 0, 0, 0, 0, 0, 0, 0, 0, ...   \n",
              "2  [0, 0, 0, 0, 0, 0, 0, 0, 0, 0, 0, 0, 0, 0, 0, ...   \n",
              "3  [0, 0, 0, 0, 0, 0, 0, 0, 0, 0, 0, 0, 0, 0, 0, ...   \n",
              "4  [0, 0, 0, 0, 0, 0, 0, 0, 0, 0, 0, 0, 0, 0, 0, ...   \n",
              "\n",
              "                                   Utility (Agent 3)  \\\n",
              "t                                                      \n",
              "0  [0, 0, 0, 0, 0, 0, 0, 0, 0, 0, 0, 0, 0, 0, 0, ...   \n",
              "1  [0, 0, 0, 0, 0, 0, 0, 0, 0, 0, 0, 0, 0, 0, 0, ...   \n",
              "2  [0, 0, 0, 0, 0, 0, 0, 0, 0, 0, 0, 0, 0, 0, 0, ...   \n",
              "3  [0, 0, 0, 0, 0, 0, 0, 0, 0, 0, 0, 0, 0, 0, 0, ...   \n",
              "4  [0, 0, 0, 0, 0, 0, 0, 0, 0, 0, 0, 0, 0, 0, 0, ...   \n",
              "\n",
              "                                   Utility (Agent 4)  \n",
              "t                                                     \n",
              "0  [0, 0, 0, 0, 0, 0, 0, 0, 0, 0, 0, 0, 0, 0, 0, ...  \n",
              "1  [0, 0, 0, 0, 0, 0, 0, 0, 0, 0, 0, 0, 0, 0, 0, ...  \n",
              "2  [0, 0, 0, 0, 0, 0, 0, 0, 0, 0, 0, 0, 0, 0, 0, ...  \n",
              "3  [0, 0, 0, 0, 0, 0, 0, 0, 0, 0, 0, 0, 0, 0, 0, ...  \n",
              "4  [0, 0, 0, 0, 0, 0, 0, 0, 0, 0, 0, 0, 0, 0, 0, ...  "
            ]
          },
          "execution_count": 8,
          "metadata": {},
          "output_type": "execute_result"
        }
      ],
      "source": [
        "results.variables.WealthModel.head()"
      ]
    },
    {
      "cell_type": "markdown",
      "metadata": {
        "id": "QHceewf9SQoI",
        "raw_mimetype": "text/restructuredtext"
      },
      "source": [
        "To visualize this data,\n",
        "we can use [`DataFrame.plot`](https://pandas.pydata.org/pandas-docs/stable/reference/api/pandas.DataFrame.plot.html)."
      ]
    },
    {
      "cell_type": "markdown",
      "metadata": {
        "id": "Xsin3tPSSQoI",
        "raw_mimetype": "text/restructuredtext"
      },
      "source": [
        "To look at the distribution at the end of the simulation,\n",
        "we visualize the recorded agent variables with [seaborn](https://seaborn.pydata.org/)."
      ]
    },
    {
      "cell_type": "code",
      "execution_count": null,
      "metadata": {
        "colab": {
          "base_uri": "https://localhost:8080/",
          "height": 432
        },
        "id": "HmJy5SD_SQoI",
        "outputId": "ff3c6afd-edc5-40bd-8d0b-2f4e421b5d7c"
      },
      "outputs": [
        {
          "data": {
            "text/plain": [
              "'fig, axs = plt.subplots(nrows=4)\\ndf = pd.DataFrame(list(data[\"Utility (Agent 1)\"]))\\nsns.stripplot(data=df, ax=axs[0]);\\ndf = pd.DataFrame([list(data[\"Utility (Agent 2)\"])[99]])\\nsns.stripplot(data=df, ax=axs[1]);\\ndf = pd.DataFrame([list(data[\"Utility (Agent 3)\"])[99]])\\nsns.stripplot(data=df, ax=axs[2])\\ndf = pd.DataFrame(list(data[\"Utility (Agent 4)\"]))\\nsns.stripplot(data=df, ax=axs[3]);'"
            ]
          },
          "execution_count": 9,
          "metadata": {},
          "output_type": "execute_result"
        }
      ],
      "source": [
        "import matplotlib.pyplot as plt\n",
        "import seaborn as sns\n",
        "import pandas as pd\n",
        "\n",
        "\"\"\"fig, axs = plt.subplots(nrows=4)\n",
        "df = pd.DataFrame(list(data[\"Utility (Agent 1)\"]))\n",
        "sns.stripplot(data=df, ax=axs[0]);\n",
        "df = pd.DataFrame([list(data[\"Utility (Agent 2)\"])[99]])\n",
        "sns.stripplot(data=df, ax=axs[1]);\n",
        "df = pd.DataFrame([list(data[\"Utility (Agent 3)\"])[99]])\n",
        "sns.stripplot(data=df, ax=axs[2])\n",
        "df = pd.DataFrame(list(data[\"Utility (Agent 4)\"]))\n",
        "sns.stripplot(data=df, ax=axs[3]);\"\"\""
      ]
    }
  ],
  "metadata": {
    "colab": {
      "provenance": []
    },
    "kernelspec": {
      "display_name": "Python 3",
      "language": "python",
      "name": "python3"
    },
    "language_info": {
      "codemirror_mode": {
        "name": "ipython",
        "version": 3
      },
      "file_extension": ".py",
      "mimetype": "text/x-python",
      "name": "python",
      "nbconvert_exporter": "python",
      "pygments_lexer": "ipython3",
      "version": "3.12.6"
    }
  },
  "nbformat": 4,
  "nbformat_minor": 0
}