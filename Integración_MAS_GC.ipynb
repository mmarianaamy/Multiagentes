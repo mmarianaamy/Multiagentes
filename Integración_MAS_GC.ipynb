{
  "nbformat": 4,
  "nbformat_minor": 0,
  "metadata": {
    "colab": {
      "provenance": []
    },
    "kernelspec": {
      "name": "python3",
      "display_name": "Python 3"
    },
    "language_info": {
      "name": "python"
    }
  },
  "cells": [
    {
      "cell_type": "markdown",
      "source": [
        "# Integración MAS-GC"
      ],
      "metadata": {
        "id": "4M2GA02Y81VE"
      }
    },
    {
      "cell_type": "markdown",
      "source": [
        "## Introducción\n",
        "\n",
        "En este  ejemplo, se tomó la implementación acerca de colisiones de cubos desde la perspectiva gráfica, creada por el Prof. Iván Olmos. A continuación, se muestra una adaptación de esta implementación, agregando la perspectiva multiagente.\n",
        "\n",
        "### Estructura\n",
        "\n",
        "Es importante mantener correctamente dividido la lógica que pertenece a los gráficos y, por otro lado, la de multiagentes. En este caso, se pretende que solamente lo correspondiente a dibujo, le corresponde a gráficos, mientras que los mecanísmos de control (velocidad, dirfección, colisión, decisión, etc.) son parte de sistemas multiagentes.\n",
        "\n",
        "Se usa PyGame para la parte gráfica, y AgentPy para la parte de agentes.\n",
        "\n",
        "Se divide el programa en tres partes: Cubo, PlanosCubo, Modelo. El primero contiene lo necesario para dibujar cada instancia de cubo. El segundo tiene lo necesario para dibujar el ambiente (en este caso, planos y ejes) (aquí no se dibuja ninguna instancia de cualquier otro objeto). Finalmente, Modelo tiene el código acerca de la simulación de agentes, y que hace uso de las demás partes para crear las instancias gráficas."
      ],
      "metadata": {
        "id": "Joz5DSHY8-e_"
      }
    },
    {
      "cell_type": "markdown",
      "source": [
        "## Planos Cubos\n",
        "\n",
        "Similar al programa original. Se eliminan las partes que crean cubos en el mundo gráfico. También se elimina la variables que especifíca el tamaño del plano (DimBoard)."
      ],
      "metadata": {
        "id": "zOaSfOyA_SYi"
      }
    },
    {
      "cell_type": "markdown",
      "source": [
        "### Importaciones de módulos"
      ],
      "metadata": {
        "id": "cAHWAGY9_901"
      }
    },
    {
      "cell_type": "code",
      "execution_count": null,
      "metadata": {
        "id": "NfB_W8IZ8w85"
      },
      "outputs": [],
      "source": [
        "# Importaciones: PyGame y OpenGL\n",
        "import pygame\n",
        "from pygame.locals import *\n",
        "\n",
        "# Cargamos las bibliotecas de OpenGL\n",
        "from OpenGL.GL import *\n",
        "from OpenGL.GLU import *\n",
        "from OpenGL.GLUT import *"
      ]
    },
    {
      "cell_type": "markdown",
      "source": [
        "### Variables gráficas globales\n",
        "\n",
        "Aquí se omite la variable de dimensiones del plano (DimBoard)"
      ],
      "metadata": {
        "id": "ifyeZR2MAIwJ"
      }
    },
    {
      "cell_type": "code",
      "source": [
        "screen_width = 500\n",
        "screen_height = 500\n",
        "#vc para el obser.\n",
        "FOVY=60.0\n",
        "ZNEAR=0.01\n",
        "ZFAR=900.0\n",
        "#Variables para definir la posicion del observador\n",
        "#gluLookAt(EYE_X,EYE_Y,EYE_Z,CENTER_X,CENTER_Y,CENTER_Z,UP_X,UP_Y,UP_Z)\n",
        "EYE_X=300.0\n",
        "EYE_Y=200.0\n",
        "EYE_Z=300.0\n",
        "CENTER_X=0\n",
        "CENTER_Y=0\n",
        "CENTER_Z=0\n",
        "UP_X=0\n",
        "UP_Y=1\n",
        "UP_Z=0\n",
        "#Variables para dibujar los ejes del sistema\n",
        "X_MIN=-500\n",
        "X_MAX=500\n",
        "Y_MIN=-500\n",
        "Y_MAX=500\n",
        "Z_MIN=-500\n",
        "Z_MAX=500"
      ],
      "metadata": {
        "id": "FcODqvz-_7uh"
      },
      "execution_count": null,
      "outputs": []
    },
    {
      "cell_type": "markdown",
      "source": [
        "### Inicialización de PyGame"
      ],
      "metadata": {
        "id": "jPtaWk9xAP7K"
      }
    },
    {
      "cell_type": "code",
      "source": [
        "pygame.init()"
      ],
      "metadata": {
        "id": "BdM_alNPAXAF"
      },
      "execution_count": null,
      "outputs": []
    },
    {
      "cell_type": "markdown",
      "source": [
        "### Definición de dibujado de Ejes"
      ],
      "metadata": {
        "id": "SVG-kJyWAZry"
      }
    },
    {
      "cell_type": "code",
      "source": [
        "def Axis():\n",
        "    glShadeModel(GL_FLAT)\n",
        "    glLineWidth(3.0)\n",
        "    #X axis in red\n",
        "    glColor3f(1.0,0.0,0.0)\n",
        "    glBegin(GL_LINES)\n",
        "    glVertex3f(X_MIN,0.0,0.0)\n",
        "    glVertex3f(X_MAX,0.0,0.0)\n",
        "    glEnd()\n",
        "    #Y axis in green\n",
        "    glColor3f(0.0,1.0,0.0)\n",
        "    glBegin(GL_LINES)\n",
        "    glVertex3f(0.0,Y_MIN,0.0)\n",
        "    glVertex3f(0.0,Y_MAX,0.0)\n",
        "    glEnd()\n",
        "    #Z axis in blue\n",
        "    glColor3f(0.0,0.0,1.0)\n",
        "    glBegin(GL_LINES)\n",
        "    glVertex3f(0.0,0.0,Z_MIN)\n",
        "    glVertex3f(0.0,0.0,Z_MAX)\n",
        "    glEnd()\n",
        "    glLineWidth(1.0)"
      ],
      "metadata": {
        "id": "DSB_k4c8AeKY"
      },
      "execution_count": null,
      "outputs": []
    },
    {
      "cell_type": "markdown",
      "source": [
        "### Inicialización de mundo gráfico"
      ],
      "metadata": {
        "id": "3zmUhFlyAhKL"
      }
    },
    {
      "cell_type": "code",
      "source": [
        "def Init():\n",
        "    screen = pygame.display.set_mode(\n",
        "        (screen_width, screen_height), DOUBLEBUF | OPENGL)\n",
        "    pygame.display.set_caption(\"OpenGL: cubos\")\n",
        "\n",
        "    glMatrixMode(GL_PROJECTION)\n",
        "    glLoadIdentity()\n",
        "    gluPerspective(FOVY, screen_width/screen_height, ZNEAR, ZFAR)\n",
        "\n",
        "    glMatrixMode(GL_MODELVIEW)\n",
        "    glLoadIdentity()\n",
        "    gluLookAt(EYE_X,EYE_Y,EYE_Z,CENTER_X,CENTER_Y,CENTER_Z,UP_X,UP_Y,UP_Z)\n",
        "    glClearColor(0,0,0,0)\n",
        "    glEnable(GL_DEPTH_TEST)\n",
        "    glPolygonMode(GL_FRONT_AND_BACK, GL_FILL)"
      ],
      "metadata": {
        "id": "NVUV8xLZAvOc"
      },
      "execution_count": null,
      "outputs": []
    },
    {
      "cell_type": "markdown",
      "source": [
        "### Función para dibujado del mundo gráfico\n",
        "\n",
        "En este parte se omite el dibujado de instancias de cubos. Solo se dibujan los ejes y el plano."
      ],
      "metadata": {
        "id": "15thy5E_BAtn"
      }
    },
    {
      "cell_type": "code",
      "source": [
        "ef display(DimBoard):\n",
        "    glClear(GL_COLOR_BUFFER_BIT | GL_DEPTH_BUFFER_BIT)\n",
        "    Axis()\n",
        "    #Se dibuja el plano gris\n",
        "    glColor3f(0.3, 0.3, 0.3)\n",
        "    glBegin(GL_QUADS)\n",
        "    glVertex3d(-DimBoard, 0, -DimBoard)\n",
        "    glVertex3d(-DimBoard, 0, DimBoard)\n",
        "    glVertex3d(DimBoard, 0, DimBoard)\n",
        "    glVertex3d(DimBoard, 0, -DimBoard)\n",
        "    glEnd()"
      ],
      "metadata": {
        "id": "_eF9jZq_BM6S"
      },
      "execution_count": null,
      "outputs": []
    },
    {
      "cell_type": "markdown",
      "source": [
        "## Cubo\n",
        "\n",
        "Similar al programa original. Se eliminan las partes que contienen mecanismos de control para las trayectorias de los cubos. También se omiten lo relacionado al mecanismo de detección de colisión (incluyendo listas de instancias de cubos)."
      ],
      "metadata": {
        "id": "duBzDxxRBVIP"
      }
    },
    {
      "cell_type": "markdown",
      "source": [
        "### Importaciones de módulos"
      ],
      "metadata": {
        "id": "HO5JrFeJB3cq"
      }
    },
    {
      "cell_type": "code",
      "source": [
        "# Importaciones: Pygame, Opengl, y herramientas necesarias\n",
        "import pygame\n",
        "from pygame.locals import *\n",
        "\n",
        "# Cargamos las bibliotecas de OpenGL\n",
        "from OpenGL.GL import *\n",
        "from OpenGL.GLU import *\n",
        "from OpenGL.GLUT import *\n",
        "\n",
        "import numpy as np\n",
        "import random\n",
        "import math"
      ],
      "metadata": {
        "id": "YMQMZN-tBvzz"
      },
      "execution_count": null,
      "outputs": []
    },
    {
      "cell_type": "markdown",
      "source": [
        "### Clase Cubo\n",
        "\n",
        "Aquí se agregan métodos para inicializar, dibujado y trazado del cubo."
      ],
      "metadata": {
        "id": "tZoXS4_uCEBT"
      }
    },
    {
      "cell_type": "code",
      "source": [
        "class Cubo:\n",
        "\n",
        "    # Solo se inicializa una positión inicial, así como los puntos del cubo\n",
        "    def __init__(self, init_pos=(0,0,0)):\n",
        "        self.points = np.array([[-1.0,-1.0, 1.0], [1.0,-1.0, 1.0], [1.0,-1.0,-1.0], [-1.0,-1.0,-1.0],\n",
        "                                [-1.0, 1.0, 1.0], [1.0, 1.0, 1.0], [1.0, 1.0,-1.0], [-1.0, 1.0,-1.0]])\n",
        "\n",
        "        self.Position = list(init_pos)\n",
        "\n",
        "    # Dibujado de las caras del cubo\n",
        "    def drawFaces(self):\n",
        "        glBegin(GL_QUADS)\n",
        "        glVertex3fv(self.points[0])\n",
        "        glVertex3fv(self.points[1])\n",
        "        glVertex3fv(self.points[2])\n",
        "        glVertex3fv(self.points[3])\n",
        "        glEnd()\n",
        "        glBegin(GL_QUADS)\n",
        "        glVertex3fv(self.points[4])\n",
        "        glVertex3fv(self.points[5])\n",
        "        glVertex3fv(self.points[6])\n",
        "        glVertex3fv(self.points[7])\n",
        "        glEnd()\n",
        "        glBegin(GL_QUADS)\n",
        "        glVertex3fv(self.points[0])\n",
        "        glVertex3fv(self.points[1])\n",
        "        glVertex3fv(self.points[5])\n",
        "        glVertex3fv(self.points[4])\n",
        "        glEnd()\n",
        "        glBegin(GL_QUADS)\n",
        "        glVertex3fv(self.points[1])\n",
        "        glVertex3fv(self.points[2])\n",
        "        glVertex3fv(self.points[6])\n",
        "        glVertex3fv(self.points[5])\n",
        "        glEnd()\n",
        "        glBegin(GL_QUADS)\n",
        "        glVertex3fv(self.points[2])\n",
        "        glVertex3fv(self.points[3])\n",
        "        glVertex3fv(self.points[7])\n",
        "        glVertex3fv(self.points[6])\n",
        "        glEnd()\n",
        "        glBegin(GL_QUADS)\n",
        "        glVertex3fv(self.points[3])\n",
        "        glVertex3fv(self.points[0])\n",
        "        glVertex3fv(self.points[4])\n",
        "        glVertex3fv(self.points[7])\n",
        "        glEnd()\n",
        "\n",
        "    # dibujado del cubo\n",
        "    def draw(self, Position, scale):\n",
        "        glPushMatrix()\n",
        "        glTranslatef(Position[0], Position[1], Position[2])\n",
        "        glScaled(scale,scale,scale)\n",
        "        glColor3f(1.0, 1.0, 1.0)\n",
        "        self.drawFaces()\n",
        "        glPopMatrix()\n",
        "\n",
        "\n",
        ""
      ],
      "metadata": {
        "id": "RA1W442wNE1A"
      },
      "execution_count": null,
      "outputs": []
    },
    {
      "cell_type": "markdown",
      "source": [
        "## Modelo\n",
        "\n",
        "Aquí se utilizan los módulos anteriores para instancias gráficamente los cubos de cada agente un el mundo 3D"
      ],
      "metadata": {
        "id": "9W7tHamANXPJ"
      }
    },
    {
      "cell_type": "markdown",
      "source": [
        "### Importaciones\n",
        "\n",
        "Se importa el framework de AgentPy, y los dos módulos construidos anteriormente."
      ],
      "metadata": {
        "id": "hwuXS_GDNkrJ"
      }
    },
    {
      "cell_type": "code",
      "source": [
        "import agentpy as ap\n",
        "import Cubo\n",
        "import PlanoCubos\n",
        "import math\n",
        "import random\n",
        "import pygame\n",
        "# importando un motor para presentar gráficas\n",
        "import matplotlib.pyplot as plt"
      ],
      "metadata": {
        "id": "Q_jTpJEYNj8L"
      },
      "execution_count": null,
      "outputs": []
    },
    {
      "cell_type": "markdown",
      "source": [
        "## CuboAgent"
      ],
      "metadata": {
        "id": "g85ob6aFN6jd"
      }
    },
    {
      "cell_type": "code",
      "source": [
        "class CuboAgent(ap.Agent):\n",
        "\n",
        "    def setup(self):\n",
        "        # iniciualización de variables\n",
        "        self.vel = self.model.p.vel\n",
        "        self.scale = self.model.p.Scale\n",
        "        self.radio = math.sqrt(self.scale*self.scale + self.scale*self.scale)\n",
        "        self.DimBoard = self.model.p.dim\n",
        "        #Se inicializa una posicion aleatoria en el tablero\n",
        "        self.Position = []\n",
        "        self.Position.append(random.randint(-1 * self.DimBoard, self.DimBoard))\n",
        "        self.Position.append(self.scale)\n",
        "        self.Position.append(random.randint(-1 * self.DimBoard, self.DimBoard))\n",
        "        #Se inicializa un vector de direccion aleatorio\n",
        "        self.Direction = []\n",
        "        self.Direction.append(random.random())\n",
        "        self.Direction.append(self.scale)\n",
        "        self.Direction.append(random.random())\n",
        "        #Se normaliza el vector de direccion\n",
        "        m = math.sqrt(self.Direction[0]*self.Direction[0] + self.Direction[2]*self.Direction[2])\n",
        "        self.Direction[0] /= m\n",
        "        self.Direction[2] /= m\n",
        "        #Se cambia la maginitud del vector direccion\n",
        "        self.Direction[0] *= self.vel\n",
        "        self.Direction[2] *= self.vel\n",
        "        #deteccion de colision\n",
        "        self.collision = False\n",
        "\n",
        "        # instanciar la representación gráfica de cubo\n",
        "        self.g_cubo = Cubo.Cubo(self.Position)\n",
        "        self.g_cubo.draw(self.Position,self.scale)\n",
        "        pass\n",
        "\n",
        "    # Cada iteración  se detectan colisiones, si hay una colisión, entonces\n",
        "    # se invierte la dirección (el cubo rebota)\n",
        "    def step(self):\n",
        "        self.collision = False\n",
        "        self.CollitionDetection()\n",
        "        if self.collision == False:\n",
        "            new_x = self.Position[0] + self.Direction[0]\n",
        "            new_z = self.Position[2] + self.Direction[2]\n",
        "        else:\n",
        "            self.Direction[2] *= -1.0\n",
        "            self.Direction[0] *= -1.0\n",
        "            new_x = self.Position[0] + self.Direction[0]\n",
        "            new_z = self.Position[2] + self.Direction[2]\n",
        "\n",
        "        # Se comprueba que los cubos estén dentro del plano\n",
        "        if(abs(new_x) <= self.DimBoard):\n",
        "            self.Position[0] = new_x\n",
        "        else:\n",
        "            self.Direction[0] *= -1.0\n",
        "            self.Position[0] += self.Direction[0]\n",
        "\n",
        "        if(abs(new_z) <= self.DimBoard):\n",
        "            self.Position[2] = new_z\n",
        "        else:\n",
        "            self.Direction[2] *= -1.0\n",
        "            self.Position[2] += self.Direction[2]\n",
        "        pass\n",
        "\n",
        "    # En el update se hace el dibujado de la instancia gráfica del cubo\n",
        "    def update(self):\n",
        "        self.g_cubo.draw(self.Position, self.scale)\n",
        "\n",
        "    # método para detección de colisiones\n",
        "    def CollitionDetection(self):\n",
        "        # Por cada agente en el modelo...\n",
        "        for ag in self.model.cubos:\n",
        "            # Si el id del agente no es el mismo...\n",
        "            if self.id != ag.id:\n",
        "                # Calcular distancias (con todo y colider)\n",
        "                d_x = self.Position[0] - ag.Position[0]\n",
        "                d_z = self.Position[2] - ag.Position[2]\n",
        "                d_c = math.sqrt(d_x * d_x + d_z * d_z)\n",
        "                if d_c - (self.radio + ag.radio) < 0.0:\n",
        "                    self.collision = True\n",
        "                    # Más uno a la cantidad de colisiones por step\n",
        "                    self.model.collisions += 1"
      ],
      "metadata": {
        "id": "UXb6MxogOcaA"
      },
      "execution_count": null,
      "outputs": []
    },
    {
      "cell_type": "markdown",
      "source": [
        "### Cubo Model"
      ],
      "metadata": {
        "id": "iBbYUFEHWa7B"
      }
    },
    {
      "cell_type": "code",
      "source": [
        "class CuboModel(ap.Model):\n",
        "\n",
        "    def setup(self):\n",
        "        # Inicialización de Agentes\n",
        "        self.cubos = ap.AgentList(self,self.p.cubos,CuboAgent)\n",
        "        self.collisions = 0 # Contador de colisiones\n",
        "        pass\n",
        "\n",
        "    def step(self):\n",
        "        # Llamar a cada step de los agentes\n",
        "        self.cubos.step()\n",
        "        pass\n",
        "\n",
        "    def update(self):\n",
        "        # Dibujado de cada agente\n",
        "        self.cubos.update()\n",
        "        # Registro de datos: Cantidad de colisiones por step\n",
        "        self.record('Cantidad de colisiones', self.collisions)\n",
        "        self.collisions = 0 # Reinicio de contador\n",
        "        pass\n",
        "\n",
        "    def end(self):\n",
        "        pass"
      ],
      "metadata": {
        "id": "S7CykXWqWT4S"
      },
      "execution_count": null,
      "outputs": []
    },
    {
      "cell_type": "markdown",
      "source": [
        "## **Main**"
      ],
      "metadata": {
        "id": "y5hobFzpW68Q"
      }
    },
    {
      "cell_type": "code",
      "source": [
        "# Definición de parámetros de la simulación\n",
        "\n",
        "parameters = {\n",
        "   'cubos' : 100,\n",
        "   'dim' : 200,\n",
        "   'vel' : 2.0,\n",
        "   'Scale' : 5.0,\n",
        "   #'steps' : 100\n",
        "}\n",
        "\n",
        "model = CuboModel(parameters) # instanciación de Cubo Model\n",
        "\n",
        "done = False # Flag de detención de la app\n",
        "PlanoCubos.Init() # Inicialización del mundo gráfico\n",
        "model.sim_setup() # Inicialización manual de Simulación\n",
        "\n",
        "# Ciclo principal\n",
        "while not done:\n",
        "    # Si se ha cerrado la aplicación, activar flags\n",
        "    for event in pygame.event.get():\n",
        "        if event.type == pygame.QUIT:\n",
        "            done = True # Flag de dentención\n",
        "            model.stop() # Llamar a detención de simulación manualmente\n",
        "            model.create_output() # Crear registro manualmente\n",
        "            # Agregar información al registro postSimulación\n",
        "            model.output.info['Mensaje'] = 'Puedes añadir información al registro de esta forma.'\n",
        "\n",
        "    # Dibujado del mundo gráfico\n",
        "    PlanoCubos.display(parameters['dim'])\n",
        "\n",
        "    # Si la simulación está corriendo...\n",
        "    if model.running:\n",
        "        # Llamar a la iteración de la simulación manualmente\n",
        "        model.sim_step()\n",
        "\n",
        "\n",
        "    pygame.display.flip()\n",
        "    pygame.time.wait(10)\n",
        "\n",
        "pygame.quit() # Finalizar entorno gráfico\n",
        "\n",
        "print(model.output.info)\n",
        "# Graficar variable registrada\n",
        "model.output.variables.CuboModel.plot()\n",
        "plt.show()"
      ],
      "metadata": {
        "id": "965PRoKMW95z"
      },
      "execution_count": null,
      "outputs": []
    }
  ]
}